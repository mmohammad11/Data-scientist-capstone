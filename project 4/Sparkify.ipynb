{
 "cells": [
  {
   "cell_type": "markdown",
   "metadata": {},
   "source": [
    "# Sparkify Project Workspace\n",
    "This workspace contains a tiny subset (128MB) of the full dataset available (12GB). Feel free to use this workspace to build your project, or to explore a smaller subset with Spark before deploying your cluster on the cloud. Instructions for setting up your Spark cluster is included in the last lesson of the Extracurricular Spark Course content.\n",
    "\n",
    "You can follow the steps below to guide your data analysis and model building portion of this project."
   ]
  },
  {
   "cell_type": "code",
   "execution_count": 63,
   "metadata": {},
   "outputs": [],
   "source": [
    "# import libraries\n",
    "import pyspark\n",
    "from pyspark import SparkConf\n",
    "\n",
    "from pyspark.sql import SparkSession\n",
    "from pyspark.sql.functions import udf\n",
    "from pyspark.sql.functions import asc\n",
    "from pyspark.sql.functions import desc\n",
    "from pyspark.sql.functions import sum as Fsum\n",
    "\n",
    "from pyspark.sql.types import StringType\n",
    "from pyspark.sql.types import IntegerType\n",
    "from pyspark.sql import Window\n",
    "\n",
    "import seaborn as sns\n",
    "import datetime\n",
    "import numpy as np\n",
    "import pandas as pd\n",
    "%matplotlib inline\n",
    "import matplotlib.pyplot as plt\n"
   ]
  },
  {
   "cell_type": "code",
   "execution_count": 64,
   "metadata": {},
   "outputs": [],
   "source": [
    "from pyspark.ml.feature import RegexTokenizer, VectorAssembler, Normalizer, StandardScaler, CountVectorizer\n",
    "from pyspark.ml.classification import LogisticRegression, RandomForestClassifier, NaiveBayes\n",
    "from pyspark.ml.evaluation import MulticlassClassificationEvaluator\n",
    "from pyspark.ml.tuning import CrossValidator, ParamGridBuilder"
   ]
  },
  {
   "cell_type": "code",
   "execution_count": 65,
   "metadata": {},
   "outputs": [],
   "source": [
    "# create a Spark session\n",
    "spark = SparkSession \\\n",
    "        .builder \\\n",
    "        .appName('Sparkify Project') \\\n",
    "        .getOrCreate()"
   ]
  },
  {
   "cell_type": "markdown",
   "metadata": {},
   "source": [
    "# Load and Clean Dataset\n",
    "In this workspace, the mini-dataset file is `mini_sparkify_event_data.json`. Load and clean the dataset, checking for invalid or missing data - for example, records without userids or sessionids. "
   ]
  },
  {
   "cell_type": "code",
   "execution_count": 66,
   "metadata": {},
   "outputs": [],
   "source": [
    "path = 'mini_sparkify_event_data.json'\n",
    "df = spark.read.json(path)"
   ]
  },
  {
   "cell_type": "code",
   "execution_count": 67,
   "metadata": {},
   "outputs": [
    {
     "name": "stdout",
     "output_type": "stream",
     "text": [
      "root\n",
      " |-- artist: string (nullable = true)\n",
      " |-- auth: string (nullable = true)\n",
      " |-- firstName: string (nullable = true)\n",
      " |-- gender: string (nullable = true)\n",
      " |-- itemInSession: long (nullable = true)\n",
      " |-- lastName: string (nullable = true)\n",
      " |-- length: double (nullable = true)\n",
      " |-- level: string (nullable = true)\n",
      " |-- location: string (nullable = true)\n",
      " |-- method: string (nullable = true)\n",
      " |-- page: string (nullable = true)\n",
      " |-- registration: long (nullable = true)\n",
      " |-- sessionId: long (nullable = true)\n",
      " |-- song: string (nullable = true)\n",
      " |-- status: long (nullable = true)\n",
      " |-- ts: long (nullable = true)\n",
      " |-- userAgent: string (nullable = true)\n",
      " |-- userId: string (nullable = true)\n",
      "\n"
     ]
    }
   ],
   "source": [
    "#to see the columns in the data\n",
    "df.printSchema()"
   ]
  },
  {
   "cell_type": "code",
   "execution_count": 7,
   "metadata": {},
   "outputs": [
    {
     "data": {
      "text/plain": [
       "[Row(artist='Martha Tilston', auth='Logged In', firstName='Colin', gender='M', itemInSession=50, lastName='Freeman', length=277.89016, level='paid', location='Bakersfield, CA', method='PUT', page='NextSong', registration=1538173362000, sessionId=29, song='Rockpools', status=200, ts=1538352117000, userAgent='Mozilla/5.0 (Windows NT 6.1; WOW64; rv:31.0) Gecko/20100101 Firefox/31.0', userId='30'),\n",
       " Row(artist='Five Iron Frenzy', auth='Logged In', firstName='Micah', gender='M', itemInSession=79, lastName='Long', length=236.09424, level='free', location='Boston-Cambridge-Newton, MA-NH', method='PUT', page='NextSong', registration=1538331630000, sessionId=8, song='Canada', status=200, ts=1538352180000, userAgent='\"Mozilla/5.0 (Windows NT 6.1; WOW64) AppleWebKit/537.36 (KHTML, like Gecko) Chrome/37.0.2062.103 Safari/537.36\"', userId='9'),\n",
       " Row(artist='Adam Lambert', auth='Logged In', firstName='Colin', gender='M', itemInSession=51, lastName='Freeman', length=282.8273, level='paid', location='Bakersfield, CA', method='PUT', page='NextSong', registration=1538173362000, sessionId=29, song='Time For Miracles', status=200, ts=1538352394000, userAgent='Mozilla/5.0 (Windows NT 6.1; WOW64; rv:31.0) Gecko/20100101 Firefox/31.0', userId='30')]"
      ]
     },
     "execution_count": 7,
     "metadata": {},
     "output_type": "execute_result"
    }
   ],
   "source": [
    "#take a look at the first 3 row\n",
    "df.take(3)"
   ]
  },
  {
   "cell_type": "code",
   "execution_count": 68,
   "metadata": {},
   "outputs": [
    {
     "data": {
      "text/plain": [
       "286500"
      ]
     },
     "execution_count": 68,
     "metadata": {},
     "output_type": "execute_result"
    }
   ],
   "source": [
    "#how many rows in the dataset\n",
    "df.count()"
   ]
  },
  {
   "cell_type": "code",
   "execution_count": 123,
   "metadata": {},
   "outputs": [
    {
     "name": "stdout",
     "output_type": "stream",
     "text": [
      "+-------+-----------------+----------+---------+------+------------------+--------+------------------+------+-----------------+------+-------+--------------------+-----------------+--------------------+------------------+--------------------+--------------------+------------------+\n",
      "|summary|           artist|      auth|firstName|gender|     itemInSession|lastName|            length| level|         location|method|   page|        registration|        sessionId|                song|            status|                  ts|           userAgent|            userId|\n",
      "+-------+-----------------+----------+---------+------+------------------+--------+------------------+------+-----------------+------+-------+--------------------+-----------------+--------------------+------------------+--------------------+--------------------+------------------+\n",
      "|  count|           228108|    286500|   278154|278154|            286500|  278154|            228108|286500|           278154|286500| 286500|              278154|           286500|              228108|            286500|              286500|              278154|            286500|\n",
      "|   mean|551.0852017937219|      null|     null|  null|114.41421291448516|    null|249.11718197783375|  null|             null|  null|   null|1.535358834085557...|1041.526554973822|            Infinity|210.05459685863875|1.540956889810471...|                null| 59682.02278593872|\n",
      "| stddev|1217.769307916138|      null|     null|  null|129.76726201141108|    null| 99.23517921058324|  null|             null|  null|   null| 3.291321616327434E9|726.7762634630799|                 NaN| 31.50507848842204| 1.507543960819624E9|                null|109091.94999910535|\n",
      "|    min|              !!!| Cancelled| Adelaida|     F|                 0|   Adams|           0.78322|  free|       Albany, OR|   GET|  About|       1521380675000|                1|\u001c",
      "ÃÂg ÃÂtti Gr...|               200|       1538352117000|\"Mozilla/5.0 (Mac...|                  |\n",
      "|    max|ÃÂlafur Arnalds|Logged Out|   Zyonna|     M|              1321|  Wright|        3024.66567|  paid|Winston-Salem, NC|   PUT|Upgrade|       1543247354000|             2474|ÃÂau hafa slopp...|               404|       1543799476000|Mozilla/5.0 (comp...|                99|\n",
      "+-------+-----------------+----------+---------+------+------------------+--------+------------------+------+-----------------+------+-------+--------------------+-----------------+--------------------+------------------+--------------------+--------------------+------------------+\n",
      "\n"
     ]
    }
   ],
   "source": [
    "#to see basic statistics in our data\n",
    "df.describe().show()"
   ]
  },
  {
   "cell_type": "code",
   "execution_count": 124,
   "metadata": {},
   "outputs": [
    {
     "name": "stdout",
     "output_type": "stream",
     "text": [
      "+--------------------+\n",
      "|                page|\n",
      "+--------------------+\n",
      "|              Cancel|\n",
      "|    Submit Downgrade|\n",
      "|         Thumbs Down|\n",
      "|                Home|\n",
      "|           Downgrade|\n",
      "|         Roll Advert|\n",
      "|              Logout|\n",
      "|       Save Settings|\n",
      "|Cancellation Conf...|\n",
      "|               About|\n",
      "| Submit Registration|\n",
      "|            Settings|\n",
      "|               Login|\n",
      "|            Register|\n",
      "|     Add to Playlist|\n",
      "|          Add Friend|\n",
      "|            NextSong|\n",
      "|           Thumbs Up|\n",
      "|                Help|\n",
      "|             Upgrade|\n",
      "+--------------------+\n",
      "only showing top 20 rows\n",
      "\n"
     ]
    }
   ],
   "source": [
    "#let' see what page column include\n",
    "df.select(\"page\").distinct().show()"
   ]
  },
  {
   "cell_type": "code",
   "execution_count": 125,
   "metadata": {},
   "outputs": [
    {
     "name": "stdout",
     "output_type": "stream",
     "text": [
      "+-------+-----------------+\n",
      "|summary|        sessionId|\n",
      "+-------+-----------------+\n",
      "|  count|           286500|\n",
      "|   mean|1041.526554973822|\n",
      "| stddev|726.7762634630799|\n",
      "|    min|                1|\n",
      "|    max|             2474|\n",
      "+-------+-----------------+\n",
      "\n"
     ]
    }
   ],
   "source": [
    "#basic statistics for sessionid column\n",
    "df.describe(\"sessionId\").show()"
   ]
  },
  {
   "cell_type": "code",
   "execution_count": 126,
   "metadata": {},
   "outputs": [
    {
     "name": "stdout",
     "output_type": "stream",
     "text": [
      "+-------+------+\n",
      "|summary|gender|\n",
      "+-------+------+\n",
      "|  count|278154|\n",
      "|   mean|  null|\n",
      "| stddev|  null|\n",
      "|    min|     F|\n",
      "|    max|     M|\n",
      "+-------+------+\n",
      "\n"
     ]
    }
   ],
   "source": [
    "#let's se how many male and female in our dataset\n",
    "df.describe(\"gender\").show()"
   ]
  },
  {
   "cell_type": "code",
   "execution_count": 12,
   "metadata": {},
   "outputs": [
    {
     "data": {
      "text/plain": [
       "123576"
      ]
     },
     "execution_count": 12,
     "metadata": {},
     "output_type": "execute_result"
    }
   ],
   "source": [
    "m = df.select(['gender']).where(df.gender == \"M\").count()\n",
    "m"
   ]
  },
  {
   "cell_type": "markdown",
   "metadata": {},
   "source": [
    "As we can see we have 123576 male in our dataset"
   ]
  },
  {
   "cell_type": "code",
   "execution_count": 13,
   "metadata": {},
   "outputs": [
    {
     "data": {
      "text/plain": [
       "154578"
      ]
     },
     "execution_count": 13,
     "metadata": {},
     "output_type": "execute_result"
    }
   ],
   "source": [
    "f = df.select(['gender']).where(df.gender == \"F\").count()\n",
    "f"
   ]
  },
  {
   "cell_type": "markdown",
   "metadata": {},
   "source": [
    "As we can see we have 154578 female in our dataset"
   ]
  },
  {
   "cell_type": "code",
   "execution_count": 8,
   "metadata": {},
   "outputs": [],
   "source": [
    "#create lambda function to transform ts to hour\n",
    "get_hour = udf(lambda x: datetime.datetime.fromtimestamp(x / 1000.0).hour)"
   ]
  },
  {
   "cell_type": "code",
   "execution_count": 9,
   "metadata": {},
   "outputs": [],
   "source": [
    "#create hour column\n",
    "df = df.withColumn(\"hour\", get_hour(df.ts))"
   ]
  },
  {
   "cell_type": "code",
   "execution_count": 129,
   "metadata": {},
   "outputs": [
    {
     "data": {
      "text/plain": [
       "Row(artist='Martha Tilston', auth='Logged In', firstName='Colin', gender='M', itemInSession=50, lastName='Freeman', length=277.89016, level='paid', location='Bakersfield, CA', method='PUT', page='NextSong', registration=1538173362000, sessionId=29, song='Rockpools', status=200, ts=1538352117000, userAgent='Mozilla/5.0 (Windows NT 6.1; WOW64; rv:31.0) Gecko/20100101 Firefox/31.0', userId='30', hour='0')"
      ]
     },
     "execution_count": 129,
     "metadata": {},
     "output_type": "execute_result"
    }
   ],
   "source": [
    "#check if it's work\n",
    "df.head()"
   ]
  },
  {
   "cell_type": "code",
   "execution_count": 17,
   "metadata": {},
   "outputs": [
    {
     "name": "stdout",
     "output_type": "stream",
     "text": [
      "+-------+------------------+\n",
      "|summary|              hour|\n",
      "+-------+------------------+\n",
      "|  count|            286500|\n",
      "|   mean|12.204834205933683|\n",
      "| stddev| 6.864561452349638|\n",
      "|    min|                 0|\n",
      "|    max|                 9|\n",
      "+-------+------------------+\n",
      "\n"
     ]
    }
   ],
   "source": [
    "df.describe(\"hour\").show()"
   ]
  },
  {
   "cell_type": "code",
   "execution_count": 69,
   "metadata": {},
   "outputs": [],
   "source": [
    "#drop rows with missing values \n",
    "df_m = df.dropna(how = \"any\", subset = [\"userId\",\"sessionId\"])"
   ]
  },
  {
   "cell_type": "code",
   "execution_count": 70,
   "metadata": {},
   "outputs": [
    {
     "data": {
      "text/plain": [
       "286500"
      ]
     },
     "execution_count": 70,
     "metadata": {},
     "output_type": "execute_result"
    }
   ],
   "source": [
    "df_m.count()"
   ]
  },
  {
   "cell_type": "markdown",
   "metadata": {},
   "source": [
    "As we can see we have 286500 rows in the dataset, let's cleant it more by drop the duplicate rows"
   ]
  },
  {
   "cell_type": "code",
   "execution_count": 20,
   "metadata": {},
   "outputs": [
    {
     "name": "stdout",
     "output_type": "stream",
     "text": [
      "+------+\n",
      "|userId|\n",
      "+------+\n",
      "|      |\n",
      "|    10|\n",
      "|   100|\n",
      "|100001|\n",
      "|100002|\n",
      "|100003|\n",
      "|100004|\n",
      "|100005|\n",
      "|100006|\n",
      "|100007|\n",
      "|100008|\n",
      "|100009|\n",
      "|100010|\n",
      "|100011|\n",
      "|100012|\n",
      "|100013|\n",
      "|100014|\n",
      "|100015|\n",
      "|100016|\n",
      "|100017|\n",
      "+------+\n",
      "only showing top 20 rows\n",
      "\n"
     ]
    }
   ],
   "source": [
    "#To see what sort of userid requests do we have\n",
    "#dropduplicate to see each kind once\n",
    "df_m.select('userId').dropDuplicates().sort(\"userId\").show()"
   ]
  },
  {
   "cell_type": "markdown",
   "metadata": {},
   "source": [
    "as we can see from above we have an empty string so i'll filter all the rows that has this empty string value "
   ]
  },
  {
   "cell_type": "code",
   "execution_count": 21,
   "metadata": {},
   "outputs": [
    {
     "data": {
      "text/plain": [
       "286500"
      ]
     },
     "execution_count": 21,
     "metadata": {},
     "output_type": "execute_result"
    }
   ],
   "source": [
    "df_m.count()"
   ]
  },
  {
   "cell_type": "code",
   "execution_count": 22,
   "metadata": {},
   "outputs": [
    {
     "data": {
      "text/plain": [
       "8346"
      ]
     },
     "execution_count": 22,
     "metadata": {},
     "output_type": "execute_result"
    }
   ],
   "source": [
    "df_m.filter(df_m[\"userId\"] == \"\").count()"
   ]
  },
  {
   "cell_type": "code",
   "execution_count": 71,
   "metadata": {},
   "outputs": [],
   "source": [
    "df_m = df_m.filter(df_m[\"userId\"] != \"\")"
   ]
  },
  {
   "cell_type": "code",
   "execution_count": 10,
   "metadata": {},
   "outputs": [
    {
     "name": "stdout",
     "output_type": "stream",
     "text": [
      "+------+\n",
      "|userId|\n",
      "+------+\n",
      "|    10|\n",
      "|   100|\n",
      "|100001|\n",
      "|100002|\n",
      "|100003|\n",
      "|100004|\n",
      "|100005|\n",
      "|100006|\n",
      "|100007|\n",
      "|100008|\n",
      "|100009|\n",
      "|100010|\n",
      "|100011|\n",
      "|100012|\n",
      "|100013|\n",
      "|100014|\n",
      "|100015|\n",
      "|100016|\n",
      "|100017|\n",
      "|100018|\n",
      "+------+\n",
      "only showing top 20 rows\n",
      "\n"
     ]
    }
   ],
   "source": [
    "#check if it's work\n",
    "df_m.select('userId').dropDuplicates().sort(\"userId\").show()"
   ]
  },
  {
   "cell_type": "code",
   "execution_count": 72,
   "metadata": {},
   "outputs": [
    {
     "data": {
      "text/plain": [
       "278154"
      ]
     },
     "execution_count": 72,
     "metadata": {},
     "output_type": "execute_result"
    }
   ],
   "source": [
    "df_m.count()"
   ]
  },
  {
   "cell_type": "code",
   "execution_count": 26,
   "metadata": {},
   "outputs": [
    {
     "data": {
      "text/plain": [
       "8346"
      ]
     },
     "execution_count": 26,
     "metadata": {},
     "output_type": "execute_result"
    }
   ],
   "source": [
    "286500 - 278154"
   ]
  },
  {
   "cell_type": "markdown",
   "metadata": {},
   "source": [
    "After we calculate our raws again, we will see that we remove 8346 raws from our data"
   ]
  },
  {
   "cell_type": "markdown",
   "metadata": {},
   "source": [
    "# Exploratory Data Analysis\n",
    "When you're working with the full dataset, perform EDA by loading a small subset of the data and doing basic manipulations within Spark. In this workspace, you are already provided a small subset of data you can explore.\n",
    "\n",
    "### Define Churn\n",
    "\n",
    "Once you've done some preliminary analysis, create a column `Churn` to use as the label for your model. I suggest using the `Cancellation Confirmation` events to define your churn, which happen for both paid and free users. As a bonus task, you can also look into the `Downgrade` events.\n",
    "\n",
    "### Explore Data\n",
    "Once you've defined churn, perform some exploratory data analysis to observe the behavior for users who stayed vs users who churned. You can start by exploring aggregates on these two groups of users, observing how much of a specific action they experienced per a certain time unit or number of songs played."
   ]
  },
  {
   "cell_type": "code",
   "execution_count": 27,
   "metadata": {},
   "outputs": [
    {
     "name": "stdout",
     "output_type": "stream",
     "text": [
      "+--------------------+\n",
      "|                page|\n",
      "+--------------------+\n",
      "|               About|\n",
      "|          Add Friend|\n",
      "|     Add to Playlist|\n",
      "|              Cancel|\n",
      "|Cancellation Conf...|\n",
      "|           Downgrade|\n",
      "|               Error|\n",
      "|                Help|\n",
      "|                Home|\n",
      "|              Logout|\n",
      "|            NextSong|\n",
      "|         Roll Advert|\n",
      "|       Save Settings|\n",
      "|            Settings|\n",
      "|    Submit Downgrade|\n",
      "|      Submit Upgrade|\n",
      "|         Thumbs Down|\n",
      "|           Thumbs Up|\n",
      "|             Upgrade|\n",
      "+--------------------+\n",
      "\n"
     ]
    }
   ],
   "source": [
    "#To see what sort of pages requests do we have\n",
    "#dropduplicate to see each kind once\n",
    "df_m.select('page').dropDuplicates().sort(\"page\").show()"
   ]
  },
  {
   "cell_type": "markdown",
   "metadata": {},
   "source": [
    "let's  see the users that downgrade thier service"
   ]
  },
  {
   "cell_type": "code",
   "execution_count": 28,
   "metadata": {},
   "outputs": [
    {
     "name": "stdout",
     "output_type": "stream",
     "text": [
      "+------+---------+---------+------+-------------+---------+------+-----+--------------------+------+----------------+-------------+---------+----+------+-------------+--------------------+------+----+\n",
      "|artist|     auth|firstName|gender|itemInSession| lastName|length|level|            location|method|            page| registration|sessionId|song|status|           ts|           userAgent|userId|hour|\n",
      "+------+---------+---------+------+-------------+---------+------+-----+--------------------+------+----------------+-------------+---------+----+------+-------------+--------------------+------+----+\n",
      "|  null|Logged In|     Kael|     M|           47|    Baker|  null| paid|Kingsport-Bristol...|   PUT|Submit Downgrade|1533102330000|      249|null|   307|1538393619000|\"Mozilla/5.0 (Mac...|   131|  11|\n",
      "|  null|Logged In|   Calvin|     M|           17| Marshall|  null| paid|      Pittsburgh, PA|   PUT|Submit Downgrade|1537120757000|      313|null|   307|1538516445000|\"Mozilla/5.0 (Mac...|    38|  21|\n",
      "|  null|Logged In|  Kaylenn|     F|          354|  Jenkins|  null| paid|           Price, UT|   PUT|Submit Downgrade|1535903878000|      479|null|   307|1538835479000|\"Mozilla/5.0 (Mac...|   141|  14|\n",
      "|  null|Logged In|    Colin|     M|          214|  Freeman|  null| paid|     Bakersfield, CA|   PUT|Submit Downgrade|1538173362000|      532|null|   307|1538995454000|Mozilla/5.0 (Wind...|    30|  10|\n",
      "|  null|Logged In|  Destiny|     F|            2|  Herring|  null| paid|Miami-Fort Lauder...|   PUT|Submit Downgrade|1536844410000|      378|null|   307|1538997356000|\"Mozilla/5.0 (Win...|    20|  11|\n",
      "|  null|Logged In|   Sophia|     F|           42|    Perry|  null| paid|Los Angeles-Long ...|   PUT|Submit Downgrade|1533885783000|      632|null|   307|1539144047000|Mozilla/5.0 (Wind...|    12|   4|\n",
      "|  null|Logged In|      Zoe|     F|           23|    Patel|  null| paid|Providence-Warwic...|   PUT|Submit Downgrade|1532554781000|      487|null|   307|1539239742000|Mozilla/5.0 (Wind...|    11|   6|\n",
      "|  null|Logged In|   Parker|     M|          636| Williams|  null| paid|San Francisco-Oak...|   PUT|Submit Downgrade|1537188538000|      529|null|   307|1539244188000|\"Mozilla/5.0 (iPh...|    61|   7|\n",
      "|  null|Logged In|   Oliver|     M|           89|  Gilbert|  null| paid|Philadelphia-Camd...|   PUT|Submit Downgrade|1535093367000|      725|null|   307|1539264337000|\"Mozilla/5.0 (Mac...|    81|  13|\n",
      "|  null|Logged In|  Brayden|     M|          113|   Thomas|  null| paid|Los Angeles-Long ...|   PUT|Submit Downgrade|1534133898000|      734|null|   307|1539335599000|\"Mozilla/5.0 (Mac...|    85|   9|\n",
      "|  null|Logged In|   Lucero|     F|           19|     Reed|  null| paid|Louisville/Jeffer...|   PUT|Submit Downgrade|1536642109000|      753|null|   307|1539337383000|\"Mozilla/5.0 (Win...|   140|   9|\n",
      "|  null|Logged In|     Lily|     F|           69|  Barnett|  null| paid|Washington-Arling...|   PUT|Submit Downgrade|1537053412000|      812|null|   307|1539467798000|\"Mozilla/5.0 (Mac...|    35|  21|\n",
      "|  null|Logged In|    Alexi|     F|           41|   Warren|  null| paid|Spokane-Spokane V...|   PUT|Submit Downgrade|1532482662000|      859|null|   307|1539608060000|Mozilla/5.0 (Wind...|    54|  12|\n",
      "|  null|Logged In|   Autumn|     F|           53|   Martin|  null| paid|     Gainesville, FL|   PUT|Submit Downgrade|1537749786000|      688|null|   307|1539608338000|\"Mozilla/5.0 (Win...|    77|  12|\n",
      "|  null|Logged In|   Jaleel|     M|          180|Maldonado|  null| paid|         Boulder, CO|   PUT|Submit Downgrade|1537890437000|      510|null|   307|1539633167000|Mozilla/5.0 (Wind...|    59|  19|\n",
      "|  null|Logged In|    Piper|     F|          210|  Nielsen|  null| paid|New York-Newark-J...|   PUT|Submit Downgrade|1537699856000|      865|null|   307|1539647785000|\"Mozilla/5.0 (Mac...|   103|  23|\n",
      "|  null|Logged In|    Faigy|     F|          101|     Howe|  null| paid|Phoenix-Mesa-Scot...|   PUT|Submit Downgrade|1538211832000|      826|null|   307|1539675894000|Mozilla/5.0 (Maci...|    95|   7|\n",
      "|  null|Logged In|  Ashlynn|     F|          303| Williams|  null| paid|     Tallahassee, FL|   PUT|Submit Downgrade|1537365219000|     1101|null|   307|1540235073000|\"Mozilla/5.0 (Mac...|    74|  19|\n",
      "|  null|Logged In|  Brayden|     M|          105|   Thomas|  null| paid|Los Angeles-Long ...|   PUT|Submit Downgrade|1534133898000|     1183|null|   307|1540383285000|\"Mozilla/5.0 (Mac...|    85|  12|\n",
      "|  null|Logged In|    Micah|     M|           11|     Long|  null| paid|Boston-Cambridge-...|   PUT|Submit Downgrade|1538331630000|     1276|null|   307|1540706007000|\"Mozilla/5.0 (Win...|     9|   5|\n",
      "+------+---------+---------+------+-------------+---------+------+-----+--------------------+------+----------------+-------------+---------+----+------+-------------+--------------------+------+----+\n",
      "only showing top 20 rows\n",
      "\n"
     ]
    }
   ],
   "source": [
    "#user downgrade their account\n",
    "df_m.filter(\"page == 'Submit Downgrade'\").show()"
   ]
  },
  {
   "cell_type": "markdown",
   "metadata": {},
   "source": [
    "let's pick a user randomly to see the history of this user"
   ]
  },
  {
   "cell_type": "code",
   "execution_count": 29,
   "metadata": {},
   "outputs": [
    {
     "data": {
      "text/plain": [
       "[Row(userId='30', sessionId=29, firstName='Colin', level='paid', page='NextSong'),\n",
       " Row(userId='30', sessionId=29, firstName='Colin', level='paid', page='NextSong'),\n",
       " Row(userId='30', sessionId=29, firstName='Colin', level='paid', page='NextSong'),\n",
       " Row(userId='30', sessionId=29, firstName='Colin', level='paid', page='NextSong'),\n",
       " Row(userId='30', sessionId=29, firstName='Colin', level='paid', page='Add to Playlist'),\n",
       " Row(userId='30', sessionId=29, firstName='Colin', level='paid', page='NextSong'),\n",
       " Row(userId='30', sessionId=29, firstName='Colin', level='paid', page='NextSong'),\n",
       " Row(userId='30', sessionId=29, firstName='Colin', level='paid', page='NextSong'),\n",
       " Row(userId='30', sessionId=29, firstName='Colin', level='paid', page='NextSong'),\n",
       " Row(userId='30', sessionId=29, firstName='Colin', level='paid', page='NextSong'),\n",
       " Row(userId='30', sessionId=29, firstName='Colin', level='paid', page='NextSong'),\n",
       " Row(userId='30', sessionId=29, firstName='Colin', level='paid', page='NextSong'),\n",
       " Row(userId='30', sessionId=29, firstName='Colin', level='paid', page='NextSong'),\n",
       " Row(userId='30', sessionId=29, firstName='Colin', level='paid', page='NextSong'),\n",
       " Row(userId='30', sessionId=29, firstName='Colin', level='paid', page='NextSong'),\n",
       " Row(userId='30', sessionId=29, firstName='Colin', level='paid', page='NextSong'),\n",
       " Row(userId='30', sessionId=29, firstName='Colin', level='paid', page='NextSong'),\n",
       " Row(userId='30', sessionId=29, firstName='Colin', level='paid', page='NextSong'),\n",
       " Row(userId='30', sessionId=29, firstName='Colin', level='paid', page='NextSong'),\n",
       " Row(userId='30', sessionId=29, firstName='Colin', level='paid', page='NextSong'),\n",
       " Row(userId='30', sessionId=29, firstName='Colin', level='paid', page='NextSong'),\n",
       " Row(userId='30', sessionId=29, firstName='Colin', level='paid', page='Thumbs Down'),\n",
       " Row(userId='30', sessionId=29, firstName='Colin', level='paid', page='NextSong'),\n",
       " Row(userId='30', sessionId=29, firstName='Colin', level='paid', page='NextSong'),\n",
       " Row(userId='30', sessionId=29, firstName='Colin', level='paid', page='NextSong'),\n",
       " Row(userId='30', sessionId=29, firstName='Colin', level='paid', page='NextSong'),\n",
       " Row(userId='30', sessionId=29, firstName='Colin', level='paid', page='NextSong'),\n",
       " Row(userId='30', sessionId=29, firstName='Colin', level='paid', page='Thumbs Up'),\n",
       " Row(userId='30', sessionId=29, firstName='Colin', level='paid', page='NextSong'),\n",
       " Row(userId='30', sessionId=29, firstName='Colin', level='paid', page='Thumbs Up'),\n",
       " Row(userId='30', sessionId=29, firstName='Colin', level='paid', page='NextSong'),\n",
       " Row(userId='30', sessionId=29, firstName='Colin', level='paid', page='NextSong'),\n",
       " Row(userId='30', sessionId=29, firstName='Colin', level='paid', page='NextSong'),\n",
       " Row(userId='30', sessionId=29, firstName='Colin', level='paid', page='NextSong'),\n",
       " Row(userId='30', sessionId=29, firstName='Colin', level='paid', page='NextSong'),\n",
       " Row(userId='30', sessionId=29, firstName='Colin', level='paid', page='NextSong'),\n",
       " Row(userId='30', sessionId=29, firstName='Colin', level='paid', page='Roll Advert'),\n",
       " Row(userId='30', sessionId=29, firstName='Colin', level='paid', page='NextSong'),\n",
       " Row(userId='30', sessionId=29, firstName='Colin', level='paid', page='NextSong'),\n",
       " Row(userId='30', sessionId=29, firstName='Colin', level='paid', page='NextSong'),\n",
       " Row(userId='30', sessionId=29, firstName='Colin', level='paid', page='NextSong'),\n",
       " Row(userId='30', sessionId=29, firstName='Colin', level='paid', page='Add to Playlist'),\n",
       " Row(userId='30', sessionId=264, firstName='Colin', level='paid', page='NextSong'),\n",
       " Row(userId='30', sessionId=264, firstName='Colin', level='paid', page='Add Friend'),\n",
       " Row(userId='30', sessionId=532, firstName='Colin', level='paid', page='Home'),\n",
       " Row(userId='30', sessionId=532, firstName='Colin', level='paid', page='NextSong'),\n",
       " Row(userId='30', sessionId=532, firstName='Colin', level='paid', page='NextSong'),\n",
       " Row(userId='30', sessionId=532, firstName='Colin', level='paid', page='NextSong'),\n",
       " Row(userId='30', sessionId=532, firstName='Colin', level='paid', page='NextSong'),\n",
       " Row(userId='30', sessionId=532, firstName='Colin', level='paid', page='NextSong'),\n",
       " Row(userId='30', sessionId=532, firstName='Colin', level='paid', page='NextSong'),\n",
       " Row(userId='30', sessionId=532, firstName='Colin', level='paid', page='NextSong'),\n",
       " Row(userId='30', sessionId=532, firstName='Colin', level='paid', page='NextSong'),\n",
       " Row(userId='30', sessionId=532, firstName='Colin', level='paid', page='NextSong'),\n",
       " Row(userId='30', sessionId=532, firstName='Colin', level='paid', page='NextSong'),\n",
       " Row(userId='30', sessionId=532, firstName='Colin', level='paid', page='Help'),\n",
       " Row(userId='30', sessionId=532, firstName='Colin', level='paid', page='Home'),\n",
       " Row(userId='30', sessionId=532, firstName='Colin', level='paid', page='NextSong'),\n",
       " Row(userId='30', sessionId=532, firstName='Colin', level='paid', page='NextSong'),\n",
       " Row(userId='30', sessionId=532, firstName='Colin', level='paid', page='NextSong'),\n",
       " Row(userId='30', sessionId=532, firstName='Colin', level='paid', page='NextSong'),\n",
       " Row(userId='30', sessionId=532, firstName='Colin', level='paid', page='NextSong'),\n",
       " Row(userId='30', sessionId=532, firstName='Colin', level='paid', page='NextSong'),\n",
       " Row(userId='30', sessionId=532, firstName='Colin', level='paid', page='NextSong'),\n",
       " Row(userId='30', sessionId=532, firstName='Colin', level='paid', page='NextSong'),\n",
       " Row(userId='30', sessionId=532, firstName='Colin', level='paid', page='NextSong'),\n",
       " Row(userId='30', sessionId=532, firstName='Colin', level='paid', page='NextSong'),\n",
       " Row(userId='30', sessionId=532, firstName='Colin', level='paid', page='NextSong'),\n",
       " Row(userId='30', sessionId=532, firstName='Colin', level='paid', page='NextSong'),\n",
       " Row(userId='30', sessionId=532, firstName='Colin', level='paid', page='NextSong'),\n",
       " Row(userId='30', sessionId=532, firstName='Colin', level='paid', page='Downgrade'),\n",
       " Row(userId='30', sessionId=532, firstName='Colin', level='paid', page='NextSong'),\n",
       " Row(userId='30', sessionId=532, firstName='Colin', level='paid', page='NextSong'),\n",
       " Row(userId='30', sessionId=532, firstName='Colin', level='paid', page='NextSong'),\n",
       " Row(userId='30', sessionId=532, firstName='Colin', level='paid', page='NextSong'),\n",
       " Row(userId='30', sessionId=532, firstName='Colin', level='paid', page='NextSong'),\n",
       " Row(userId='30', sessionId=532, firstName='Colin', level='paid', page='NextSong'),\n",
       " Row(userId='30', sessionId=532, firstName='Colin', level='paid', page='NextSong'),\n",
       " Row(userId='30', sessionId=532, firstName='Colin', level='paid', page='NextSong'),\n",
       " Row(userId='30', sessionId=532, firstName='Colin', level='paid', page='NextSong'),\n",
       " Row(userId='30', sessionId=532, firstName='Colin', level='paid', page='NextSong'),\n",
       " Row(userId='30', sessionId=532, firstName='Colin', level='paid', page='NextSong'),\n",
       " Row(userId='30', sessionId=532, firstName='Colin', level='paid', page='NextSong'),\n",
       " Row(userId='30', sessionId=532, firstName='Colin', level='paid', page='NextSong'),\n",
       " Row(userId='30', sessionId=532, firstName='Colin', level='paid', page='NextSong'),\n",
       " Row(userId='30', sessionId=532, firstName='Colin', level='paid', page='NextSong'),\n",
       " Row(userId='30', sessionId=532, firstName='Colin', level='paid', page='NextSong'),\n",
       " Row(userId='30', sessionId=532, firstName='Colin', level='paid', page='NextSong'),\n",
       " Row(userId='30', sessionId=532, firstName='Colin', level='paid', page='NextSong'),\n",
       " Row(userId='30', sessionId=532, firstName='Colin', level='paid', page='NextSong'),\n",
       " Row(userId='30', sessionId=532, firstName='Colin', level='paid', page='NextSong'),\n",
       " Row(userId='30', sessionId=532, firstName='Colin', level='paid', page='NextSong'),\n",
       " Row(userId='30', sessionId=532, firstName='Colin', level='paid', page='NextSong'),\n",
       " Row(userId='30', sessionId=532, firstName='Colin', level='paid', page='NextSong'),\n",
       " Row(userId='30', sessionId=532, firstName='Colin', level='paid', page='NextSong'),\n",
       " Row(userId='30', sessionId=532, firstName='Colin', level='paid', page='NextSong'),\n",
       " Row(userId='30', sessionId=532, firstName='Colin', level='paid', page='NextSong'),\n",
       " Row(userId='30', sessionId=532, firstName='Colin', level='paid', page='NextSong'),\n",
       " Row(userId='30', sessionId=532, firstName='Colin', level='paid', page='NextSong'),\n",
       " Row(userId='30', sessionId=532, firstName='Colin', level='paid', page='NextSong'),\n",
       " Row(userId='30', sessionId=532, firstName='Colin', level='paid', page='NextSong'),\n",
       " Row(userId='30', sessionId=532, firstName='Colin', level='paid', page='NextSong'),\n",
       " Row(userId='30', sessionId=532, firstName='Colin', level='paid', page='NextSong'),\n",
       " Row(userId='30', sessionId=532, firstName='Colin', level='paid', page='NextSong'),\n",
       " Row(userId='30', sessionId=532, firstName='Colin', level='paid', page='NextSong'),\n",
       " Row(userId='30', sessionId=532, firstName='Colin', level='paid', page='NextSong'),\n",
       " Row(userId='30', sessionId=532, firstName='Colin', level='paid', page='NextSong'),\n",
       " Row(userId='30', sessionId=532, firstName='Colin', level='paid', page='NextSong'),\n",
       " Row(userId='30', sessionId=532, firstName='Colin', level='paid', page='NextSong'),\n",
       " Row(userId='30', sessionId=532, firstName='Colin', level='paid', page='NextSong'),\n",
       " Row(userId='30', sessionId=532, firstName='Colin', level='paid', page='NextSong'),\n",
       " Row(userId='30', sessionId=532, firstName='Colin', level='paid', page='Thumbs Up'),\n",
       " Row(userId='30', sessionId=532, firstName='Colin', level='paid', page='NextSong'),\n",
       " Row(userId='30', sessionId=532, firstName='Colin', level='paid', page='Thumbs Up'),\n",
       " Row(userId='30', sessionId=532, firstName='Colin', level='paid', page='NextSong'),\n",
       " Row(userId='30', sessionId=532, firstName='Colin', level='paid', page='NextSong'),\n",
       " Row(userId='30', sessionId=532, firstName='Colin', level='paid', page='NextSong'),\n",
       " Row(userId='30', sessionId=532, firstName='Colin', level='paid', page='NextSong'),\n",
       " Row(userId='30', sessionId=532, firstName='Colin', level='paid', page='NextSong'),\n",
       " Row(userId='30', sessionId=532, firstName='Colin', level='paid', page='NextSong'),\n",
       " Row(userId='30', sessionId=532, firstName='Colin', level='paid', page='NextSong'),\n",
       " Row(userId='30', sessionId=532, firstName='Colin', level='paid', page='NextSong'),\n",
       " Row(userId='30', sessionId=532, firstName='Colin', level='paid', page='Home'),\n",
       " Row(userId='30', sessionId=532, firstName='Colin', level='paid', page='NextSong'),\n",
       " Row(userId='30', sessionId=532, firstName='Colin', level='paid', page='NextSong'),\n",
       " Row(userId='30', sessionId=532, firstName='Colin', level='paid', page='NextSong'),\n",
       " Row(userId='30', sessionId=532, firstName='Colin', level='paid', page='NextSong'),\n",
       " Row(userId='30', sessionId=532, firstName='Colin', level='paid', page='NextSong'),\n",
       " Row(userId='30', sessionId=532, firstName='Colin', level='paid', page='NextSong'),\n",
       " Row(userId='30', sessionId=532, firstName='Colin', level='paid', page='NextSong'),\n",
       " Row(userId='30', sessionId=532, firstName='Colin', level='paid', page='Add to Playlist'),\n",
       " Row(userId='30', sessionId=532, firstName='Colin', level='paid', page='NextSong'),\n",
       " Row(userId='30', sessionId=532, firstName='Colin', level='paid', page='NextSong'),\n",
       " Row(userId='30', sessionId=532, firstName='Colin', level='paid', page='Thumbs Up'),\n",
       " Row(userId='30', sessionId=532, firstName='Colin', level='paid', page='Add to Playlist'),\n",
       " Row(userId='30', sessionId=532, firstName='Colin', level='paid', page='NextSong'),\n",
       " Row(userId='30', sessionId=532, firstName='Colin', level='paid', page='NextSong'),\n",
       " Row(userId='30', sessionId=532, firstName='Colin', level='paid', page='Thumbs Up'),\n",
       " Row(userId='30', sessionId=532, firstName='Colin', level='paid', page='Add to Playlist'),\n",
       " Row(userId='30', sessionId=532, firstName='Colin', level='paid', page='NextSong'),\n",
       " Row(userId='30', sessionId=532, firstName='Colin', level='paid', page='Add to Playlist'),\n",
       " Row(userId='30', sessionId=532, firstName='Colin', level='paid', page='NextSong'),\n",
       " Row(userId='30', sessionId=532, firstName='Colin', level='paid', page='NextSong'),\n",
       " Row(userId='30', sessionId=532, firstName='Colin', level='paid', page='NextSong'),\n",
       " Row(userId='30', sessionId=532, firstName='Colin', level='paid', page='NextSong'),\n",
       " Row(userId='30', sessionId=532, firstName='Colin', level='paid', page='NextSong'),\n",
       " Row(userId='30', sessionId=532, firstName='Colin', level='paid', page='NextSong'),\n",
       " Row(userId='30', sessionId=532, firstName='Colin', level='paid', page='NextSong'),\n",
       " Row(userId='30', sessionId=532, firstName='Colin', level='paid', page='NextSong'),\n",
       " Row(userId='30', sessionId=532, firstName='Colin', level='paid', page='Thumbs Up'),\n",
       " Row(userId='30', sessionId=532, firstName='Colin', level='paid', page='NextSong'),\n",
       " Row(userId='30', sessionId=532, firstName='Colin', level='paid', page='NextSong'),\n",
       " Row(userId='30', sessionId=532, firstName='Colin', level='paid', page='Home'),\n",
       " Row(userId='30', sessionId=532, firstName='Colin', level='paid', page='NextSong'),\n",
       " Row(userId='30', sessionId=532, firstName='Colin', level='paid', page='NextSong'),\n",
       " Row(userId='30', sessionId=532, firstName='Colin', level='paid', page='NextSong'),\n",
       " Row(userId='30', sessionId=532, firstName='Colin', level='paid', page='Add Friend'),\n",
       " Row(userId='30', sessionId=532, firstName='Colin', level='paid', page='NextSong'),\n",
       " Row(userId='30', sessionId=532, firstName='Colin', level='paid', page='NextSong'),\n",
       " Row(userId='30', sessionId=532, firstName='Colin', level='paid', page='NextSong'),\n",
       " Row(userId='30', sessionId=532, firstName='Colin', level='paid', page='NextSong'),\n",
       " Row(userId='30', sessionId=532, firstName='Colin', level='paid', page='Thumbs Up'),\n",
       " Row(userId='30', sessionId=532, firstName='Colin', level='paid', page='NextSong'),\n",
       " Row(userId='30', sessionId=532, firstName='Colin', level='paid', page='NextSong'),\n",
       " Row(userId='30', sessionId=532, firstName='Colin', level='paid', page='NextSong'),\n",
       " Row(userId='30', sessionId=532, firstName='Colin', level='paid', page='NextSong'),\n",
       " Row(userId='30', sessionId=532, firstName='Colin', level='paid', page='NextSong'),\n",
       " Row(userId='30', sessionId=532, firstName='Colin', level='paid', page='NextSong'),\n",
       " Row(userId='30', sessionId=532, firstName='Colin', level='paid', page='NextSong'),\n",
       " Row(userId='30', sessionId=532, firstName='Colin', level='paid', page='NextSong'),\n",
       " Row(userId='30', sessionId=532, firstName='Colin', level='paid', page='NextSong'),\n",
       " Row(userId='30', sessionId=532, firstName='Colin', level='paid', page='NextSong'),\n",
       " Row(userId='30', sessionId=532, firstName='Colin', level='paid', page='NextSong'),\n",
       " Row(userId='30', sessionId=532, firstName='Colin', level='paid', page='NextSong'),\n",
       " Row(userId='30', sessionId=532, firstName='Colin', level='paid', page='NextSong'),\n",
       " Row(userId='30', sessionId=532, firstName='Colin', level='paid', page='NextSong'),\n",
       " Row(userId='30', sessionId=532, firstName='Colin', level='paid', page='NextSong'),\n",
       " Row(userId='30', sessionId=532, firstName='Colin', level='paid', page='NextSong'),\n",
       " Row(userId='30', sessionId=532, firstName='Colin', level='paid', page='NextSong'),\n",
       " Row(userId='30', sessionId=532, firstName='Colin', level='paid', page='NextSong'),\n",
       " Row(userId='30', sessionId=532, firstName='Colin', level='paid', page='NextSong'),\n",
       " Row(userId='30', sessionId=532, firstName='Colin', level='paid', page='Thumbs Up'),\n",
       " Row(userId='30', sessionId=532, firstName='Colin', level='paid', page='NextSong'),\n",
       " Row(userId='30', sessionId=532, firstName='Colin', level='paid', page='Home'),\n",
       " Row(userId='30', sessionId=532, firstName='Colin', level='paid', page='NextSong'),\n",
       " Row(userId='30', sessionId=532, firstName='Colin', level='paid', page='NextSong'),\n",
       " Row(userId='30', sessionId=532, firstName='Colin', level='paid', page='NextSong'),\n",
       " Row(userId='30', sessionId=532, firstName='Colin', level='paid', page='NextSong'),\n",
       " Row(userId='30', sessionId=532, firstName='Colin', level='paid', page='NextSong'),\n",
       " Row(userId='30', sessionId=532, firstName='Colin', level='paid', page='Thumbs Up'),\n",
       " Row(userId='30', sessionId=532, firstName='Colin', level='paid', page='NextSong'),\n",
       " Row(userId='30', sessionId=532, firstName='Colin', level='paid', page='NextSong'),\n",
       " Row(userId='30', sessionId=532, firstName='Colin', level='paid', page='NextSong'),\n",
       " Row(userId='30', sessionId=532, firstName='Colin', level='paid', page='NextSong'),\n",
       " Row(userId='30', sessionId=532, firstName='Colin', level='paid', page='NextSong'),\n",
       " Row(userId='30', sessionId=532, firstName='Colin', level='paid', page='NextSong'),\n",
       " Row(userId='30', sessionId=532, firstName='Colin', level='paid', page='NextSong'),\n",
       " Row(userId='30', sessionId=532, firstName='Colin', level='paid', page='NextSong'),\n",
       " Row(userId='30', sessionId=532, firstName='Colin', level='paid', page='NextSong'),\n",
       " Row(userId='30', sessionId=532, firstName='Colin', level='paid', page='NextSong'),\n",
       " Row(userId='30', sessionId=532, firstName='Colin', level='paid', page='NextSong'),\n",
       " Row(userId='30', sessionId=532, firstName='Colin', level='paid', page='NextSong'),\n",
       " Row(userId='30', sessionId=532, firstName='Colin', level='paid', page='NextSong'),\n",
       " Row(userId='30', sessionId=532, firstName='Colin', level='paid', page='NextSong'),\n",
       " Row(userId='30', sessionId=532, firstName='Colin', level='paid', page='NextSong'),\n",
       " Row(userId='30', sessionId=532, firstName='Colin', level='paid', page='NextSong'),\n",
       " Row(userId='30', sessionId=532, firstName='Colin', level='paid', page='NextSong'),\n",
       " Row(userId='30', sessionId=532, firstName='Colin', level='paid', page='NextSong'),\n",
       " Row(userId='30', sessionId=532, firstName='Colin', level='paid', page='NextSong'),\n",
       " Row(userId='30', sessionId=532, firstName='Colin', level='paid', page='Thumbs Up'),\n",
       " Row(userId='30', sessionId=532, firstName='Colin', level='paid', page='NextSong'),\n",
       " Row(userId='30', sessionId=532, firstName='Colin', level='paid', page='NextSong'),\n",
       " Row(userId='30', sessionId=532, firstName='Colin', level='paid', page='Add Friend'),\n",
       " Row(userId='30', sessionId=532, firstName='Colin', level='paid', page='Add Friend'),\n",
       " Row(userId='30', sessionId=532, firstName='Colin', level='paid', page='NextSong'),\n",
       " Row(userId='30', sessionId=532, firstName='Colin', level='paid', page='Add to Playlist'),\n",
       " Row(userId='30', sessionId=532, firstName='Colin', level='paid', page='NextSong'),\n",
       " Row(userId='30', sessionId=532, firstName='Colin', level='paid', page='NextSong'),\n",
       " Row(userId='30', sessionId=532, firstName='Colin', level='paid', page='NextSong'),\n",
       " Row(userId='30', sessionId=532, firstName='Colin', level='paid', page='Settings'),\n",
       " Row(userId='30', sessionId=532, firstName='Colin', level='paid', page='NextSong'),\n",
       " Row(userId='30', sessionId=532, firstName='Colin', level='paid', page='NextSong'),\n",
       " Row(userId='30', sessionId=532, firstName='Colin', level='paid', page='NextSong'),\n",
       " Row(userId='30', sessionId=532, firstName='Colin', level='paid', page='NextSong'),\n",
       " Row(userId='30', sessionId=532, firstName='Colin', level='paid', page='Thumbs Up'),\n",
       " Row(userId='30', sessionId=532, firstName='Colin', level='paid', page='NextSong'),\n",
       " Row(userId='30', sessionId=532, firstName='Colin', level='paid', page='NextSong'),\n",
       " Row(userId='30', sessionId=532, firstName='Colin', level='paid', page='NextSong'),\n",
       " Row(userId='30', sessionId=532, firstName='Colin', level='paid', page='NextSong'),\n",
       " Row(userId='30', sessionId=532, firstName='Colin', level='paid', page='NextSong'),\n",
       " Row(userId='30', sessionId=532, firstName='Colin', level='paid', page='NextSong'),\n",
       " Row(userId='30', sessionId=532, firstName='Colin', level='paid', page='NextSong'),\n",
       " Row(userId='30', sessionId=532, firstName='Colin', level='paid', page='NextSong'),\n",
       " Row(userId='30', sessionId=532, firstName='Colin', level='paid', page='NextSong'),\n",
       " Row(userId='30', sessionId=532, firstName='Colin', level='paid', page='NextSong'),\n",
       " Row(userId='30', sessionId=532, firstName='Colin', level='paid', page='NextSong'),\n",
       " Row(userId='30', sessionId=532, firstName='Colin', level='paid', page='NextSong'),\n",
       " Row(userId='30', sessionId=532, firstName='Colin', level='paid', page='Add to Playlist'),\n",
       " Row(userId='30', sessionId=532, firstName='Colin', level='paid', page='NextSong'),\n",
       " Row(userId='30', sessionId=532, firstName='Colin', level='paid', page='NextSong'),\n",
       " Row(userId='30', sessionId=532, firstName='Colin', level='paid', page='Error'),\n",
       " Row(userId='30', sessionId=532, firstName='Colin', level='paid', page='NextSong'),\n",
       " Row(userId='30', sessionId=532, firstName='Colin', level='paid', page='NextSong'),\n",
       " Row(userId='30', sessionId=532, firstName='Colin', level='paid', page='NextSong'),\n",
       " Row(userId='30', sessionId=532, firstName='Colin', level='paid', page='NextSong'),\n",
       " Row(userId='30', sessionId=532, firstName='Colin', level='paid', page='NextSong'),\n",
       " Row(userId='30', sessionId=532, firstName='Colin', level='paid', page='NextSong'),\n",
       " Row(userId='30', sessionId=532, firstName='Colin', level='paid', page='NextSong'),\n",
       " Row(userId='30', sessionId=532, firstName='Colin', level='paid', page='NextSong'),\n",
       " Row(userId='30', sessionId=532, firstName='Colin', level='paid', page='NextSong'),\n",
       " Row(userId='30', sessionId=532, firstName='Colin', level='paid', page='NextSong'),\n",
       " Row(userId='30', sessionId=532, firstName='Colin', level='paid', page='Downgrade'),\n",
       " Row(userId='30', sessionId=532, firstName='Colin', level='paid', page='NextSong'),\n",
       " Row(userId='30', sessionId=532, firstName='Colin', level='paid', page='NextSong'),\n",
       " Row(userId='30', sessionId=532, firstName='Colin', level='paid', page='NextSong'),\n",
       " Row(userId='30', sessionId=532, firstName='Colin', level='paid', page='NextSong'),\n",
       " Row(userId='30', sessionId=532, firstName='Colin', level='paid', page='NextSong'),\n",
       " Row(userId='30', sessionId=532, firstName='Colin', level='paid', page='Downgrade'),\n",
       " Row(userId='30', sessionId=532, firstName='Colin', level='paid', page='Submit Downgrade'),\n",
       " Row(userId='30', sessionId=532, firstName='Colin', level='free', page='Home'),\n",
       " Row(userId='30', sessionId=532, firstName='Colin', level='free', page='NextSong'),\n",
       " Row(userId='30', sessionId=532, firstName='Colin', level='free', page='NextSong'),\n",
       " Row(userId='30', sessionId=532, firstName='Colin', level='free', page='NextSong'),\n",
       " Row(userId='30', sessionId=532, firstName='Colin', level='free', page='Add to Playlist'),\n",
       " Row(userId='30', sessionId=532, firstName='Colin', level='free', page='NextSong'),\n",
       " Row(userId='30', sessionId=532, firstName='Colin', level='free', page='NextSong'),\n",
       " Row(userId='30', sessionId=532, firstName='Colin', level='free', page='NextSong'),\n",
       " Row(userId='30', sessionId=532, firstName='Colin', level='free', page='Home'),\n",
       " Row(userId='30', sessionId=532, firstName='Colin', level='free', page='NextSong'),\n",
       " Row(userId='30', sessionId=532, firstName='Colin', level='free', page='NextSong'),\n",
       " Row(userId='30', sessionId=532, firstName='Colin', level='free', page='NextSong'),\n",
       " Row(userId='30', sessionId=532, firstName='Colin', level='free', page='NextSong'),\n",
       " Row(userId='30', sessionId=532, firstName='Colin', level='free', page='Thumbs Up'),\n",
       " Row(userId='30', sessionId=532, firstName='Colin', level='free', page='NextSong'),\n",
       " Row(userId='30', sessionId=532, firstName='Colin', level='free', page='Add to Playlist'),\n",
       " Row(userId='30', sessionId=532, firstName='Colin', level='free', page='NextSong'),\n",
       " Row(userId='30', sessionId=532, firstName='Colin', level='free', page='NextSong'),\n",
       " Row(userId='30', sessionId=532, firstName='Colin', level='free', page='NextSong'),\n",
       " Row(userId='30', sessionId=532, firstName='Colin', level='free', page='NextSong'),\n",
       " Row(userId='30', sessionId=532, firstName='Colin', level='free', page='NextSong'),\n",
       " Row(userId='30', sessionId=532, firstName='Colin', level='free', page='NextSong'),\n",
       " Row(userId='30', sessionId=532, firstName='Colin', level='free', page='NextSong'),\n",
       " Row(userId='30', sessionId=532, firstName='Colin', level='free', page='NextSong'),\n",
       " Row(userId='30', sessionId=532, firstName='Colin', level='free', page='NextSong'),\n",
       " Row(userId='30', sessionId=532, firstName='Colin', level='free', page='NextSong'),\n",
       " Row(userId='30', sessionId=532, firstName='Colin', level='free', page='NextSong'),\n",
       " Row(userId='30', sessionId=532, firstName='Colin', level='free', page='NextSong'),\n",
       " Row(userId='30', sessionId=532, firstName='Colin', level='free', page='Upgrade'),\n",
       " Row(userId='30', sessionId=532, firstName='Colin', level='free', page='NextSong'),\n",
       " Row(userId='30', sessionId=532, firstName='Colin', level='free', page='Upgrade'),\n",
       " Row(userId='30', sessionId=532, firstName='Colin', level='free', page='NextSong'),\n",
       " Row(userId='30', sessionId=532, firstName='Colin', level='free', page='NextSong'),\n",
       " Row(userId='30', sessionId=532, firstName='Colin', level='free', page='Add to Playlist'),\n",
       " Row(userId='30', sessionId=532, firstName='Colin', level='free', page='NextSong'),\n",
       " Row(userId='30', sessionId=532, firstName='Colin', level='free', page='NextSong'),\n",
       " Row(userId='30', sessionId=532, firstName='Colin', level='free', page='NextSong'),\n",
       " Row(userId='30', sessionId=532, firstName='Colin', level='free', page='NextSong'),\n",
       " Row(userId='30', sessionId=532, firstName='Colin', level='free', page='NextSong'),\n",
       " Row(userId='30', sessionId=532, firstName='Colin', level='free', page='NextSong'),\n",
       " Row(userId='30', sessionId=532, firstName='Colin', level='free', page='Thumbs Up'),\n",
       " Row(userId='30', sessionId=532, firstName='Colin', level='free', page='NextSong'),\n",
       " Row(userId='30', sessionId=532, firstName='Colin', level='free', page='NextSong'),\n",
       " Row(userId='30', sessionId=532, firstName='Colin', level='free', page='NextSong'),\n",
       " Row(userId='30', sessionId=532, firstName='Colin', level='free', page='Thumbs Up'),\n",
       " Row(userId='30', sessionId=532, firstName='Colin', level='free', page='NextSong'),\n",
       " Row(userId='30', sessionId=532, firstName='Colin', level='free', page='NextSong'),\n",
       " Row(userId='30', sessionId=532, firstName='Colin', level='free', page='NextSong'),\n",
       " Row(userId='30', sessionId=532, firstName='Colin', level='free', page='Roll Advert'),\n",
       " Row(userId='30', sessionId=532, firstName='Colin', level='free', page='NextSong'),\n",
       " Row(userId='30', sessionId=532, firstName='Colin', level='free', page='NextSong'),\n",
       " Row(userId='30', sessionId=532, firstName='Colin', level='free', page='NextSong'),\n",
       " Row(userId='30', sessionId=532, firstName='Colin', level='free', page='Add to Playlist'),\n",
       " Row(userId='30', sessionId=532, firstName='Colin', level='free', page='NextSong'),\n",
       " Row(userId='30', sessionId=532, firstName='Colin', level='free', page='Home'),\n",
       " Row(userId='30', sessionId=532, firstName='Colin', level='free', page='NextSong'),\n",
       " Row(userId='30', sessionId=532, firstName='Colin', level='free', page='NextSong'),\n",
       " Row(userId='30', sessionId=532, firstName='Colin', level='free', page='Thumbs Up'),\n",
       " Row(userId='30', sessionId=532, firstName='Colin', level='free', page='NextSong'),\n",
       " Row(userId='30', sessionId=532, firstName='Colin', level='free', page='NextSong'),\n",
       " Row(userId='30', sessionId=532, firstName='Colin', level='free', page='NextSong'),\n",
       " Row(userId='30', sessionId=532, firstName='Colin', level='free', page='NextSong'),\n",
       " Row(userId='30', sessionId=532, firstName='Colin', level='free', page='Add Friend'),\n",
       " Row(userId='30', sessionId=532, firstName='Colin', level='free', page='Add Friend'),\n",
       " Row(userId='30', sessionId=532, firstName='Colin', level='free', page='Home'),\n",
       " Row(userId='30', sessionId=532, firstName='Colin', level='free', page='NextSong'),\n",
       " Row(userId='30', sessionId=532, firstName='Colin', level='free', page='Roll Advert'),\n",
       " Row(userId='30', sessionId=532, firstName='Colin', level='free', page='NextSong'),\n",
       " Row(userId='30', sessionId=532, firstName='Colin', level='free', page='NextSong'),\n",
       " Row(userId='30', sessionId=532, firstName='Colin', level='free', page='NextSong'),\n",
       " Row(userId='30', sessionId=532, firstName='Colin', level='free', page='Home'),\n",
       " Row(userId='30', sessionId=532, firstName='Colin', level='free', page='NextSong'),\n",
       " Row(userId='30', sessionId=532, firstName='Colin', level='free', page='NextSong'),\n",
       " Row(userId='30', sessionId=532, firstName='Colin', level='free', page='NextSong'),\n",
       " Row(userId='30', sessionId=532, firstName='Colin', level='free', page='NextSong'),\n",
       " Row(userId='30', sessionId=614, firstName='Colin', level='free', page='Home'),\n",
       " Row(userId='30', sessionId=614, firstName='Colin', level='free', page='NextSong'),\n",
       " Row(userId='30', sessionId=614, firstName='Colin', level='free', page='NextSong'),\n",
       " Row(userId='30', sessionId=614, firstName='Colin', level='free', page='NextSong'),\n",
       " Row(userId='30', sessionId=614, firstName='Colin', level='free', page='NextSong'),\n",
       " Row(userId='30', sessionId=614, firstName='Colin', level='free', page='NextSong'),\n",
       " Row(userId='30', sessionId=682, firstName='Colin', level='free', page='Home'),\n",
       " Row(userId='30', sessionId=682, firstName='Colin', level='free', page='Home'),\n",
       " Row(userId='30', sessionId=757, firstName='Colin', level='free', page='Home'),\n",
       " Row(userId='30', sessionId=757, firstName='Colin', level='free', page='NextSong'),\n",
       " Row(userId='30', sessionId=757, firstName='Colin', level='free', page='NextSong'),\n",
       " Row(userId='30', sessionId=757, firstName='Colin', level='free', page='NextSong'),\n",
       " Row(userId='30', sessionId=757, firstName='Colin', level='free', page='NextSong'),\n",
       " Row(userId='30', sessionId=757, firstName='Colin', level='free', page='NextSong'),\n",
       " Row(userId='30', sessionId=757, firstName='Colin', level='free', page='NextSong'),\n",
       " Row(userId='30', sessionId=757, firstName='Colin', level='free', page='Roll Advert'),\n",
       " Row(userId='30', sessionId=757, firstName='Colin', level='free', page='NextSong'),\n",
       " Row(userId='30', sessionId=757, firstName='Colin', level='free', page='Upgrade'),\n",
       " Row(userId='30', sessionId=757, firstName='Colin', level='free', page='NextSong'),\n",
       " Row(userId='30', sessionId=757, firstName='Colin', level='free', page='NextSong'),\n",
       " Row(userId='30', sessionId=757, firstName='Colin', level='free', page='NextSong'),\n",
       " Row(userId='30', sessionId=757, firstName='Colin', level='free', page='NextSong'),\n",
       " Row(userId='30', sessionId=757, firstName='Colin', level='free', page='NextSong'),\n",
       " Row(userId='30', sessionId=757, firstName='Colin', level='free', page='NextSong'),\n",
       " Row(userId='30', sessionId=757, firstName='Colin', level='free', page='NextSong'),\n",
       " Row(userId='30', sessionId=757, firstName='Colin', level='free', page='NextSong'),\n",
       " Row(userId='30', sessionId=757, firstName='Colin', level='free', page='NextSong'),\n",
       " Row(userId='30', sessionId=757, firstName='Colin', level='free', page='NextSong'),\n",
       " Row(userId='30', sessionId=757, firstName='Colin', level='free', page='NextSong'),\n",
       " Row(userId='30', sessionId=757, firstName='Colin', level='free', page='Thumbs Up'),\n",
       " Row(userId='30', sessionId=757, firstName='Colin', level='free', page='NextSong'),\n",
       " Row(userId='30', sessionId=757, firstName='Colin', level='free', page='NextSong'),\n",
       " Row(userId='30', sessionId=757, firstName='Colin', level='free', page='NextSong'),\n",
       " Row(userId='30', sessionId=757, firstName='Colin', level='free', page='Roll Advert'),\n",
       " Row(userId='30', sessionId=757, firstName='Colin', level='free', page='Roll Advert'),\n",
       " Row(userId='30', sessionId=763, firstName='Colin', level='free', page='NextSong'),\n",
       " Row(userId='30', sessionId=763, firstName='Colin', level='free', page='NextSong'),\n",
       " Row(userId='30', sessionId=763, firstName='Colin', level='free', page='NextSong'),\n",
       " Row(userId='30', sessionId=763, firstName='Colin', level='free', page='NextSong'),\n",
       " Row(userId='30', sessionId=763, firstName='Colin', level='free', page='Roll Advert'),\n",
       " Row(userId='30', sessionId=763, firstName='Colin', level='free', page='NextSong'),\n",
       " Row(userId='30', sessionId=763, firstName='Colin', level='free', page='NextSong'),\n",
       " Row(userId='30', sessionId=763, firstName='Colin', level='free', page='NextSong'),\n",
       " Row(userId='30', sessionId=763, firstName='Colin', level='free', page='Thumbs Up'),\n",
       " Row(userId='30', sessionId=763, firstName='Colin', level='free', page='NextSong'),\n",
       " Row(userId='30', sessionId=763, firstName='Colin', level='free', page='NextSong'),\n",
       " Row(userId='30', sessionId=763, firstName='Colin', level='free', page='NextSong'),\n",
       " Row(userId='30', sessionId=763, firstName='Colin', level='free', page='NextSong'),\n",
       " Row(userId='30', sessionId=763, firstName='Colin', level='free', page='Roll Advert'),\n",
       " Row(userId='30', sessionId=763, firstName='Colin', level='free', page='NextSong'),\n",
       " Row(userId='30', sessionId=763, firstName='Colin', level='free', page='NextSong'),\n",
       " Row(userId='30', sessionId=763, firstName='Colin', level='free', page='NextSong'),\n",
       " Row(userId='30', sessionId=763, firstName='Colin', level='free', page='NextSong'),\n",
       " Row(userId='30', sessionId=763, firstName='Colin', level='free', page='NextSong'),\n",
       " Row(userId='30', sessionId=763, firstName='Colin', level='free', page='Thumbs Up'),\n",
       " Row(userId='30', sessionId=763, firstName='Colin', level='free', page='NextSong'),\n",
       " Row(userId='30', sessionId=763, firstName='Colin', level='free', page='NextSong'),\n",
       " Row(userId='30', sessionId=763, firstName='Colin', level='free', page='NextSong'),\n",
       " Row(userId='30', sessionId=763, firstName='Colin', level='free', page='NextSong'),\n",
       " Row(userId='30', sessionId=763, firstName='Colin', level='free', page='NextSong'),\n",
       " Row(userId='30', sessionId=763, firstName='Colin', level='free', page='NextSong'),\n",
       " Row(userId='30', sessionId=763, firstName='Colin', level='free', page='NextSong'),\n",
       " Row(userId='30', sessionId=763, firstName='Colin', level='free', page='Thumbs Up'),\n",
       " Row(userId='30', sessionId=763, firstName='Colin', level='free', page='NextSong'),\n",
       " Row(userId='30', sessionId=763, firstName='Colin', level='free', page='Upgrade'),\n",
       " Row(userId='30', sessionId=763, firstName='Colin', level='free', page='NextSong'),\n",
       " Row(userId='30', sessionId=763, firstName='Colin', level='free', page='Logout'),\n",
       " Row(userId='30', sessionId=816, firstName='Colin', level='free', page='Home'),\n",
       " Row(userId='30', sessionId=816, firstName='Colin', level='free', page='NextSong'),\n",
       " Row(userId='30', sessionId=816, firstName='Colin', level='free', page='Add to Playlist'),\n",
       " Row(userId='30', sessionId=816, firstName='Colin', level='free', page='NextSong'),\n",
       " Row(userId='30', sessionId=816, firstName='Colin', level='free', page='NextSong'),\n",
       " Row(userId='30', sessionId=816, firstName='Colin', level='free', page='NextSong'),\n",
       " Row(userId='30', sessionId=816, firstName='Colin', level='free', page='NextSong'),\n",
       " Row(userId='30', sessionId=816, firstName='Colin', level='free', page='NextSong'),\n",
       " Row(userId='30', sessionId=816, firstName='Colin', level='free', page='NextSong'),\n",
       " Row(userId='30', sessionId=816, firstName='Colin', level='free', page='NextSong'),\n",
       " Row(userId='30', sessionId=816, firstName='Colin', level='free', page='NextSong'),\n",
       " Row(userId='30', sessionId=816, firstName='Colin', level='free', page='NextSong'),\n",
       " Row(userId='30', sessionId=816, firstName='Colin', level='free', page='NextSong'),\n",
       " Row(userId='30', sessionId=816, firstName='Colin', level='free', page='Roll Advert'),\n",
       " Row(userId='30', sessionId=816, firstName='Colin', level='free', page='NextSong'),\n",
       " Row(userId='30', sessionId=816, firstName='Colin', level='free', page='NextSong'),\n",
       " Row(userId='30', sessionId=816, firstName='Colin', level='free', page='Home'),\n",
       " Row(userId='30', sessionId=816, firstName='Colin', level='free', page='NextSong'),\n",
       " Row(userId='30', sessionId=816, firstName='Colin', level='free', page='NextSong'),\n",
       " Row(userId='30', sessionId=816, firstName='Colin', level='free', page='NextSong'),\n",
       " Row(userId='30', sessionId=816, firstName='Colin', level='free', page='NextSong'),\n",
       " Row(userId='30', sessionId=816, firstName='Colin', level='free', page='NextSong'),\n",
       " Row(userId='30', sessionId=816, firstName='Colin', level='free', page='NextSong'),\n",
       " Row(userId='30', sessionId=816, firstName='Colin', level='free', page='Thumbs Up'),\n",
       " Row(userId='30', sessionId=816, firstName='Colin', level='free', page='NextSong'),\n",
       " Row(userId='30', sessionId=816, firstName='Colin', level='free', page='NextSong'),\n",
       " Row(userId='30', sessionId=816, firstName='Colin', level='free', page='NextSong'),\n",
       " Row(userId='30', sessionId=816, firstName='Colin', level='free', page='NextSong'),\n",
       " Row(userId='30', sessionId=816, firstName='Colin', level='free', page='Roll Advert'),\n",
       " Row(userId='30', sessionId=816, firstName='Colin', level='free', page='Logout'),\n",
       " Row(userId='30', sessionId=816, firstName='Colin', level='free', page='Home'),\n",
       " Row(userId='30', sessionId=816, firstName='Colin', level='free', page='NextSong'),\n",
       " Row(userId='30', sessionId=816, firstName='Colin', level='free', page='NextSong'),\n",
       " Row(userId='30', sessionId=816, firstName='Colin', level='free', page='NextSong'),\n",
       " Row(userId='30', sessionId=816, firstName='Colin', level='free', page='Roll Advert'),\n",
       " Row(userId='30', sessionId=816, firstName='Colin', level='free', page='Roll Advert'),\n",
       " Row(userId='30', sessionId=816, firstName='Colin', level='free', page='NextSong'),\n",
       " Row(userId='30', sessionId=816, firstName='Colin', level='free', page='NextSong'),\n",
       " Row(userId='30', sessionId=816, firstName='Colin', level='free', page='NextSong'),\n",
       " Row(userId='30', sessionId=816, firstName='Colin', level='free', page='Thumbs Up'),\n",
       " Row(userId='30', sessionId=816, firstName='Colin', level='free', page='NextSong'),\n",
       " Row(userId='30', sessionId=816, firstName='Colin', level='free', page='NextSong'),\n",
       " Row(userId='30', sessionId=816, firstName='Colin', level='free', page='NextSong'),\n",
       " Row(userId='30', sessionId=816, firstName='Colin', level='free', page='NextSong'),\n",
       " Row(userId='30', sessionId=816, firstName='Colin', level='free', page='NextSong'),\n",
       " Row(userId='30', sessionId=816, firstName='Colin', level='free', page='NextSong'),\n",
       " Row(userId='30', sessionId=816, firstName='Colin', level='free', page='NextSong'),\n",
       " Row(userId='30', sessionId=816, firstName='Colin', level='free', page='NextSong'),\n",
       " Row(userId='30', sessionId=816, firstName='Colin', level='free', page='NextSong'),\n",
       " Row(userId='30', sessionId=816, firstName='Colin', level='free', page='NextSong'),\n",
       " Row(userId='30', sessionId=816, firstName='Colin', level='free', page='Roll Advert'),\n",
       " Row(userId='30', sessionId=816, firstName='Colin', level='free', page='NextSong'),\n",
       " Row(userId='30', sessionId=816, firstName='Colin', level='free', page='NextSong'),\n",
       " Row(userId='30', sessionId=816, firstName='Colin', level='free', page='Add to Playlist'),\n",
       " Row(userId='30', sessionId=816, firstName='Colin', level='free', page='NextSong'),\n",
       " Row(userId='30', sessionId=816, firstName='Colin', level='free', page='NextSong'),\n",
       " Row(userId='30', sessionId=816, firstName='Colin', level='free', page='NextSong'),\n",
       " Row(userId='30', sessionId=816, firstName='Colin', level='free', page='NextSong'),\n",
       " Row(userId='30', sessionId=816, firstName='Colin', level='free', page='NextSong'),\n",
       " Row(userId='30', sessionId=816, firstName='Colin', level='free', page='Add to Playlist'),\n",
       " Row(userId='30', sessionId=816, firstName='Colin', level='free', page='NextSong'),\n",
       " Row(userId='30', sessionId=816, firstName='Colin', level='free', page='NextSong'),\n",
       " Row(userId='30', sessionId=816, firstName='Colin', level='free', page='NextSong'),\n",
       " Row(userId='30', sessionId=816, firstName='Colin', level='free', page='Thumbs Up'),\n",
       " Row(userId='30', sessionId=816, firstName='Colin', level='free', page='NextSong'),\n",
       " Row(userId='30', sessionId=816, firstName='Colin', level='free', page='NextSong'),\n",
       " Row(userId='30', sessionId=816, firstName='Colin', level='free', page='NextSong'),\n",
       " Row(userId='30', sessionId=816, firstName='Colin', level='free', page='Logout'),\n",
       " Row(userId='30', sessionId=816, firstName='Colin', level='free', page='Home'),\n",
       " Row(userId='30', sessionId=816, firstName='Colin', level='free', page='NextSong'),\n",
       " Row(userId='30', sessionId=816, firstName='Colin', level='free', page='NextSong'),\n",
       " Row(userId='30', sessionId=816, firstName='Colin', level='free', page='Help'),\n",
       " Row(userId='30', sessionId=816, firstName='Colin', level='free', page='NextSong'),\n",
       " Row(userId='30', sessionId=816, firstName='Colin', level='free', page='NextSong'),\n",
       " Row(userId='30', sessionId=816, firstName='Colin', level='free', page='Home'),\n",
       " Row(userId='30', sessionId=816, firstName='Colin', level='free', page='Add Friend'),\n",
       " Row(userId='30', sessionId=816, firstName='Colin', level='free', page='Settings'),\n",
       " Row(userId='30', sessionId=892, firstName='Colin', level='free', page='Home'),\n",
       " Row(userId='30', sessionId=892, firstName='Colin', level='free', page='Logout'),\n",
       " Row(userId='30', sessionId=945, firstName='Colin', level='free', page='Home'),\n",
       " Row(userId='30', sessionId=1110, firstName='Colin', level='free', page='NextSong'),\n",
       " Row(userId='30', sessionId=1110, firstName='Colin', level='free', page='NextSong'),\n",
       " Row(userId='30', sessionId=1110, firstName='Colin', level='free', page='NextSong'),\n",
       " Row(userId='30', sessionId=1110, firstName='Colin', level='free', page='NextSong'),\n",
       " Row(userId='30', sessionId=1110, firstName='Colin', level='free', page='NextSong'),\n",
       " Row(userId='30', sessionId=1110, firstName='Colin', level='free', page='NextSong'),\n",
       " Row(userId='30', sessionId=1110, firstName='Colin', level='free', page='NextSong'),\n",
       " Row(userId='30', sessionId=1110, firstName='Colin', level='free', page='NextSong'),\n",
       " Row(userId='30', sessionId=1110, firstName='Colin', level='free', page='NextSong'),\n",
       " Row(userId='30', sessionId=1110, firstName='Colin', level='free', page='NextSong'),\n",
       " Row(userId='30', sessionId=1110, firstName='Colin', level='free', page='NextSong'),\n",
       " Row(userId='30', sessionId=1110, firstName='Colin', level='free', page='NextSong'),\n",
       " Row(userId='30', sessionId=1110, firstName='Colin', level='free', page='NextSong'),\n",
       " Row(userId='30', sessionId=1110, firstName='Colin', level='free', page='NextSong'),\n",
       " Row(userId='30', sessionId=1110, firstName='Colin', level='free', page='Add to Playlist'),\n",
       " Row(userId='30', sessionId=1110, firstName='Colin', level='free', page='NextSong'),\n",
       " Row(userId='30', sessionId=1110, firstName='Colin', level='free', page='NextSong'),\n",
       " Row(userId='30', sessionId=1110, firstName='Colin', level='free', page='NextSong'),\n",
       " Row(userId='30', sessionId=1110, firstName='Colin', level='free', page='NextSong'),\n",
       " Row(userId='30', sessionId=1110, firstName='Colin', level='free', page='NextSong'),\n",
       " Row(userId='30', sessionId=1110, firstName='Colin', level='free', page='Roll Advert'),\n",
       " Row(userId='30', sessionId=1110, firstName='Colin', level='free', page='NextSong'),\n",
       " Row(userId='30', sessionId=1110, firstName='Colin', level='free', page='NextSong'),\n",
       " Row(userId='30', sessionId=1110, firstName='Colin', level='free', page='Add to Playlist'),\n",
       " Row(userId='30', sessionId=1110, firstName='Colin', level='free', page='NextSong'),\n",
       " Row(userId='30', sessionId=1110, firstName='Colin', level='free', page='Roll Advert'),\n",
       " Row(userId='30', sessionId=1110, firstName='Colin', level='free', page='NextSong'),\n",
       " Row(userId='30', sessionId=1110, firstName='Colin', level='free', page='Thumbs Down'),\n",
       " Row(userId='30', sessionId=1110, firstName='Colin', level='free', page='NextSong'),\n",
       " Row(userId='30', sessionId=1110, firstName='Colin', level='free', page='Roll Advert'),\n",
       " Row(userId='30', sessionId=1110, firstName='Colin', level='free', page='NextSong'),\n",
       " Row(userId='30', sessionId=1184, firstName='Colin', level='free', page='NextSong'),\n",
       " Row(userId='30', sessionId=1184, firstName='Colin', level='free', page='NextSong'),\n",
       " Row(userId='30', sessionId=1184, firstName='Colin', level='free', page='Thumbs Up'),\n",
       " Row(userId='30', sessionId=1184, firstName='Colin', level='free', page='NextSong'),\n",
       " Row(userId='30', sessionId=1184, firstName='Colin', level='free', page='NextSong'),\n",
       " Row(userId='30', sessionId=1184, firstName='Colin', level='free', page='Home'),\n",
       " Row(userId='30', sessionId=1184, firstName='Colin', level='free', page='NextSong'),\n",
       " Row(userId='30', sessionId=1184, firstName='Colin', level='free', page='NextSong'),\n",
       " Row(userId='30', sessionId=1184, firstName='Colin', level='free', page='NextSong'),\n",
       " Row(userId='30', sessionId=1184, firstName='Colin', level='free', page='NextSong'),\n",
       " Row(userId='30', sessionId=1184, firstName='Colin', level='free', page='Thumbs Up'),\n",
       " Row(userId='30', sessionId=1184, firstName='Colin', level='free', page='NextSong'),\n",
       " Row(userId='30', sessionId=1184, firstName='Colin', level='free', page='NextSong'),\n",
       " Row(userId='30', sessionId=1184, firstName='Colin', level='free', page='NextSong'),\n",
       " Row(userId='30', sessionId=1184, firstName='Colin', level='free', page='NextSong'),\n",
       " Row(userId='30', sessionId=1184, firstName='Colin', level='free', page='NextSong'),\n",
       " Row(userId='30', sessionId=1184, firstName='Colin', level='free', page='NextSong'),\n",
       " Row(userId='30', sessionId=1184, firstName='Colin', level='free', page='NextSong'),\n",
       " Row(userId='30', sessionId=1184, firstName='Colin', level='free', page='NextSong'),\n",
       " Row(userId='30', sessionId=1184, firstName='Colin', level='free', page='NextSong'),\n",
       " Row(userId='30', sessionId=1184, firstName='Colin', level='free', page='NextSong'),\n",
       " Row(userId='30', sessionId=1184, firstName='Colin', level='free', page='NextSong'),\n",
       " Row(userId='30', sessionId=1184, firstName='Colin', level='free', page='NextSong'),\n",
       " Row(userId='30', sessionId=1184, firstName='Colin', level='free', page='NextSong'),\n",
       " Row(userId='30', sessionId=1184, firstName='Colin', level='free', page='Settings'),\n",
       " Row(userId='30', sessionId=1184, firstName='Colin', level='free', page='NextSong'),\n",
       " Row(userId='30', sessionId=1184, firstName='Colin', level='free', page='Roll Advert'),\n",
       " Row(userId='30', sessionId=1184, firstName='Colin', level='free', page='NextSong'),\n",
       " Row(userId='30', sessionId=1184, firstName='Colin', level='free', page='NextSong'),\n",
       " Row(userId='30', sessionId=1184, firstName='Colin', level='free', page='NextSong'),\n",
       " Row(userId='30', sessionId=1184, firstName='Colin', level='free', page='Add Friend'),\n",
       " Row(userId='30', sessionId=1184, firstName='Colin', level='free', page='NextSong'),\n",
       " Row(userId='30', sessionId=1184, firstName='Colin', level='free', page='NextSong'),\n",
       " Row(userId='30', sessionId=1304, firstName='Colin', level='free', page='NextSong'),\n",
       " Row(userId='30', sessionId=1304, firstName='Colin', level='free', page='NextSong'),\n",
       " Row(userId='30', sessionId=1304, firstName='Colin', level='free', page='NextSong'),\n",
       " Row(userId='30', sessionId=1311, firstName='Colin', level='free', page='NextSong'),\n",
       " Row(userId='30', sessionId=1311, firstName='Colin', level='free', page='NextSong'),\n",
       " Row(userId='30', sessionId=1311, firstName='Colin', level='free', page='Thumbs Down'),\n",
       " Row(userId='30', sessionId=1311, firstName='Colin', level='free', page='NextSong'),\n",
       " Row(userId='30', sessionId=1311, firstName='Colin', level='free', page='NextSong'),\n",
       " Row(userId='30', sessionId=1311, firstName='Colin', level='free', page='NextSong'),\n",
       " Row(userId='30', sessionId=1311, firstName='Colin', level='free', page='NextSong'),\n",
       " Row(userId='30', sessionId=1311, firstName='Colin', level='free', page='NextSong'),\n",
       " Row(userId='30', sessionId=1311, firstName='Colin', level='free', page='NextSong'),\n",
       " Row(userId='30', sessionId=1311, firstName='Colin', level='free', page='NextSong'),\n",
       " Row(userId='30', sessionId=1311, firstName='Colin', level='free', page='Roll Advert'),\n",
       " Row(userId='30', sessionId=1311, firstName='Colin', level='free', page='NextSong'),\n",
       " Row(userId='30', sessionId=1311, firstName='Colin', level='free', page='NextSong'),\n",
       " Row(userId='30', sessionId=1311, firstName='Colin', level='free', page='NextSong'),\n",
       " Row(userId='30', sessionId=1311, firstName='Colin', level='free', page='Roll Advert'),\n",
       " Row(userId='30', sessionId=1311, firstName='Colin', level='free', page='NextSong'),\n",
       " Row(userId='30', sessionId=1311, firstName='Colin', level='free', page='NextSong'),\n",
       " Row(userId='30', sessionId=1311, firstName='Colin', level='free', page='Roll Advert'),\n",
       " Row(userId='30', sessionId=1311, firstName='Colin', level='free', page='NextSong'),\n",
       " Row(userId='30', sessionId=1311, firstName='Colin', level='free', page='NextSong'),\n",
       " Row(userId='30', sessionId=1311, firstName='Colin', level='free', page='NextSong'),\n",
       " Row(userId='30', sessionId=1311, firstName='Colin', level='free', page='NextSong'),\n",
       " Row(userId='30', sessionId=1311, firstName='Colin', level='free', page='NextSong'),\n",
       " Row(userId='30', sessionId=1311, firstName='Colin', level='free', page='Home'),\n",
       " Row(userId='30', sessionId=1311, firstName='Colin', level='free', page='NextSong'),\n",
       " Row(userId='30', sessionId=1311, firstName='Colin', level='free', page='Roll Advert'),\n",
       " Row(userId='30', sessionId=1311, firstName='Colin', level='free', page='NextSong'),\n",
       " Row(userId='30', sessionId=1311, firstName='Colin', level='free', page='NextSong'),\n",
       " Row(userId='30', sessionId=1311, firstName='Colin', level='free', page='NextSong'),\n",
       " Row(userId='30', sessionId=1311, firstName='Colin', level='free', page='Add to Playlist'),\n",
       " Row(userId='30', sessionId=1311, firstName='Colin', level='free', page='NextSong'),\n",
       " Row(userId='30', sessionId=1311, firstName='Colin', level='free', page='NextSong'),\n",
       " Row(userId='30', sessionId=1311, firstName='Colin', level='free', page='NextSong'),\n",
       " Row(userId='30', sessionId=1311, firstName='Colin', level='free', page='NextSong'),\n",
       " Row(userId='30', sessionId=1311, firstName='Colin', level='free', page='NextSong'),\n",
       " Row(userId='30', sessionId=1311, firstName='Colin', level='free', page='Logout'),\n",
       " Row(userId='30', sessionId=1311, firstName='Colin', level='free', page='Home'),\n",
       " Row(userId='30', sessionId=1311, firstName='Colin', level='free', page='NextSong'),\n",
       " Row(userId='30', sessionId=1311, firstName='Colin', level='free', page='NextSong'),\n",
       " Row(userId='30', sessionId=1311, firstName='Colin', level='free', page='NextSong'),\n",
       " Row(userId='30', sessionId=1311, firstName='Colin', level='free', page='NextSong'),\n",
       " Row(userId='30', sessionId=1311, firstName='Colin', level='free', page='NextSong'),\n",
       " Row(userId='30', sessionId=1311, firstName='Colin', level='free', page='Settings'),\n",
       " Row(userId='30', sessionId=1311, firstName='Colin', level='free', page='NextSong'),\n",
       " Row(userId='30', sessionId=1311, firstName='Colin', level='free', page='NextSong'),\n",
       " Row(userId='30', sessionId=1311, firstName='Colin', level='free', page='Roll Advert'),\n",
       " Row(userId='30', sessionId=1311, firstName='Colin', level='free', page='NextSong'),\n",
       " Row(userId='30', sessionId=1311, firstName='Colin', level='free', page='NextSong'),\n",
       " Row(userId='30', sessionId=1311, firstName='Colin', level='free', page='NextSong'),\n",
       " Row(userId='30', sessionId=1311, firstName='Colin', level='free', page='NextSong'),\n",
       " Row(userId='30', sessionId=1311, firstName='Colin', level='free', page='NextSong'),\n",
       " Row(userId='30', sessionId=1311, firstName='Colin', level='free', page='Settings'),\n",
       " Row(userId='30', sessionId=1311, firstName='Colin', level='free', page='NextSong'),\n",
       " Row(userId='30', sessionId=1311, firstName='Colin', level='free', page='NextSong'),\n",
       " Row(userId='30', sessionId=1311, firstName='Colin', level='free', page='NextSong'),\n",
       " Row(userId='30', sessionId=1311, firstName='Colin', level='free', page='NextSong'),\n",
       " Row(userId='30', sessionId=1311, firstName='Colin', level='free', page='NextSong'),\n",
       " Row(userId='30', sessionId=1311, firstName='Colin', level='free', page='NextSong'),\n",
       " Row(userId='30', sessionId=1311, firstName='Colin', level='free', page='NextSong'),\n",
       " Row(userId='30', sessionId=1311, firstName='Colin', level='free', page='NextSong'),\n",
       " Row(userId='30', sessionId=1340, firstName='Colin', level='free', page='NextSong'),\n",
       " Row(userId='30', sessionId=1340, firstName='Colin', level='free', page='Roll Advert'),\n",
       " Row(userId='30', sessionId=1340, firstName='Colin', level='free', page='NextSong'),\n",
       " Row(userId='30', sessionId=1340, firstName='Colin', level='free', page='NextSong'),\n",
       " Row(userId='30', sessionId=1340, firstName='Colin', level='free', page='NextSong'),\n",
       " Row(userId='30', sessionId=1340, firstName='Colin', level='free', page='NextSong'),\n",
       " Row(userId='30', sessionId=1340, firstName='Colin', level='free', page='Thumbs Up'),\n",
       " Row(userId='30', sessionId=1340, firstName='Colin', level='free', page='Add to Playlist'),\n",
       " Row(userId='30', sessionId=1340, firstName='Colin', level='free', page='NextSong'),\n",
       " Row(userId='30', sessionId=1340, firstName='Colin', level='free', page='NextSong'),\n",
       " Row(userId='30', sessionId=1340, firstName='Colin', level='free', page='NextSong'),\n",
       " Row(userId='30', sessionId=1340, firstName='Colin', level='free', page='NextSong'),\n",
       " Row(userId='30', sessionId=1340, firstName='Colin', level='free', page='NextSong'),\n",
       " Row(userId='30', sessionId=1340, firstName='Colin', level='free', page='Logout'),\n",
       " Row(userId='30', sessionId=1340, firstName='Colin', level='free', page='Home'),\n",
       " Row(userId='30', sessionId=1340, firstName='Colin', level='free', page='NextSong'),\n",
       " Row(userId='30', sessionId=1340, firstName='Colin', level='free', page='NextSong'),\n",
       " Row(userId='30', sessionId=1340, firstName='Colin', level='free', page='NextSong'),\n",
       " Row(userId='30', sessionId=1340, firstName='Colin', level='free', page='NextSong'),\n",
       " Row(userId='30', sessionId=1340, firstName='Colin', level='free', page='NextSong'),\n",
       " Row(userId='30', sessionId=1340, firstName='Colin', level='free', page='Roll Advert'),\n",
       " Row(userId='30', sessionId=1340, firstName='Colin', level='free', page='NextSong'),\n",
       " Row(userId='30', sessionId=1340, firstName='Colin', level='free', page='Roll Advert'),\n",
       " Row(userId='30', sessionId=1340, firstName='Colin', level='free', page='NextSong'),\n",
       " Row(userId='30', sessionId=1340, firstName='Colin', level='free', page='NextSong'),\n",
       " Row(userId='30', sessionId=1340, firstName='Colin', level='free', page='NextSong'),\n",
       " Row(userId='30', sessionId=1340, firstName='Colin', level='free', page='NextSong'),\n",
       " Row(userId='30', sessionId=1340, firstName='Colin', level='free', page='NextSong'),\n",
       " Row(userId='30', sessionId=1340, firstName='Colin', level='free', page='NextSong'),\n",
       " Row(userId='30', sessionId=1340, firstName='Colin', level='free', page='Upgrade'),\n",
       " Row(userId='30', sessionId=1340, firstName='Colin', level='free', page='Add Friend'),\n",
       " Row(userId='30', sessionId=1340, firstName='Colin', level='free', page='About'),\n",
       " Row(userId='30', sessionId=1340, firstName='Colin', level='free', page='NextSong'),\n",
       " Row(userId='30', sessionId=1340, firstName='Colin', level='free', page='NextSong'),\n",
       " Row(userId='30', sessionId=1340, firstName='Colin', level='free', page='NextSong'),\n",
       " Row(userId='30', sessionId=1340, firstName='Colin', level='free', page='Thumbs Up'),\n",
       " Row(userId='30', sessionId=1340, firstName='Colin', level='free', page='NextSong'),\n",
       " Row(userId='30', sessionId=1340, firstName='Colin', level='free', page='NextSong'),\n",
       " Row(userId='30', sessionId=1340, firstName='Colin', level='free', page='NextSong'),\n",
       " Row(userId='30', sessionId=1340, firstName='Colin', level='free', page='NextSong'),\n",
       " Row(userId='30', sessionId=1340, firstName='Colin', level='free', page='Home'),\n",
       " Row(userId='30', sessionId=1340, firstName='Colin', level='free', page='NextSong'),\n",
       " Row(userId='30', sessionId=1340, firstName='Colin', level='free', page='NextSong'),\n",
       " Row(userId='30', sessionId=1340, firstName='Colin', level='free', page='Thumbs Up'),\n",
       " Row(userId='30', sessionId=1340, firstName='Colin', level='free', page='NextSong'),\n",
       " Row(userId='30', sessionId=1340, firstName='Colin', level='free', page='NextSong'),\n",
       " Row(userId='30', sessionId=1340, firstName='Colin', level='free', page='NextSong'),\n",
       " Row(userId='30', sessionId=1340, firstName='Colin', level='free', page='NextSong'),\n",
       " Row(userId='30', sessionId=1340, firstName='Colin', level='free', page='NextSong'),\n",
       " Row(userId='30', sessionId=1340, firstName='Colin', level='free', page='NextSong'),\n",
       " Row(userId='30', sessionId=1340, firstName='Colin', level='free', page='NextSong'),\n",
       " Row(userId='30', sessionId=1340, firstName='Colin', level='free', page='NextSong'),\n",
       " Row(userId='30', sessionId=1340, firstName='Colin', level='free', page='NextSong'),\n",
       " Row(userId='30', sessionId=1340, firstName='Colin', level='free', page='NextSong'),\n",
       " Row(userId='30', sessionId=1340, firstName='Colin', level='free', page='NextSong'),\n",
       " Row(userId='30', sessionId=1340, firstName='Colin', level='free', page='NextSong'),\n",
       " Row(userId='30', sessionId=1340, firstName='Colin', level='free', page='NextSong'),\n",
       " Row(userId='30', sessionId=1340, firstName='Colin', level='free', page='NextSong'),\n",
       " Row(userId='30', sessionId=1340, firstName='Colin', level='free', page='NextSong'),\n",
       " Row(userId='30', sessionId=1340, firstName='Colin', level='free', page='NextSong'),\n",
       " Row(userId='30', sessionId=1340, firstName='Colin', level='free', page='NextSong'),\n",
       " Row(userId='30', sessionId=1340, firstName='Colin', level='free', page='Roll Advert'),\n",
       " Row(userId='30', sessionId=1340, firstName='Colin', level='free', page='Roll Advert'),\n",
       " Row(userId='30', sessionId=1340, firstName='Colin', level='free', page='NextSong'),\n",
       " Row(userId='30', sessionId=1340, firstName='Colin', level='free', page='NextSong'),\n",
       " Row(userId='30', sessionId=1340, firstName='Colin', level='free', page='NextSong'),\n",
       " Row(userId='30', sessionId=1340, firstName='Colin', level='free', page='NextSong'),\n",
       " Row(userId='30', sessionId=1340, firstName='Colin', level='free', page='NextSong'),\n",
       " Row(userId='30', sessionId=1340, firstName='Colin', level='free', page='Roll Advert'),\n",
       " Row(userId='30', sessionId=1340, firstName='Colin', level='free', page='NextSong'),\n",
       " Row(userId='30', sessionId=1340, firstName='Colin', level='free', page='NextSong'),\n",
       " Row(userId='30', sessionId=1340, firstName='Colin', level='free', page='NextSong'),\n",
       " Row(userId='30', sessionId=1340, firstName='Colin', level='free', page='NextSong'),\n",
       " Row(userId='30', sessionId=1340, firstName='Colin', level='free', page='NextSong'),\n",
       " Row(userId='30', sessionId=1340, firstName='Colin', level='free', page='NextSong'),\n",
       " Row(userId='30', sessionId=1340, firstName='Colin', level='free', page='NextSong'),\n",
       " Row(userId='30', sessionId=1340, firstName='Colin', level='free', page='NextSong'),\n",
       " Row(userId='30', sessionId=1340, firstName='Colin', level='free', page='NextSong'),\n",
       " Row(userId='30', sessionId=1340, firstName='Colin', level='free', page='NextSong'),\n",
       " Row(userId='30', sessionId=1340, firstName='Colin', level='free', page='Upgrade'),\n",
       " Row(userId='30', sessionId=1340, firstName='Colin', level='free', page='NextSong'),\n",
       " Row(userId='30', sessionId=1340, firstName='Colin', level='free', page='NextSong'),\n",
       " Row(userId='30', sessionId=1340, firstName='Colin', level='free', page='NextSong'),\n",
       " Row(userId='30', sessionId=1340, firstName='Colin', level='free', page='NextSong'),\n",
       " Row(userId='30', sessionId=1340, firstName='Colin', level='free', page='NextSong'),\n",
       " Row(userId='30', sessionId=1340, firstName='Colin', level='free', page='NextSong'),\n",
       " Row(userId='30', sessionId=1340, firstName='Colin', level='free', page='NextSong'),\n",
       " Row(userId='30', sessionId=1340, firstName='Colin', level='free', page='NextSong'),\n",
       " Row(userId='30', sessionId=1340, firstName='Colin', level='free', page='NextSong'),\n",
       " Row(userId='30', sessionId=1340, firstName='Colin', level='free', page='Add to Playlist'),\n",
       " Row(userId='30', sessionId=1340, firstName='Colin', level='free', page='NextSong'),\n",
       " Row(userId='30', sessionId=1340, firstName='Colin', level='free', page='Thumbs Down'),\n",
       " Row(userId='30', sessionId=1340, firstName='Colin', level='free', page='NextSong'),\n",
       " Row(userId='30', sessionId=1340, firstName='Colin', level='free', page='Thumbs Up'),\n",
       " Row(userId='30', sessionId=1340, firstName='Colin', level='free', page='NextSong'),\n",
       " Row(userId='30', sessionId=1340, firstName='Colin', level='free', page='NextSong'),\n",
       " Row(userId='30', sessionId=1340, firstName='Colin', level='free', page='Logout'),\n",
       " Row(userId='30', sessionId=1340, firstName='Colin', level='free', page='Home'),\n",
       " Row(userId='30', sessionId=1340, firstName='Colin', level='free', page='NextSong'),\n",
       " Row(userId='30', sessionId=1340, firstName='Colin', level='free', page='NextSong'),\n",
       " Row(userId='30', sessionId=1340, firstName='Colin', level='free', page='NextSong'),\n",
       " Row(userId='30', sessionId=1340, firstName='Colin', level='free', page='NextSong'),\n",
       " Row(userId='30', sessionId=1340, firstName='Colin', level='free', page='NextSong'),\n",
       " Row(userId='30', sessionId=1340, firstName='Colin', level='free', page='Roll Advert'),\n",
       " Row(userId='30', sessionId=1340, firstName='Colin', level='free', page='NextSong'),\n",
       " Row(userId='30', sessionId=1340, firstName='Colin', level='free', page='Roll Advert'),\n",
       " Row(userId='30', sessionId=1477, firstName='Colin', level='free', page='NextSong'),\n",
       " Row(userId='30', sessionId=1477, firstName='Colin', level='free', page='NextSong'),\n",
       " Row(userId='30', sessionId=1477, firstName='Colin', level='free', page='NextSong'),\n",
       " Row(userId='30', sessionId=1477, firstName='Colin', level='free', page='NextSong'),\n",
       " Row(userId='30', sessionId=1477, firstName='Colin', level='free', page='NextSong'),\n",
       " Row(userId='30', sessionId=1477, firstName='Colin', level='free', page='NextSong'),\n",
       " Row(userId='30', sessionId=1477, firstName='Colin', level='free', page='NextSong'),\n",
       " Row(userId='30', sessionId=1477, firstName='Colin', level='free', page='NextSong'),\n",
       " Row(userId='30', sessionId=1477, firstName='Colin', level='free', page='NextSong'),\n",
       " Row(userId='30', sessionId=1477, firstName='Colin', level='free', page='NextSong'),\n",
       " Row(userId='30', sessionId=1477, firstName='Colin', level='free', page='NextSong'),\n",
       " Row(userId='30', sessionId=1477, firstName='Colin', level='free', page='NextSong'),\n",
       " Row(userId='30', sessionId=1477, firstName='Colin', level='free', page='NextSong'),\n",
       " Row(userId='30', sessionId=1477, firstName='Colin', level='free', page='Roll Advert'),\n",
       " Row(userId='30', sessionId=1477, firstName='Colin', level='free', page='NextSong'),\n",
       " Row(userId='30', sessionId=1477, firstName='Colin', level='free', page='Logout'),\n",
       " Row(userId='30', sessionId=1477, firstName='Colin', level='free', page='Home'),\n",
       " Row(userId='30', sessionId=1477, firstName='Colin', level='free', page='NextSong'),\n",
       " Row(userId='30', sessionId=1477, firstName='Colin', level='free', page='Settings'),\n",
       " Row(userId='30', sessionId=1477, firstName='Colin', level='free', page='NextSong'),\n",
       " Row(userId='30', sessionId=1477, firstName='Colin', level='free', page='NextSong'),\n",
       " Row(userId='30', sessionId=1477, firstName='Colin', level='free', page='NextSong'),\n",
       " Row(userId='30', sessionId=1477, firstName='Colin', level='free', page='NextSong'),\n",
       " Row(userId='30', sessionId=1477, firstName='Colin', level='free', page='NextSong'),\n",
       " Row(userId='30', sessionId=1477, firstName='Colin', level='free', page='NextSong'),\n",
       " Row(userId='30', sessionId=1477, firstName='Colin', level='free', page='NextSong'),\n",
       " Row(userId='30', sessionId=1477, firstName='Colin', level='free', page='NextSong'),\n",
       " Row(userId='30', sessionId=1477, firstName='Colin', level='free', page='Upgrade'),\n",
       " Row(userId='30', sessionId=1477, firstName='Colin', level='free', page='Upgrade'),\n",
       " Row(userId='30', sessionId=1477, firstName='Colin', level='free', page='NextSong'),\n",
       " Row(userId='30', sessionId=1477, firstName='Colin', level='free', page='Thumbs Up'),\n",
       " Row(userId='30', sessionId=1477, firstName='Colin', level='free', page='NextSong'),\n",
       " Row(userId='30', sessionId=1477, firstName='Colin', level='free', page='Roll Advert'),\n",
       " Row(userId='30', sessionId=1477, firstName='Colin', level='free', page='NextSong'),\n",
       " Row(userId='30', sessionId=1477, firstName='Colin', level='free', page='NextSong'),\n",
       " Row(userId='30', sessionId=1477, firstName='Colin', level='free', page='Help'),\n",
       " Row(userId='30', sessionId=1477, firstName='Colin', level='free', page='Home'),\n",
       " Row(userId='30', sessionId=1477, firstName='Colin', level='free', page='NextSong'),\n",
       " Row(userId='30', sessionId=1477, firstName='Colin', level='free', page='NextSong'),\n",
       " Row(userId='30', sessionId=1477, firstName='Colin', level='free', page='NextSong'),\n",
       " Row(userId='30', sessionId=1477, firstName='Colin', level='free', page='NextSong'),\n",
       " Row(userId='30', sessionId=1477, firstName='Colin', level='free', page='NextSong'),\n",
       " Row(userId='30', sessionId=1477, firstName='Colin', level='free', page='Thumbs Up'),\n",
       " Row(userId='30', sessionId=1477, firstName='Colin', level='free', page='NextSong'),\n",
       " Row(userId='30', sessionId=1477, firstName='Colin', level='free', page='Roll Advert'),\n",
       " Row(userId='30', sessionId=1477, firstName='Colin', level='free', page='NextSong'),\n",
       " Row(userId='30', sessionId=1477, firstName='Colin', level='free', page='NextSong'),\n",
       " Row(userId='30', sessionId=1477, firstName='Colin', level='free', page='Add Friend'),\n",
       " Row(userId='30', sessionId=1477, firstName='Colin', level='free', page='NextSong'),\n",
       " Row(userId='30', sessionId=1477, firstName='Colin', level='free', page='NextSong'),\n",
       " Row(userId='30', sessionId=1477, firstName='Colin', level='free', page='Add to Playlist'),\n",
       " Row(userId='30', sessionId=1477, firstName='Colin', level='free', page='NextSong'),\n",
       " Row(userId='30', sessionId=1477, firstName='Colin', level='free', page='NextSong'),\n",
       " Row(userId='30', sessionId=1477, firstName='Colin', level='free', page='Roll Advert'),\n",
       " Row(userId='30', sessionId=1477, firstName='Colin', level='free', page='NextSong'),\n",
       " Row(userId='30', sessionId=1477, firstName='Colin', level='free', page='NextSong'),\n",
       " Row(userId='30', sessionId=1477, firstName='Colin', level='free', page='NextSong'),\n",
       " Row(userId='30', sessionId=1477, firstName='Colin', level='free', page='NextSong'),\n",
       " Row(userId='30', sessionId=1477, firstName='Colin', level='free', page='NextSong'),\n",
       " Row(userId='30', sessionId=1477, firstName='Colin', level='free', page='NextSong'),\n",
       " Row(userId='30', sessionId=1477, firstName='Colin', level='free', page='NextSong'),\n",
       " Row(userId='30', sessionId=1477, firstName='Colin', level='free', page='NextSong'),\n",
       " Row(userId='30', sessionId=1477, firstName='Colin', level='free', page='NextSong'),\n",
       " Row(userId='30', sessionId=1477, firstName='Colin', level='free', page='Home'),\n",
       " Row(userId='30', sessionId=1477, firstName='Colin', level='free', page='NextSong'),\n",
       " Row(userId='30', sessionId=1477, firstName='Colin', level='free', page='NextSong'),\n",
       " Row(userId='30', sessionId=1477, firstName='Colin', level='free', page='NextSong'),\n",
       " Row(userId='30', sessionId=1477, firstName='Colin', level='free', page='Thumbs Up'),\n",
       " Row(userId='30', sessionId=1477, firstName='Colin', level='free', page='Add to Playlist'),\n",
       " Row(userId='30', sessionId=1477, firstName='Colin', level='free', page='NextSong'),\n",
       " Row(userId='30', sessionId=1477, firstName='Colin', level='free', page='NextSong'),\n",
       " Row(userId='30', sessionId=1477, firstName='Colin', level='free', page='NextSong'),\n",
       " Row(userId='30', sessionId=1477, firstName='Colin', level='free', page='NextSong'),\n",
       " Row(userId='30', sessionId=1477, firstName='Colin', level='free', page='NextSong'),\n",
       " Row(userId='30', sessionId=1477, firstName='Colin', level='free', page='NextSong'),\n",
       " Row(userId='30', sessionId=1477, firstName='Colin', level='free', page='NextSong'),\n",
       " Row(userId='30', sessionId=1477, firstName='Colin', level='free', page='NextSong'),\n",
       " Row(userId='30', sessionId=1477, firstName='Colin', level='free', page='NextSong'),\n",
       " Row(userId='30', sessionId=1477, firstName='Colin', level='free', page='NextSong'),\n",
       " Row(userId='30', sessionId=1496, firstName='Colin', level='free', page='NextSong'),\n",
       " Row(userId='30', sessionId=1496, firstName='Colin', level='free', page='NextSong'),\n",
       " Row(userId='30', sessionId=1496, firstName='Colin', level='free', page='NextSong'),\n",
       " Row(userId='30', sessionId=1496, firstName='Colin', level='free', page='NextSong'),\n",
       " Row(userId='30', sessionId=1496, firstName='Colin', level='free', page='NextSong'),\n",
       " Row(userId='30', sessionId=1496, firstName='Colin', level='free', page='Thumbs Up'),\n",
       " Row(userId='30', sessionId=1496, firstName='Colin', level='free', page='NextSong'),\n",
       " Row(userId='30', sessionId=1496, firstName='Colin', level='free', page='NextSong'),\n",
       " Row(userId='30', sessionId=1496, firstName='Colin', level='free', page='NextSong'),\n",
       " Row(userId='30', sessionId=1496, firstName='Colin', level='free', page='NextSong'),\n",
       " Row(userId='30', sessionId=1496, firstName='Colin', level='free', page='Add to Playlist'),\n",
       " Row(userId='30', sessionId=1496, firstName='Colin', level='free', page='NextSong'),\n",
       " Row(userId='30', sessionId=1496, firstName='Colin', level='free', page='NextSong'),\n",
       " Row(userId='30', sessionId=1496, firstName='Colin', level='free', page='NextSong'),\n",
       " Row(userId='30', sessionId=1496, firstName='Colin', level='free', page='NextSong'),\n",
       " Row(userId='30', sessionId=1496, firstName='Colin', level='free', page='NextSong'),\n",
       " Row(userId='30', sessionId=1496, firstName='Colin', level='free', page='Home'),\n",
       " Row(userId='30', sessionId=1496, firstName='Colin', level='free', page='NextSong'),\n",
       " Row(userId='30', sessionId=1496, firstName='Colin', level='free', page='NextSong'),\n",
       " Row(userId='30', sessionId=1496, firstName='Colin', level='free', page='NextSong'),\n",
       " Row(userId='30', sessionId=1496, firstName='Colin', level='free', page='NextSong'),\n",
       " Row(userId='30', sessionId=1496, firstName='Colin', level='free', page='NextSong'),\n",
       " Row(userId='30', sessionId=1496, firstName='Colin', level='free', page='NextSong'),\n",
       " Row(userId='30', sessionId=1496, firstName='Colin', level='free', page='NextSong'),\n",
       " Row(userId='30', sessionId=1496, firstName='Colin', level='free', page='NextSong'),\n",
       " Row(userId='30', sessionId=1496, firstName='Colin', level='free', page='NextSong'),\n",
       " Row(userId='30', sessionId=1496, firstName='Colin', level='free', page='NextSong'),\n",
       " Row(userId='30', sessionId=1496, firstName='Colin', level='free', page='NextSong'),\n",
       " Row(userId='30', sessionId=1496, firstName='Colin', level='free', page='Upgrade'),\n",
       " Row(userId='30', sessionId=1496, firstName='Colin', level='free', page='NextSong'),\n",
       " Row(userId='30', sessionId=1496, firstName='Colin', level='free', page='Roll Advert'),\n",
       " Row(userId='30', sessionId=1554, firstName='Colin', level='free', page='NextSong'),\n",
       " Row(userId='30', sessionId=1554, firstName='Colin', level='free', page='NextSong'),\n",
       " Row(userId='30', sessionId=1554, firstName='Colin', level='free', page='NextSong'),\n",
       " Row(userId='30', sessionId=1554, firstName='Colin', level='free', page='Home'),\n",
       " Row(userId='30', sessionId=1554, firstName='Colin', level='free', page='Add Friend'),\n",
       " Row(userId='30', sessionId=1554, firstName='Colin', level='free', page='Add Friend'),\n",
       " Row(userId='30', sessionId=1554, firstName='Colin', level='free', page='NextSong'),\n",
       " Row(userId='30', sessionId=1554, firstName='Colin', level='free', page='NextSong'),\n",
       " Row(userId='30', sessionId=1554, firstName='Colin', level='free', page='Home'),\n",
       " Row(userId='30', sessionId=1554, firstName='Colin', level='free', page='NextSong'),\n",
       " Row(userId='30', sessionId=1554, firstName='Colin', level='free', page='Add to Playlist'),\n",
       " Row(userId='30', sessionId=1554, firstName='Colin', level='free', page='NextSong'),\n",
       " Row(userId='30', sessionId=1554, firstName='Colin', level='free', page='NextSong'),\n",
       " Row(userId='30', sessionId=1554, firstName='Colin', level='free', page='NextSong'),\n",
       " Row(userId='30', sessionId=1554, firstName='Colin', level='free', page='Home'),\n",
       " Row(userId='30', sessionId=1554, firstName='Colin', level='free', page='NextSong'),\n",
       " Row(userId='30', sessionId=1554, firstName='Colin', level='free', page='NextSong'),\n",
       " Row(userId='30', sessionId=1554, firstName='Colin', level='free', page='NextSong'),\n",
       " Row(userId='30', sessionId=1554, firstName='Colin', level='free', page='NextSong'),\n",
       " Row(userId='30', sessionId=1554, firstName='Colin', level='free', page='NextSong'),\n",
       " Row(userId='30', sessionId=1554, firstName='Colin', level='free', page='NextSong'),\n",
       " Row(userId='30', sessionId=1554, firstName='Colin', level='free', page='Add Friend'),\n",
       " Row(userId='30', sessionId=1554, firstName='Colin', level='free', page='NextSong'),\n",
       " Row(userId='30', sessionId=1554, firstName='Colin', level='free', page='NextSong'),\n",
       " Row(userId='30', sessionId=1554, firstName='Colin', level='free', page='Upgrade'),\n",
       " Row(userId='30', sessionId=1554, firstName='Colin', level='free', page='NextSong'),\n",
       " Row(userId='30', sessionId=1554, firstName='Colin', level='free', page='Roll Advert'),\n",
       " Row(userId='30', sessionId=1554, firstName='Colin', level='free', page='NextSong'),\n",
       " Row(userId='30', sessionId=1554, firstName='Colin', level='free', page='NextSong'),\n",
       " Row(userId='30', sessionId=1554, firstName='Colin', level='free', page='Roll Advert'),\n",
       " Row(userId='30', sessionId=1554, firstName='Colin', level='free', page='NextSong'),\n",
       " Row(userId='30', sessionId=1554, firstName='Colin', level='free', page='NextSong'),\n",
       " Row(userId='30', sessionId=1554, firstName='Colin', level='free', page='Logout'),\n",
       " Row(userId='30', sessionId=1554, firstName='Colin', level='free', page='Home'),\n",
       " Row(userId='30', sessionId=1554, firstName='Colin', level='free', page='NextSong'),\n",
       " Row(userId='30', sessionId=1554, firstName='Colin', level='free', page='NextSong'),\n",
       " Row(userId='30', sessionId=1554, firstName='Colin', level='free', page='NextSong'),\n",
       " Row(userId='30', sessionId=1554, firstName='Colin', level='free', page='NextSong'),\n",
       " Row(userId='30', sessionId=1554, firstName='Colin', level='free', page='NextSong'),\n",
       " Row(userId='30', sessionId=1554, firstName='Colin', level='free', page='NextSong'),\n",
       " Row(userId='30', sessionId=1554, firstName='Colin', level='free', page='Thumbs Down'),\n",
       " Row(userId='30', sessionId=1554, firstName='Colin', level='free', page='NextSong'),\n",
       " Row(userId='30', sessionId=1554, firstName='Colin', level='free', page='NextSong'),\n",
       " Row(userId='30', sessionId=1554, firstName='Colin', level='free', page='NextSong'),\n",
       " Row(userId='30', sessionId=1554, firstName='Colin', level='free', page='NextSong'),\n",
       " Row(userId='30', sessionId=1554, firstName='Colin', level='free', page='NextSong'),\n",
       " Row(userId='30', sessionId=1554, firstName='Colin', level='free', page='Add to Playlist'),\n",
       " Row(userId='30', sessionId=1554, firstName='Colin', level='free', page='NextSong'),\n",
       " Row(userId='30', sessionId=1554, firstName='Colin', level='free', page='NextSong'),\n",
       " Row(userId='30', sessionId=1554, firstName='Colin', level='free', page='NextSong'),\n",
       " Row(userId='30', sessionId=1554, firstName='Colin', level='free', page='NextSong'),\n",
       " Row(userId='30', sessionId=1554, firstName='Colin', level='free', page='Roll Advert'),\n",
       " Row(userId='30', sessionId=1554, firstName='Colin', level='free', page='NextSong'),\n",
       " Row(userId='30', sessionId=1554, firstName='Colin', level='free', page='NextSong'),\n",
       " Row(userId='30', sessionId=1554, firstName='Colin', level='free', page='NextSong'),\n",
       " Row(userId='30', sessionId=1554, firstName='Colin', level='free', page='NextSong'),\n",
       " Row(userId='30', sessionId=1554, firstName='Colin', level='free', page='NextSong'),\n",
       " Row(userId='30', sessionId=1554, firstName='Colin', level='free', page='Thumbs Up'),\n",
       " Row(userId='30', sessionId=1554, firstName='Colin', level='free', page='NextSong'),\n",
       " Row(userId='30', sessionId=1554, firstName='Colin', level='free', page='NextSong'),\n",
       " Row(userId='30', sessionId=1554, firstName='Colin', level='free', page='NextSong'),\n",
       " Row(userId='30', sessionId=1554, firstName='Colin', level='free', page='NextSong'),\n",
       " Row(userId='30', sessionId=1554, firstName='Colin', level='free', page='NextSong'),\n",
       " Row(userId='30', sessionId=1554, firstName='Colin', level='free', page='NextSong'),\n",
       " Row(userId='30', sessionId=1554, firstName='Colin', level='free', page='NextSong'),\n",
       " Row(userId='30', sessionId=1554, firstName='Colin', level='free', page='NextSong'),\n",
       " Row(userId='30', sessionId=1554, firstName='Colin', level='free', page='NextSong'),\n",
       " Row(userId='30', sessionId=1554, firstName='Colin', level='free', page='NextSong'),\n",
       " Row(userId='30', sessionId=1554, firstName='Colin', level='free', page='NextSong'),\n",
       " Row(userId='30', sessionId=1554, firstName='Colin', level='free', page='NextSong'),\n",
       " Row(userId='30', sessionId=1554, firstName='Colin', level='free', page='NextSong'),\n",
       " Row(userId='30', sessionId=1554, firstName='Colin', level='free', page='NextSong'),\n",
       " Row(userId='30', sessionId=1554, firstName='Colin', level='free', page='NextSong'),\n",
       " Row(userId='30', sessionId=1554, firstName='Colin', level='free', page='NextSong'),\n",
       " Row(userId='30', sessionId=1554, firstName='Colin', level='free', page='NextSong'),\n",
       " Row(userId='30', sessionId=1554, firstName='Colin', level='free', page='NextSong'),\n",
       " Row(userId='30', sessionId=1554, firstName='Colin', level='free', page='NextSong'),\n",
       " Row(userId='30', sessionId=1554, firstName='Colin', level='free', page='NextSong'),\n",
       " Row(userId='30', sessionId=1554, firstName='Colin', level='free', page='About'),\n",
       " Row(userId='30', sessionId=1554, firstName='Colin', level='free', page='NextSong'),\n",
       " Row(userId='30', sessionId=1554, firstName='Colin', level='free', page='Logout'),\n",
       " Row(userId='30', sessionId=1554, firstName='Colin', level='free', page='Home'),\n",
       " Row(userId='30', sessionId=1554, firstName='Colin', level='free', page='NextSong'),\n",
       " Row(userId='30', sessionId=1554, firstName='Colin', level='free', page='Thumbs Up'),\n",
       " Row(userId='30', sessionId=1554, firstName='Colin', level='free', page='NextSong'),\n",
       " Row(userId='30', sessionId=1554, firstName='Colin', level='free', page='Upgrade'),\n",
       " Row(userId='30', sessionId=1554, firstName='Colin', level='free', page='NextSong'),\n",
       " Row(userId='30', sessionId=1554, firstName='Colin', level='free', page='NextSong'),\n",
       " Row(userId='30', sessionId=1554, firstName='Colin', level='free', page='NextSong'),\n",
       " Row(userId='30', sessionId=1554, firstName='Colin', level='free', page='NextSong'),\n",
       " Row(userId='30', sessionId=1554, firstName='Colin', level='free', page='NextSong'),\n",
       " Row(userId='30', sessionId=1554, firstName='Colin', level='free', page='Roll Advert'),\n",
       " Row(userId='30', sessionId=1554, firstName='Colin', level='free', page='NextSong'),\n",
       " Row(userId='30', sessionId=1554, firstName='Colin', level='free', page='NextSong'),\n",
       " Row(userId='30', sessionId=1554, firstName='Colin', level='free', page='NextSong'),\n",
       " Row(userId='30', sessionId=1554, firstName='Colin', level='free', page='Roll Advert'),\n",
       " Row(userId='30', sessionId=1554, firstName='Colin', level='free', page='NextSong'),\n",
       " Row(userId='30', sessionId=1574, firstName='Colin', level='free', page='NextSong'),\n",
       " Row(userId='30', sessionId=1574, firstName='Colin', level='free', page='Roll Advert'),\n",
       " Row(userId='30', sessionId=1574, firstName='Colin', level='free', page='NextSong'),\n",
       " Row(userId='30', sessionId=1574, firstName='Colin', level='free', page='NextSong'),\n",
       " Row(userId='30', sessionId=1574, firstName='Colin', level='free', page='NextSong'),\n",
       " Row(userId='30', sessionId=1574, firstName='Colin', level='free', page='Home'),\n",
       " Row(userId='30', sessionId=1574, firstName='Colin', level='free', page='NextSong'),\n",
       " Row(userId='30', sessionId=1574, firstName='Colin', level='free', page='NextSong'),\n",
       " Row(userId='30', sessionId=1574, firstName='Colin', level='free', page='Roll Advert'),\n",
       " Row(userId='30', sessionId=1574, firstName='Colin', level='free', page='NextSong'),\n",
       " Row(userId='30', sessionId=1574, firstName='Colin', level='free', page='NextSong'),\n",
       " Row(userId='30', sessionId=1574, firstName='Colin', level='free', page='NextSong'),\n",
       " Row(userId='30', sessionId=1574, firstName='Colin', level='free', page='NextSong'),\n",
       " Row(userId='30', sessionId=1574, firstName='Colin', level='free', page='NextSong'),\n",
       " Row(userId='30', sessionId=1574, firstName='Colin', level='free', page='NextSong'),\n",
       " Row(userId='30', sessionId=1574, firstName='Colin', level='free', page='NextSong'),\n",
       " Row(userId='30', sessionId=1574, firstName='Colin', level='free', page='NextSong'),\n",
       " Row(userId='30', sessionId=1574, firstName='Colin', level='free', page='NextSong'),\n",
       " Row(userId='30', sessionId=1574, firstName='Colin', level='free', page='NextSong'),\n",
       " Row(userId='30', sessionId=1574, firstName='Colin', level='free', page='NextSong'),\n",
       " Row(userId='30', sessionId=1574, firstName='Colin', level='free', page='NextSong'),\n",
       " Row(userId='30', sessionId=1574, firstName='Colin', level='free', page='NextSong'),\n",
       " Row(userId='30', sessionId=1574, firstName='Colin', level='free', page='Add to Playlist'),\n",
       " Row(userId='30', sessionId=1574, firstName='Colin', level='free', page='NextSong'),\n",
       " Row(userId='30', sessionId=1574, firstName='Colin', level='free', page='NextSong'),\n",
       " Row(userId='30', sessionId=1574, firstName='Colin', level='free', page='NextSong'),\n",
       " Row(userId='30', sessionId=1574, firstName='Colin', level='free', page='Home'),\n",
       " Row(userId='30', sessionId=1574, firstName='Colin', level='free', page='Add Friend'),\n",
       " Row(userId='30', sessionId=1574, firstName='Colin', level='free', page='NextSong'),\n",
       " Row(userId='30', sessionId=1574, firstName='Colin', level='free', page='Thumbs Up'),\n",
       " Row(userId='30', sessionId=1574, firstName='Colin', level='free', page='NextSong'),\n",
       " Row(userId='30', sessionId=1574, firstName='Colin', level='free', page='NextSong'),\n",
       " Row(userId='30', sessionId=1574, firstName='Colin', level='free', page='NextSong'),\n",
       " Row(userId='30', sessionId=1574, firstName='Colin', level='free', page='Thumbs Up'),\n",
       " Row(userId='30', sessionId=1574, firstName='Colin', level='free', page='NextSong'),\n",
       " Row(userId='30', sessionId=1607, firstName='Colin', level='free', page='NextSong'),\n",
       " Row(userId='30', sessionId=1607, firstName='Colin', level='free', page='NextSong'),\n",
       " Row(userId='30', sessionId=1607, firstName='Colin', level='free', page='NextSong'),\n",
       " Row(userId='30', sessionId=1607, firstName='Colin', level='free', page='NextSong'),\n",
       " Row(userId='30', sessionId=1607, firstName='Colin', level='free', page='NextSong'),\n",
       " Row(userId='30', sessionId=1607, firstName='Colin', level='free', page='NextSong'),\n",
       " Row(userId='30', sessionId=1607, firstName='Colin', level='free', page='Add to Playlist'),\n",
       " Row(userId='30', sessionId=1607, firstName='Colin', level='free', page='NextSong'),\n",
       " Row(userId='30', sessionId=1607, firstName='Colin', level='free', page='NextSong'),\n",
       " Row(userId='30', sessionId=1607, firstName='Colin', level='free', page='NextSong'),\n",
       " Row(userId='30', sessionId=1607, firstName='Colin', level='free', page='NextSong'),\n",
       " Row(userId='30', sessionId=1607, firstName='Colin', level='free', page='Roll Advert'),\n",
       " Row(userId='30', sessionId=1607, firstName='Colin', level='free', page='Roll Advert'),\n",
       " Row(userId='30', sessionId=1607, firstName='Colin', level='free', page='NextSong'),\n",
       " Row(userId='30', sessionId=1607, firstName='Colin', level='free', page='NextSong'),\n",
       " Row(userId='30', sessionId=1607, firstName='Colin', level='free', page='Upgrade'),\n",
       " Row(userId='30', sessionId=1607, firstName='Colin', level='free', page='NextSong'),\n",
       " Row(userId='30', sessionId=1607, firstName='Colin', level='free', page='Logout'),\n",
       " Row(userId='30', sessionId=1607, firstName='Colin', level='free', page='Home'),\n",
       " Row(userId='30', sessionId=1607, firstName='Colin', level='free', page='NextSong'),\n",
       " Row(userId='30', sessionId=1607, firstName='Colin', level='free', page='NextSong'),\n",
       " Row(userId='30', sessionId=1607, firstName='Colin', level='free', page='NextSong'),\n",
       " Row(userId='30', sessionId=1607, firstName='Colin', level='free', page='NextSong'),\n",
       " Row(userId='30', sessionId=1607, firstName='Colin', level='free', page='NextSong'),\n",
       " Row(userId='30', sessionId=1607, firstName='Colin', level='free', page='NextSong'),\n",
       " Row(userId='30', sessionId=1607, firstName='Colin', level='free', page='Roll Advert'),\n",
       " Row(userId='30', sessionId=1607, firstName='Colin', level='free', page='NextSong'),\n",
       " Row(userId='30', sessionId=1607, firstName='Colin', level='free', page='Roll Advert'),\n",
       " Row(userId='30', sessionId=1628, firstName='Colin', level='free', page='NextSong'),\n",
       " Row(userId='30', sessionId=1628, firstName='Colin', level='free', page='Thumbs Down'),\n",
       " Row(userId='30', sessionId=1628, firstName='Colin', level='free', page='NextSong'),\n",
       " Row(userId='30', sessionId=1628, firstName='Colin', level='free', page='NextSong'),\n",
       " Row(userId='30', sessionId=1628, firstName='Colin', level='free', page='NextSong'),\n",
       " Row(userId='30', sessionId=1628, firstName='Colin', level='free', page='NextSong'),\n",
       " Row(userId='30', sessionId=1628, firstName='Colin', level='free', page='Thumbs Up'),\n",
       " Row(userId='30', sessionId=1628, firstName='Colin', level='free', page='NextSong'),\n",
       " Row(userId='30', sessionId=1632, firstName='Colin', level='free', page='NextSong'),\n",
       " Row(userId='30', sessionId=1632, firstName='Colin', level='free', page='NextSong'),\n",
       " Row(userId='30', sessionId=1632, firstName='Colin', level='free', page='NextSong'),\n",
       " Row(userId='30', sessionId=1632, firstName='Colin', level='free', page='NextSong'),\n",
       " Row(userId='30', sessionId=1632, firstName='Colin', level='free', page='NextSong'),\n",
       " Row(userId='30', sessionId=1632, firstName='Colin', level='free', page='Thumbs Up'),\n",
       " Row(userId='30', sessionId=1632, firstName='Colin', level='free', page='NextSong'),\n",
       " Row(userId='30', sessionId=1632, firstName='Colin', level='free', page='NextSong'),\n",
       " ...]"
      ]
     },
     "execution_count": 29,
     "metadata": {},
     "output_type": "execute_result"
    }
   ],
   "source": [
    "#history for user id 30\n",
    "df_m.select([\"userId\",\"sessionId\",\"firstName\",\"level\",\"page\"]).where(df.userId == \"30\").collect()"
   ]
  },
  {
   "cell_type": "code",
   "execution_count": 12,
   "metadata": {},
   "outputs": [],
   "source": [
    "#create lambda function to flag downgrade event\n",
    "flag_downgrade = udf(lambda x: 1 if x == \"Submit Downgrade\" else 0, IntegerType())"
   ]
  },
  {
   "cell_type": "code",
   "execution_count": 13,
   "metadata": {},
   "outputs": [],
   "source": [
    "#create column for downgrade flag\n",
    "df_m = df_m.withColumn(\"downgrade\",flag_downgrade(\"page\"))"
   ]
  },
  {
   "cell_type": "code",
   "execution_count": 32,
   "metadata": {},
   "outputs": [
    {
     "data": {
      "text/plain": [
       "Row(artist='Martha Tilston', auth='Logged In', firstName='Colin', gender='M', itemInSession=50, lastName='Freeman', length=277.89016, level='paid', location='Bakersfield, CA', method='PUT', page='NextSong', registration=1538173362000, sessionId=29, song='Rockpools', status=200, ts=1538352117000, userAgent='Mozilla/5.0 (Windows NT 6.1; WOW64; rv:31.0) Gecko/20100101 Firefox/31.0', userId='30', hour='0', downgrade=0)"
      ]
     },
     "execution_count": 32,
     "metadata": {},
     "output_type": "execute_result"
    }
   ],
   "source": [
    "#check if it's work\n",
    "df_m.head()"
   ]
  },
  {
   "cell_type": "code",
   "execution_count": 33,
   "metadata": {},
   "outputs": [],
   "source": [
    "#Now let's create window of userid to compute the cumulative sums using all precending rows\n",
    "wind = Window.partitionBy(\"userId\").orderBy(desc(\"ts\")).rangeBetween(Window.unboundedPreceding,0)"
   ]
  },
  {
   "cell_type": "code",
   "execution_count": 34,
   "metadata": {},
   "outputs": [],
   "source": [
    "#create phase column\n",
    "df_m = df_m.withColumn(\"phase\", Fsum(\"downgrade\").over(wind))"
   ]
  },
  {
   "cell_type": "code",
   "execution_count": 35,
   "metadata": {},
   "outputs": [
    {
     "data": {
      "text/plain": [
       "[Row(userId='30', firstName='Colin', ts=1538352117000, level='paid', page='NextSong', phase=1),\n",
       " Row(userId='30', firstName='Colin', ts=1538352394000, level='paid', page='NextSong', phase=1),\n",
       " Row(userId='30', firstName='Colin', ts=1538352676000, level='paid', page='NextSong', phase=1),\n",
       " Row(userId='30', firstName='Colin', ts=1538352899000, level='paid', page='NextSong', phase=1),\n",
       " Row(userId='30', firstName='Colin', ts=1538352905000, level='paid', page='Add to Playlist', phase=1),\n",
       " Row(userId='30', firstName='Colin', ts=1538353084000, level='paid', page='NextSong', phase=1),\n",
       " Row(userId='30', firstName='Colin', ts=1538353218000, level='paid', page='NextSong', phase=1),\n",
       " Row(userId='30', firstName='Colin', ts=1538353441000, level='paid', page='NextSong', phase=1),\n",
       " Row(userId='30', firstName='Colin', ts=1538353687000, level='paid', page='NextSong', phase=1),\n",
       " Row(userId='30', firstName='Colin', ts=1538353909000, level='paid', page='NextSong', phase=1),\n",
       " Row(userId='30', firstName='Colin', ts=1538354132000, level='paid', page='NextSong', phase=1),\n",
       " Row(userId='30', firstName='Colin', ts=1538354365000, level='paid', page='NextSong', phase=1),\n",
       " Row(userId='30', firstName='Colin', ts=1538354584000, level='paid', page='NextSong', phase=1),\n",
       " Row(userId='30', firstName='Colin', ts=1538354806000, level='paid', page='NextSong', phase=1),\n",
       " Row(userId='30', firstName='Colin', ts=1538354945000, level='paid', page='NextSong', phase=1),\n",
       " Row(userId='30', firstName='Colin', ts=1538355256000, level='paid', page='NextSong', phase=1),\n",
       " Row(userId='30', firstName='Colin', ts=1538355473000, level='paid', page='NextSong', phase=1),\n",
       " Row(userId='30', firstName='Colin', ts=1538355711000, level='paid', page='NextSong', phase=1),\n",
       " Row(userId='30', firstName='Colin', ts=1538355915000, level='paid', page='NextSong', phase=1),\n",
       " Row(userId='30', firstName='Colin', ts=1538356263000, level='paid', page='NextSong', phase=1),\n",
       " Row(userId='30', firstName='Colin', ts=1538356523000, level='paid', page='NextSong', phase=1),\n",
       " Row(userId='30', firstName='Colin', ts=1538356524000, level='paid', page='Thumbs Down', phase=1),\n",
       " Row(userId='30', firstName='Colin', ts=1538356707000, level='paid', page='NextSong', phase=1),\n",
       " Row(userId='30', firstName='Colin', ts=1538356903000, level='paid', page='NextSong', phase=1),\n",
       " Row(userId='30', firstName='Colin', ts=1538357223000, level='paid', page='NextSong', phase=1),\n",
       " Row(userId='30', firstName='Colin', ts=1538357452000, level='paid', page='NextSong', phase=1),\n",
       " Row(userId='30', firstName='Colin', ts=1538357648000, level='paid', page='NextSong', phase=1),\n",
       " Row(userId='30', firstName='Colin', ts=1538357649000, level='paid', page='Thumbs Up', phase=1),\n",
       " Row(userId='30', firstName='Colin', ts=1538357990000, level='paid', page='NextSong', phase=1),\n",
       " Row(userId='30', firstName='Colin', ts=1538357991000, level='paid', page='Thumbs Up', phase=1),\n",
       " Row(userId='30', firstName='Colin', ts=1538358314000, level='paid', page='NextSong', phase=1),\n",
       " Row(userId='30', firstName='Colin', ts=1538358532000, level='paid', page='NextSong', phase=1),\n",
       " Row(userId='30', firstName='Colin', ts=1538358761000, level='paid', page='NextSong', phase=1),\n",
       " Row(userId='30', firstName='Colin', ts=1538359054000, level='paid', page='NextSong', phase=1),\n",
       " Row(userId='30', firstName='Colin', ts=1538359320000, level='paid', page='NextSong', phase=1),\n",
       " Row(userId='30', firstName='Colin', ts=1538360720000, level='paid', page='NextSong', phase=1),\n",
       " Row(userId='30', firstName='Colin', ts=1538360737000, level='paid', page='Roll Advert', phase=1),\n",
       " Row(userId='30', firstName='Colin', ts=1538360905000, level='paid', page='NextSong', phase=1),\n",
       " Row(userId='30', firstName='Colin', ts=1538361107000, level='paid', page='NextSong', phase=1),\n",
       " Row(userId='30', firstName='Colin', ts=1538361372000, level='paid', page='NextSong', phase=1),\n",
       " Row(userId='30', firstName='Colin', ts=1538361540000, level='paid', page='NextSong', phase=1),\n",
       " Row(userId='30', firstName='Colin', ts=1538361575000, level='paid', page='Add to Playlist', phase=1),\n",
       " Row(userId='30', firstName='Colin', ts=1538810630000, level='paid', page='NextSong', phase=1),\n",
       " Row(userId='30', firstName='Colin', ts=1538810631000, level='paid', page='Add Friend', phase=1),\n",
       " Row(userId='30', firstName='Colin', ts=1538948226000, level='paid', page='Home', phase=1),\n",
       " Row(userId='30', firstName='Colin', ts=1538948240000, level='paid', page='NextSong', phase=1),\n",
       " Row(userId='30', firstName='Colin', ts=1538948591000, level='paid', page='NextSong', phase=1),\n",
       " Row(userId='30', firstName='Colin', ts=1538948837000, level='paid', page='NextSong', phase=1),\n",
       " Row(userId='30', firstName='Colin', ts=1538949034000, level='paid', page='NextSong', phase=1),\n",
       " Row(userId='30', firstName='Colin', ts=1538949225000, level='paid', page='NextSong', phase=1),\n",
       " Row(userId='30', firstName='Colin', ts=1538949548000, level='paid', page='NextSong', phase=1),\n",
       " Row(userId='30', firstName='Colin', ts=1538949893000, level='paid', page='NextSong', phase=1),\n",
       " Row(userId='30', firstName='Colin', ts=1538950072000, level='paid', page='NextSong', phase=1),\n",
       " Row(userId='30', firstName='Colin', ts=1538950302000, level='paid', page='NextSong', phase=1),\n",
       " Row(userId='30', firstName='Colin', ts=1538950541000, level='paid', page='NextSong', phase=1),\n",
       " Row(userId='30', firstName='Colin', ts=1538950549000, level='paid', page='Help', phase=1),\n",
       " Row(userId='30', firstName='Colin', ts=1538950593000, level='paid', page='Home', phase=1),\n",
       " Row(userId='30', firstName='Colin', ts=1538950812000, level='paid', page='NextSong', phase=1),\n",
       " Row(userId='30', firstName='Colin', ts=1538951123000, level='paid', page='NextSong', phase=1),\n",
       " Row(userId='30', firstName='Colin', ts=1538951327000, level='paid', page='NextSong', phase=1),\n",
       " Row(userId='30', firstName='Colin', ts=1538951566000, level='paid', page='NextSong', phase=1),\n",
       " Row(userId='30', firstName='Colin', ts=1538951758000, level='paid', page='NextSong', phase=1),\n",
       " Row(userId='30', firstName='Colin', ts=1538951976000, level='paid', page='NextSong', phase=1),\n",
       " Row(userId='30', firstName='Colin', ts=1538952145000, level='paid', page='NextSong', phase=1),\n",
       " Row(userId='30', firstName='Colin', ts=1538952381000, level='paid', page='NextSong', phase=1),\n",
       " Row(userId='30', firstName='Colin', ts=1538952621000, level='paid', page='NextSong', phase=1),\n",
       " Row(userId='30', firstName='Colin', ts=1538952837000, level='paid', page='NextSong', phase=1),\n",
       " Row(userId='30', firstName='Colin', ts=1538953091000, level='paid', page='NextSong', phase=1),\n",
       " Row(userId='30', firstName='Colin', ts=1538953282000, level='paid', page='NextSong', phase=1),\n",
       " Row(userId='30', firstName='Colin', ts=1538953507000, level='paid', page='NextSong', phase=1),\n",
       " Row(userId='30', firstName='Colin', ts=1538953526000, level='paid', page='Downgrade', phase=1),\n",
       " Row(userId='30', firstName='Colin', ts=1538953759000, level='paid', page='NextSong', phase=1),\n",
       " Row(userId='30', firstName='Colin', ts=1538953924000, level='paid', page='NextSong', phase=1),\n",
       " Row(userId='30', firstName='Colin', ts=1538954176000, level='paid', page='NextSong', phase=1),\n",
       " Row(userId='30', firstName='Colin', ts=1538954314000, level='paid', page='NextSong', phase=1),\n",
       " Row(userId='30', firstName='Colin', ts=1538954495000, level='paid', page='NextSong', phase=1),\n",
       " Row(userId='30', firstName='Colin', ts=1538954728000, level='paid', page='NextSong', phase=1),\n",
       " Row(userId='30', firstName='Colin', ts=1538954902000, level='paid', page='NextSong', phase=1),\n",
       " Row(userId='30', firstName='Colin', ts=1538955151000, level='paid', page='NextSong', phase=1),\n",
       " Row(userId='30', firstName='Colin', ts=1538955377000, level='paid', page='NextSong', phase=1),\n",
       " Row(userId='30', firstName='Colin', ts=1538955595000, level='paid', page='NextSong', phase=1),\n",
       " Row(userId='30', firstName='Colin', ts=1538955835000, level='paid', page='NextSong', phase=1),\n",
       " Row(userId='30', firstName='Colin', ts=1538956036000, level='paid', page='NextSong', phase=1),\n",
       " Row(userId='30', firstName='Colin', ts=1538956230000, level='paid', page='NextSong', phase=1),\n",
       " Row(userId='30', firstName='Colin', ts=1538956475000, level='paid', page='NextSong', phase=1),\n",
       " Row(userId='30', firstName='Colin', ts=1538956816000, level='paid', page='NextSong', phase=1),\n",
       " Row(userId='30', firstName='Colin', ts=1538957055000, level='paid', page='NextSong', phase=1),\n",
       " Row(userId='30', firstName='Colin', ts=1538957228000, level='paid', page='NextSong', phase=1),\n",
       " Row(userId='30', firstName='Colin', ts=1538957589000, level='paid', page='NextSong', phase=1),\n",
       " Row(userId='30', firstName='Colin', ts=1538957763000, level='paid', page='NextSong', phase=1),\n",
       " Row(userId='30', firstName='Colin', ts=1538957960000, level='paid', page='NextSong', phase=1),\n",
       " Row(userId='30', firstName='Colin', ts=1538958090000, level='paid', page='NextSong', phase=1),\n",
       " Row(userId='30', firstName='Colin', ts=1538958387000, level='paid', page='NextSong', phase=1),\n",
       " Row(userId='30', firstName='Colin', ts=1538958666000, level='paid', page='NextSong', phase=1),\n",
       " Row(userId='30', firstName='Colin', ts=1538958923000, level='paid', page='NextSong', phase=1),\n",
       " Row(userId='30', firstName='Colin', ts=1538959027000, level='paid', page='NextSong', phase=1),\n",
       " Row(userId='30', firstName='Colin', ts=1538959280000, level='paid', page='NextSong', phase=1),\n",
       " Row(userId='30', firstName='Colin', ts=1538959533000, level='paid', page='NextSong', phase=1),\n",
       " Row(userId='30', firstName='Colin', ts=1538959963000, level='paid', page='NextSong', phase=1),\n",
       " Row(userId='30', firstName='Colin', ts=1538960213000, level='paid', page='NextSong', phase=1),\n",
       " Row(userId='30', firstName='Colin', ts=1538960465000, level='paid', page='NextSong', phase=1),\n",
       " Row(userId='30', firstName='Colin', ts=1538960673000, level='paid', page='NextSong', phase=1),\n",
       " Row(userId='30', firstName='Colin', ts=1538960992000, level='paid', page='NextSong', phase=1),\n",
       " Row(userId='30', firstName='Colin', ts=1538961330000, level='paid', page='NextSong', phase=1),\n",
       " Row(userId='30', firstName='Colin', ts=1538961486000, level='paid', page='NextSong', phase=1),\n",
       " Row(userId='30', firstName='Colin', ts=1538961725000, level='paid', page='NextSong', phase=1),\n",
       " Row(userId='30', firstName='Colin', ts=1538962017000, level='paid', page='NextSong', phase=1),\n",
       " Row(userId='30', firstName='Colin', ts=1538962107000, level='paid', page='NextSong', phase=1),\n",
       " Row(userId='30', firstName='Colin', ts=1538962305000, level='paid', page='NextSong', phase=1),\n",
       " Row(userId='30', firstName='Colin', ts=1538962544000, level='paid', page='NextSong', phase=1),\n",
       " Row(userId='30', firstName='Colin', ts=1538962840000, level='paid', page='NextSong', phase=1),\n",
       " Row(userId='30', firstName='Colin', ts=1538962841000, level='paid', page='Thumbs Up', phase=1),\n",
       " Row(userId='30', firstName='Colin', ts=1538963112000, level='paid', page='NextSong', phase=1),\n",
       " Row(userId='30', firstName='Colin', ts=1538963113000, level='paid', page='Thumbs Up', phase=1),\n",
       " Row(userId='30', firstName='Colin', ts=1538963400000, level='paid', page='NextSong', phase=1),\n",
       " Row(userId='30', firstName='Colin', ts=1538963591000, level='paid', page='NextSong', phase=1),\n",
       " Row(userId='30', firstName='Colin', ts=1538963901000, level='paid', page='NextSong', phase=1),\n",
       " Row(userId='30', firstName='Colin', ts=1538964128000, level='paid', page='NextSong', phase=1),\n",
       " Row(userId='30', firstName='Colin', ts=1538964389000, level='paid', page='NextSong', phase=1),\n",
       " Row(userId='30', firstName='Colin', ts=1538964590000, level='paid', page='NextSong', phase=1),\n",
       " Row(userId='30', firstName='Colin', ts=1538964808000, level='paid', page='NextSong', phase=1),\n",
       " Row(userId='30', firstName='Colin', ts=1538965100000, level='paid', page='NextSong', phase=1),\n",
       " Row(userId='30', firstName='Colin', ts=1538965154000, level='paid', page='Home', phase=1),\n",
       " Row(userId='30', firstName='Colin', ts=1538965437000, level='paid', page='NextSong', phase=1),\n",
       " Row(userId='30', firstName='Colin', ts=1538965741000, level='paid', page='NextSong', phase=1),\n",
       " Row(userId='30', firstName='Colin', ts=1538965958000, level='paid', page='NextSong', phase=1),\n",
       " Row(userId='30', firstName='Colin', ts=1538966208000, level='paid', page='NextSong', phase=1),\n",
       " Row(userId='30', firstName='Colin', ts=1538966484000, level='paid', page='NextSong', phase=1),\n",
       " Row(userId='30', firstName='Colin', ts=1538966724000, level='paid', page='NextSong', phase=1),\n",
       " Row(userId='30', firstName='Colin', ts=1538966924000, level='paid', page='NextSong', phase=1),\n",
       " Row(userId='30', firstName='Colin', ts=1538966961000, level='paid', page='Add to Playlist', phase=1),\n",
       " Row(userId='30', firstName='Colin', ts=1538967205000, level='paid', page='NextSong', phase=1),\n",
       " Row(userId='30', firstName='Colin', ts=1538967447000, level='paid', page='NextSong', phase=1),\n",
       " Row(userId='30', firstName='Colin', ts=1538967448000, level='paid', page='Thumbs Up', phase=1),\n",
       " Row(userId='30', firstName='Colin', ts=1538967453000, level='paid', page='Add to Playlist', phase=1),\n",
       " Row(userId='30', firstName='Colin', ts=1538967726000, level='paid', page='NextSong', phase=1),\n",
       " Row(userId='30', firstName='Colin', ts=1538967967000, level='paid', page='NextSong', phase=1),\n",
       " Row(userId='30', firstName='Colin', ts=1538967968000, level='paid', page='Thumbs Up', phase=1),\n",
       " Row(userId='30', firstName='Colin', ts=1538967976000, level='paid', page='Add to Playlist', phase=1),\n",
       " Row(userId='30', firstName='Colin', ts=1538968163000, level='paid', page='NextSong', phase=1),\n",
       " Row(userId='30', firstName='Colin', ts=1538968181000, level='paid', page='Add to Playlist', phase=1),\n",
       " Row(userId='30', firstName='Colin', ts=1538968565000, level='paid', page='NextSong', phase=1),\n",
       " Row(userId='30', firstName='Colin', ts=1538968904000, level='paid', page='NextSong', phase=1),\n",
       " Row(userId='30', firstName='Colin', ts=1538969169000, level='paid', page='NextSong', phase=1),\n",
       " Row(userId='30', firstName='Colin', ts=1538969397000, level='paid', page='NextSong', phase=1),\n",
       " Row(userId='30', firstName='Colin', ts=1538969679000, level='paid', page='NextSong', phase=1),\n",
       " Row(userId='30', firstName='Colin', ts=1538969967000, level='paid', page='NextSong', phase=1),\n",
       " Row(userId='30', firstName='Colin', ts=1538970249000, level='paid', page='NextSong', phase=1),\n",
       " Row(userId='30', firstName='Colin', ts=1538970477000, level='paid', page='NextSong', phase=1),\n",
       " Row(userId='30', firstName='Colin', ts=1538970478000, level='paid', page='Thumbs Up', phase=1),\n",
       " Row(userId='30', firstName='Colin', ts=1538970847000, level='paid', page='NextSong', phase=1),\n",
       " Row(userId='30', firstName='Colin', ts=1538971054000, level='paid', page='NextSong', phase=1),\n",
       " Row(userId='30', firstName='Colin', ts=1538971191000, level='paid', page='Home', phase=1),\n",
       " Row(userId='30', firstName='Colin', ts=1538971204000, level='paid', page='NextSong', phase=1),\n",
       " Row(userId='30', firstName='Colin', ts=1538971535000, level='paid', page='NextSong', phase=1),\n",
       " Row(userId='30', firstName='Colin', ts=1538971736000, level='paid', page='NextSong', phase=1),\n",
       " Row(userId='30', firstName='Colin', ts=1538971737000, level='paid', page='Add Friend', phase=1),\n",
       " Row(userId='30', firstName='Colin', ts=1538971968000, level='paid', page='NextSong', phase=1),\n",
       " Row(userId='30', firstName='Colin', ts=1538972155000, level='paid', page='NextSong', phase=1),\n",
       " Row(userId='30', firstName='Colin', ts=1538972366000, level='paid', page='NextSong', phase=1),\n",
       " Row(userId='30', firstName='Colin', ts=1538972603000, level='paid', page='NextSong', phase=1),\n",
       " Row(userId='30', firstName='Colin', ts=1538972604000, level='paid', page='Thumbs Up', phase=1),\n",
       " Row(userId='30', firstName='Colin', ts=1538972749000, level='paid', page='NextSong', phase=1),\n",
       " Row(userId='30', firstName='Colin', ts=1538973112000, level='paid', page='NextSong', phase=1),\n",
       " Row(userId='30', firstName='Colin', ts=1538973235000, level='paid', page='NextSong', phase=1),\n",
       " Row(userId='30', firstName='Colin', ts=1538973529000, level='paid', page='NextSong', phase=1),\n",
       " Row(userId='30', firstName='Colin', ts=1538973865000, level='paid', page='NextSong', phase=1),\n",
       " Row(userId='30', firstName='Colin', ts=1538974008000, level='paid', page='NextSong', phase=1),\n",
       " Row(userId='30', firstName='Colin', ts=1538974395000, level='paid', page='NextSong', phase=1),\n",
       " Row(userId='30', firstName='Colin', ts=1538974658000, level='paid', page='NextSong', phase=1),\n",
       " Row(userId='30', firstName='Colin', ts=1538974930000, level='paid', page='NextSong', phase=1),\n",
       " Row(userId='30', firstName='Colin', ts=1538975199000, level='paid', page='NextSong', phase=1),\n",
       " Row(userId='30', firstName='Colin', ts=1538975394000, level='paid', page='NextSong', phase=1),\n",
       " Row(userId='30', firstName='Colin', ts=1538975640000, level='paid', page='NextSong', phase=1),\n",
       " Row(userId='30', firstName='Colin', ts=1538975892000, level='paid', page='NextSong', phase=1),\n",
       " Row(userId='30', firstName='Colin', ts=1538976048000, level='paid', page='NextSong', phase=1),\n",
       " Row(userId='30', firstName='Colin', ts=1538976227000, level='paid', page='NextSong', phase=1),\n",
       " Row(userId='30', firstName='Colin', ts=1538976417000, level='paid', page='NextSong', phase=1),\n",
       " Row(userId='30', firstName='Colin', ts=1538976666000, level='paid', page='NextSong', phase=1),\n",
       " Row(userId='30', firstName='Colin', ts=1538976856000, level='paid', page='NextSong', phase=1),\n",
       " Row(userId='30', firstName='Colin', ts=1538977052000, level='paid', page='NextSong', phase=1),\n",
       " Row(userId='30', firstName='Colin', ts=1538977053000, level='paid', page='Thumbs Up', phase=1),\n",
       " Row(userId='30', firstName='Colin', ts=1538977318000, level='paid', page='NextSong', phase=1),\n",
       " Row(userId='30', firstName='Colin', ts=1538977336000, level='paid', page='Home', phase=1),\n",
       " Row(userId='30', firstName='Colin', ts=1538977616000, level='paid', page='NextSong', phase=1),\n",
       " Row(userId='30', firstName='Colin', ts=1538977868000, level='paid', page='NextSong', phase=1),\n",
       " Row(userId='30', firstName='Colin', ts=1538978097000, level='paid', page='NextSong', phase=1),\n",
       " Row(userId='30', firstName='Colin', ts=1538978294000, level='paid', page='NextSong', phase=1),\n",
       " Row(userId='30', firstName='Colin', ts=1538978500000, level='paid', page='NextSong', phase=1),\n",
       " Row(userId='30', firstName='Colin', ts=1538978501000, level='paid', page='Thumbs Up', phase=1),\n",
       " Row(userId='30', firstName='Colin', ts=1538980515000, level='paid', page='NextSong', phase=1),\n",
       " Row(userId='30', firstName='Colin', ts=1538980901000, level='paid', page='NextSong', phase=1),\n",
       " Row(userId='30', firstName='Colin', ts=1538981087000, level='paid', page='NextSong', phase=1),\n",
       " Row(userId='30', firstName='Colin', ts=1538981272000, level='paid', page='NextSong', phase=1),\n",
       " Row(userId='30', firstName='Colin', ts=1538981536000, level='paid', page='NextSong', phase=1),\n",
       " Row(userId='30', firstName='Colin', ts=1538981973000, level='paid', page='NextSong', phase=1),\n",
       " Row(userId='30', firstName='Colin', ts=1538982201000, level='paid', page='NextSong', phase=1),\n",
       " Row(userId='30', firstName='Colin', ts=1538982367000, level='paid', page='NextSong', phase=1),\n",
       " Row(userId='30', firstName='Colin', ts=1538982535000, level='paid', page='NextSong', phase=1),\n",
       " Row(userId='30', firstName='Colin', ts=1538982771000, level='paid', page='NextSong', phase=1),\n",
       " Row(userId='30', firstName='Colin', ts=1538983127000, level='paid', page='NextSong', phase=1),\n",
       " Row(userId='30', firstName='Colin', ts=1538983333000, level='paid', page='NextSong', phase=1),\n",
       " Row(userId='30', firstName='Colin', ts=1538983551000, level='paid', page='NextSong', phase=1),\n",
       " Row(userId='30', firstName='Colin', ts=1538983809000, level='paid', page='NextSong', phase=1),\n",
       " Row(userId='30', firstName='Colin', ts=1538984035000, level='paid', page='NextSong', phase=1),\n",
       " Row(userId='30', firstName='Colin', ts=1538984245000, level='paid', page='NextSong', phase=1),\n",
       " Row(userId='30', firstName='Colin', ts=1538984541000, level='paid', page='NextSong', phase=1),\n",
       " Row(userId='30', firstName='Colin', ts=1538984631000, level='paid', page='NextSong', phase=1),\n",
       " Row(userId='30', firstName='Colin', ts=1538985042000, level='paid', page='NextSong', phase=1),\n",
       " Row(userId='30', firstName='Colin', ts=1538985043000, level='paid', page='Thumbs Up', phase=1),\n",
       " Row(userId='30', firstName='Colin', ts=1538985286000, level='paid', page='NextSong', phase=1),\n",
       " Row(userId='30', firstName='Colin', ts=1538985420000, level='paid', page='NextSong', phase=1),\n",
       " Row(userId='30', firstName='Colin', ts=1538985421000, level='paid', page='Add Friend', phase=1),\n",
       " Row(userId='30', firstName='Colin', ts=1538985422000, level='paid', page='Add Friend', phase=1),\n",
       " Row(userId='30', firstName='Colin', ts=1538985653000, level='paid', page='NextSong', phase=1),\n",
       " Row(userId='30', firstName='Colin', ts=1538985666000, level='paid', page='Add to Playlist', phase=1),\n",
       " Row(userId='30', firstName='Colin', ts=1538985765000, level='paid', page='NextSong', phase=1),\n",
       " Row(userId='30', firstName='Colin', ts=1538986039000, level='paid', page='NextSong', phase=1),\n",
       " Row(userId='30', firstName='Colin', ts=1538986272000, level='paid', page='NextSong', phase=1),\n",
       " Row(userId='30', firstName='Colin', ts=1538986292000, level='paid', page='Settings', phase=1),\n",
       " Row(userId='30', firstName='Colin', ts=1538986522000, level='paid', page='NextSong', phase=1),\n",
       " Row(userId='30', firstName='Colin', ts=1538986758000, level='paid', page='NextSong', phase=1),\n",
       " Row(userId='30', firstName='Colin', ts=1538986954000, level='paid', page='NextSong', phase=1),\n",
       " Row(userId='30', firstName='Colin', ts=1538987267000, level='paid', page='NextSong', phase=1),\n",
       " Row(userId='30', firstName='Colin', ts=1538987268000, level='paid', page='Thumbs Up', phase=1),\n",
       " Row(userId='30', firstName='Colin', ts=1538987470000, level='paid', page='NextSong', phase=1),\n",
       " Row(userId='30', firstName='Colin', ts=1538987780000, level='paid', page='NextSong', phase=1),\n",
       " Row(userId='30', firstName='Colin', ts=1538987992000, level='paid', page='NextSong', phase=1),\n",
       " Row(userId='30', firstName='Colin', ts=1538988233000, level='paid', page='NextSong', phase=1),\n",
       " Row(userId='30', firstName='Colin', ts=1538988476000, level='paid', page='NextSong', phase=1),\n",
       " Row(userId='30', firstName='Colin', ts=1538988872000, level='paid', page='NextSong', phase=1),\n",
       " Row(userId='30', firstName='Colin', ts=1538989190000, level='paid', page='NextSong', phase=1),\n",
       " Row(userId='30', firstName='Colin', ts=1538989460000, level='paid', page='NextSong', phase=1),\n",
       " Row(userId='30', firstName='Colin', ts=1538989626000, level='paid', page='NextSong', phase=1),\n",
       " Row(userId='30', firstName='Colin', ts=1538989842000, level='paid', page='NextSong', phase=1),\n",
       " Row(userId='30', firstName='Colin', ts=1538990110000, level='paid', page='NextSong', phase=1),\n",
       " Row(userId='30', firstName='Colin', ts=1538990348000, level='paid', page='NextSong', phase=1),\n",
       " Row(userId='30', firstName='Colin', ts=1538990355000, level='paid', page='Add to Playlist', phase=1),\n",
       " Row(userId='30', firstName='Colin', ts=1538990608000, level='paid', page='NextSong', phase=1),\n",
       " Row(userId='30', firstName='Colin', ts=1538990789000, level='paid', page='NextSong', phase=1),\n",
       " Row(userId='30', firstName='Colin', ts=1538990811000, level='paid', page='Error', phase=1),\n",
       " Row(userId='30', firstName='Colin', ts=1538990964000, level='paid', page='NextSong', phase=1),\n",
       " Row(userId='30', firstName='Colin', ts=1538991359000, level='paid', page='NextSong', phase=1),\n",
       " Row(userId='30', firstName='Colin', ts=1538991874000, level='paid', page='NextSong', phase=1),\n",
       " Row(userId='30', firstName='Colin', ts=1538992187000, level='paid', page='NextSong', phase=1),\n",
       " Row(userId='30', firstName='Colin', ts=1538992508000, level='paid', page='NextSong', phase=1),\n",
       " Row(userId='30', firstName='Colin', ts=1538993164000, level='paid', page='NextSong', phase=1),\n",
       " Row(userId='30', firstName='Colin', ts=1538993384000, level='paid', page='NextSong', phase=1),\n",
       " Row(userId='30', firstName='Colin', ts=1538993615000, level='paid', page='NextSong', phase=1),\n",
       " Row(userId='30', firstName='Colin', ts=1538993850000, level='paid', page='NextSong', phase=1),\n",
       " Row(userId='30', firstName='Colin', ts=1538994156000, level='paid', page='NextSong', phase=1),\n",
       " Row(userId='30', firstName='Colin', ts=1538994201000, level='paid', page='Downgrade', phase=1),\n",
       " Row(userId='30', firstName='Colin', ts=1538994374000, level='paid', page='NextSong', phase=1),\n",
       " Row(userId='30', firstName='Colin', ts=1538994562000, level='paid', page='NextSong', phase=1),\n",
       " Row(userId='30', firstName='Colin', ts=1538994832000, level='paid', page='NextSong', phase=1),\n",
       " Row(userId='30', firstName='Colin', ts=1538995016000, level='paid', page='NextSong', phase=1),\n",
       " Row(userId='30', firstName='Colin', ts=1538995447000, level='paid', page='NextSong', phase=1),\n",
       " Row(userId='30', firstName='Colin', ts=1538995453000, level='paid', page='Downgrade', phase=1),\n",
       " Row(userId='30', firstName='Colin', ts=1538995454000, level='paid', page='Submit Downgrade', phase=1),\n",
       " Row(userId='30', firstName='Colin', ts=1538995509000, level='free', page='Home', phase=0),\n",
       " Row(userId='30', firstName='Colin', ts=1538995657000, level='free', page='NextSong', phase=0),\n",
       " Row(userId='30', firstName='Colin', ts=1538995915000, level='free', page='NextSong', phase=0),\n",
       " Row(userId='30', firstName='Colin', ts=1538996254000, level='free', page='NextSong', phase=0),\n",
       " Row(userId='30', firstName='Colin', ts=1538996261000, level='free', page='Add to Playlist', phase=0),\n",
       " Row(userId='30', firstName='Colin', ts=1538996451000, level='free', page='NextSong', phase=0),\n",
       " Row(userId='30', firstName='Colin', ts=1538996718000, level='free', page='NextSong', phase=0),\n",
       " Row(userId='30', firstName='Colin', ts=1538996862000, level='free', page='NextSong', phase=0),\n",
       " Row(userId='30', firstName='Colin', ts=1538996870000, level='free', page='Home', phase=0),\n",
       " Row(userId='30', firstName='Colin', ts=1538997066000, level='free', page='NextSong', phase=0),\n",
       " Row(userId='30', firstName='Colin', ts=1538997356000, level='free', page='NextSong', phase=0),\n",
       " Row(userId='30', firstName='Colin', ts=1538997655000, level='free', page='NextSong', phase=0),\n",
       " Row(userId='30', firstName='Colin', ts=1538997824000, level='free', page='NextSong', phase=0),\n",
       " Row(userId='30', firstName='Colin', ts=1538997825000, level='free', page='Thumbs Up', phase=0),\n",
       " Row(userId='30', firstName='Colin', ts=1538998102000, level='free', page='NextSong', phase=0),\n",
       " Row(userId='30', firstName='Colin', ts=1538998114000, level='free', page='Add to Playlist', phase=0),\n",
       " Row(userId='30', firstName='Colin', ts=1538998450000, level='free', page='NextSong', phase=0),\n",
       " Row(userId='30', firstName='Colin', ts=1538998660000, level='free', page='NextSong', phase=0),\n",
       " Row(userId='30', firstName='Colin', ts=1538998989000, level='free', page='NextSong', phase=0),\n",
       " Row(userId='30', firstName='Colin', ts=1538999210000, level='free', page='NextSong', phase=0),\n",
       " Row(userId='30', firstName='Colin', ts=1538999425000, level='free', page='NextSong', phase=0),\n",
       " Row(userId='30', firstName='Colin', ts=1538999644000, level='free', page='NextSong', phase=0),\n",
       " Row(userId='30', firstName='Colin', ts=1538999867000, level='free', page='NextSong', phase=0),\n",
       " Row(userId='30', firstName='Colin', ts=1539000087000, level='free', page='NextSong', phase=0),\n",
       " Row(userId='30', firstName='Colin', ts=1539000321000, level='free', page='NextSong', phase=0),\n",
       " Row(userId='30', firstName='Colin', ts=1539000599000, level='free', page='NextSong', phase=0),\n",
       " Row(userId='30', firstName='Colin', ts=1539000795000, level='free', page='NextSong', phase=0),\n",
       " Row(userId='30', firstName='Colin', ts=1539000918000, level='free', page='NextSong', phase=0),\n",
       " Row(userId='30', firstName='Colin', ts=1539000958000, level='free', page='Upgrade', phase=0),\n",
       " Row(userId='30', firstName='Colin', ts=1539001052000, level='free', page='NextSong', phase=0),\n",
       " Row(userId='30', firstName='Colin', ts=1539001077000, level='free', page='Upgrade', phase=0),\n",
       " Row(userId='30', firstName='Colin', ts=1539001243000, level='free', page='NextSong', phase=0),\n",
       " Row(userId='30', firstName='Colin', ts=1539001451000, level='free', page='NextSong', phase=0),\n",
       " Row(userId='30', firstName='Colin', ts=1539001513000, level='free', page='Add to Playlist', phase=0),\n",
       " Row(userId='30', firstName='Colin', ts=1539001945000, level='free', page='NextSong', phase=0),\n",
       " Row(userId='30', firstName='Colin', ts=1539002135000, level='free', page='NextSong', phase=0),\n",
       " Row(userId='30', firstName='Colin', ts=1539002303000, level='free', page='NextSong', phase=0),\n",
       " Row(userId='30', firstName='Colin', ts=1539002562000, level='free', page='NextSong', phase=0),\n",
       " Row(userId='30', firstName='Colin', ts=1539002881000, level='free', page='NextSong', phase=0),\n",
       " Row(userId='30', firstName='Colin', ts=1539003010000, level='free', page='NextSong', phase=0),\n",
       " Row(userId='30', firstName='Colin', ts=1539003011000, level='free', page='Thumbs Up', phase=0),\n",
       " Row(userId='30', firstName='Colin', ts=1539003233000, level='free', page='NextSong', phase=0),\n",
       " Row(userId='30', firstName='Colin', ts=1539003419000, level='free', page='NextSong', phase=0),\n",
       " Row(userId='30', firstName='Colin', ts=1539003841000, level='free', page='NextSong', phase=0),\n",
       " Row(userId='30', firstName='Colin', ts=1539003842000, level='free', page='Thumbs Up', phase=0),\n",
       " Row(userId='30', firstName='Colin', ts=1539004108000, level='free', page='NextSong', phase=0),\n",
       " Row(userId='30', firstName='Colin', ts=1539004374000, level='free', page='NextSong', phase=0),\n",
       " Row(userId='30', firstName='Colin', ts=1539004480000, level='free', page='NextSong', phase=0),\n",
       " Row(userId='30', firstName='Colin', ts=1539004502000, level='free', page='Roll Advert', phase=0),\n",
       " Row(userId='30', firstName='Colin', ts=1539004882000, level='free', page='NextSong', phase=0),\n",
       " Row(userId='30', firstName='Colin', ts=1539005256000, level='free', page='NextSong', phase=0),\n",
       " Row(userId='30', firstName='Colin', ts=1539005507000, level='free', page='NextSong', phase=0),\n",
       " Row(userId='30', firstName='Colin', ts=1539005525000, level='free', page='Add to Playlist', phase=0),\n",
       " Row(userId='30', firstName='Colin', ts=1539005758000, level='free', page='NextSong', phase=0),\n",
       " Row(userId='30', firstName='Colin', ts=1539005788000, level='free', page='Home', phase=0),\n",
       " Row(userId='30', firstName='Colin', ts=1539005966000, level='free', page='NextSong', phase=0),\n",
       " Row(userId='30', firstName='Colin', ts=1539006314000, level='free', page='NextSong', phase=0),\n",
       " Row(userId='30', firstName='Colin', ts=1539006315000, level='free', page='Thumbs Up', phase=0),\n",
       " Row(userId='30', firstName='Colin', ts=1539006578000, level='free', page='NextSong', phase=0),\n",
       " Row(userId='30', firstName='Colin', ts=1539006759000, level='free', page='NextSong', phase=0),\n",
       " Row(userId='30', firstName='Colin', ts=1539006924000, level='free', page='NextSong', phase=0),\n",
       " Row(userId='30', firstName='Colin', ts=1539007237000, level='free', page='NextSong', phase=0),\n",
       " Row(userId='30', firstName='Colin', ts=1539007238000, level='free', page='Add Friend', phase=0),\n",
       " Row(userId='30', firstName='Colin', ts=1539007239000, level='free', page='Add Friend', phase=0),\n",
       " Row(userId='30', firstName='Colin', ts=1539007249000, level='free', page='Home', phase=0),\n",
       " Row(userId='30', firstName='Colin', ts=1539007438000, level='free', page='NextSong', phase=0),\n",
       " Row(userId='30', firstName='Colin', ts=1539007439000, level='free', page='Roll Advert', phase=0),\n",
       " Row(userId='30', firstName='Colin', ts=1539007649000, level='free', page='NextSong', phase=0),\n",
       " Row(userId='30', firstName='Colin', ts=1539007935000, level='free', page='NextSong', phase=0),\n",
       " Row(userId='30', firstName='Colin', ts=1539008179000, level='free', page='NextSong', phase=0),\n",
       " Row(userId='30', firstName='Colin', ts=1539008217000, level='free', page='Home', phase=0),\n",
       " Row(userId='30', firstName='Colin', ts=1539008382000, level='free', page='NextSong', phase=0),\n",
       " Row(userId='30', firstName='Colin', ts=1539008779000, level='free', page='NextSong', phase=0),\n",
       " Row(userId='30', firstName='Colin', ts=1539009008000, level='free', page='NextSong', phase=0),\n",
       " Row(userId='30', firstName='Colin', ts=1539009195000, level='free', page='NextSong', phase=0),\n",
       " Row(userId='30', firstName='Colin', ts=1539158867000, level='free', page='Home', phase=0),\n",
       " Row(userId='30', firstName='Colin', ts=1539158890000, level='free', page='NextSong', phase=0),\n",
       " Row(userId='30', firstName='Colin', ts=1539159148000, level='free', page='NextSong', phase=0),\n",
       " Row(userId='30', firstName='Colin', ts=1539159403000, level='free', page='NextSong', phase=0),\n",
       " Row(userId='30', firstName='Colin', ts=1539159653000, level='free', page='NextSong', phase=0),\n",
       " Row(userId='30', firstName='Colin', ts=1539159936000, level='free', page='NextSong', phase=0),\n",
       " Row(userId='30', firstName='Colin', ts=1539273182000, level='free', page='Home', phase=0),\n",
       " Row(userId='30', firstName='Colin', ts=1539273245000, level='free', page='Home', phase=0),\n",
       " Row(userId='30', firstName='Colin', ts=1539275685000, level='free', page='Home', phase=0),\n",
       " Row(userId='30', firstName='Colin', ts=1539275691000, level='free', page='NextSong', phase=0),\n",
       " Row(userId='30', firstName='Colin', ts=1539275897000, level='free', page='NextSong', phase=0),\n",
       " Row(userId='30', firstName='Colin', ts=1539276162000, level='free', page='NextSong', phase=0),\n",
       " Row(userId='30', firstName='Colin', ts=1539276378000, level='free', page='NextSong', phase=0),\n",
       " Row(userId='30', firstName='Colin', ts=1539276711000, level='free', page='NextSong', phase=0),\n",
       " Row(userId='30', firstName='Colin', ts=1539276950000, level='free', page='NextSong', phase=0),\n",
       " Row(userId='30', firstName='Colin', ts=1539276951000, level='free', page='Roll Advert', phase=0),\n",
       " Row(userId='30', firstName='Colin', ts=1539277255000, level='free', page='NextSong', phase=0),\n",
       " Row(userId='30', firstName='Colin', ts=1539277261000, level='free', page='Upgrade', phase=0),\n",
       " Row(userId='30', firstName='Colin', ts=1539277530000, level='free', page='NextSong', phase=0),\n",
       " Row(userId='30', firstName='Colin', ts=1539277711000, level='free', page='NextSong', phase=0),\n",
       " Row(userId='30', firstName='Colin', ts=1539277944000, level='free', page='NextSong', phase=0),\n",
       " Row(userId='30', firstName='Colin', ts=1539278183000, level='free', page='NextSong', phase=0),\n",
       " Row(userId='30', firstName='Colin', ts=1539278516000, level='free', page='NextSong', phase=0),\n",
       " Row(userId='30', firstName='Colin', ts=1539278732000, level='free', page='NextSong', phase=0),\n",
       " Row(userId='30', firstName='Colin', ts=1539278911000, level='free', page='NextSong', phase=0),\n",
       " Row(userId='30', firstName='Colin', ts=1539279119000, level='free', page='NextSong', phase=0),\n",
       " Row(userId='30', firstName='Colin', ts=1539279316000, level='free', page='NextSong', phase=0),\n",
       " Row(userId='30', firstName='Colin', ts=1539279636000, level='free', page='NextSong', phase=0),\n",
       " Row(userId='30', firstName='Colin', ts=1539279892000, level='free', page='NextSong', phase=0),\n",
       " Row(userId='30', firstName='Colin', ts=1539279893000, level='free', page='Thumbs Up', phase=0),\n",
       " Row(userId='30', firstName='Colin', ts=1539280389000, level='free', page='NextSong', phase=0),\n",
       " Row(userId='30', firstName='Colin', ts=1539280570000, level='free', page='NextSong', phase=0),\n",
       " Row(userId='30', firstName='Colin', ts=1539280818000, level='free', page='NextSong', phase=0),\n",
       " Row(userId='30', firstName='Colin', ts=1539280865000, level='free', page='Roll Advert', phase=0),\n",
       " Row(userId='30', firstName='Colin', ts=1539280873000, level='free', page='Roll Advert', phase=0),\n",
       " Row(userId='30', firstName='Colin', ts=1539295537000, level='free', page='NextSong', phase=0),\n",
       " Row(userId='30', firstName='Colin', ts=1539295687000, level='free', page='NextSong', phase=0),\n",
       " Row(userId='30', firstName='Colin', ts=1539295921000, level='free', page='NextSong', phase=0),\n",
       " Row(userId='30', firstName='Colin', ts=1539296099000, level='free', page='NextSong', phase=0),\n",
       " Row(userId='30', firstName='Colin', ts=1539296131000, level='free', page='Roll Advert', phase=0),\n",
       " Row(userId='30', firstName='Colin', ts=1539296336000, level='free', page='NextSong', phase=0),\n",
       " Row(userId='30', firstName='Colin', ts=1539296594000, level='free', page='NextSong', phase=0),\n",
       " Row(userId='30', firstName='Colin', ts=1539296795000, level='free', page='NextSong', phase=0),\n",
       " Row(userId='30', firstName='Colin', ts=1539296796000, level='free', page='Thumbs Up', phase=0),\n",
       " Row(userId='30', firstName='Colin', ts=1539297021000, level='free', page='NextSong', phase=0),\n",
       " Row(userId='30', firstName='Colin', ts=1539297304000, level='free', page='NextSong', phase=0),\n",
       " Row(userId='30', firstName='Colin', ts=1539297491000, level='free', page='NextSong', phase=0),\n",
       " Row(userId='30', firstName='Colin', ts=1539297690000, level='free', page='NextSong', phase=0),\n",
       " Row(userId='30', firstName='Colin', ts=1539297701000, level='free', page='Roll Advert', phase=0),\n",
       " Row(userId='30', firstName='Colin', ts=1539298037000, level='free', page='NextSong', phase=0),\n",
       " Row(userId='30', firstName='Colin', ts=1539298205000, level='free', page='NextSong', phase=0),\n",
       " Row(userId='30', firstName='Colin', ts=1539298417000, level='free', page='NextSong', phase=0),\n",
       " Row(userId='30', firstName='Colin', ts=1539298608000, level='free', page='NextSong', phase=0),\n",
       " Row(userId='30', firstName='Colin', ts=1539298965000, level='free', page='NextSong', phase=0),\n",
       " Row(userId='30', firstName='Colin', ts=1539298966000, level='free', page='Thumbs Up', phase=0),\n",
       " Row(userId='30', firstName='Colin', ts=1539299301000, level='free', page='NextSong', phase=0),\n",
       " Row(userId='30', firstName='Colin', ts=1539299538000, level='free', page='NextSong', phase=0),\n",
       " Row(userId='30', firstName='Colin', ts=1539299650000, level='free', page='NextSong', phase=0),\n",
       " Row(userId='30', firstName='Colin', ts=1539299863000, level='free', page='NextSong', phase=0),\n",
       " Row(userId='30', firstName='Colin', ts=1539300139000, level='free', page='NextSong', phase=0),\n",
       " Row(userId='30', firstName='Colin', ts=1539300506000, level='free', page='NextSong', phase=0),\n",
       " Row(userId='30', firstName='Colin', ts=1539300790000, level='free', page='NextSong', phase=0),\n",
       " Row(userId='30', firstName='Colin', ts=1539300791000, level='free', page='Thumbs Up', phase=0),\n",
       " Row(userId='30', firstName='Colin', ts=1539301067000, level='free', page='NextSong', phase=0),\n",
       " Row(userId='30', firstName='Colin', ts=1539301073000, level='free', page='Upgrade', phase=0),\n",
       " Row(userId='30', firstName='Colin', ts=1539301490000, level='free', page='NextSong', phase=0),\n",
       " Row(userId='30', firstName='Colin', ts=1539301491000, level='free', page='Logout', phase=0),\n",
       " Row(userId='30', firstName='Colin', ts=1539615637000, level='free', page='Home', phase=0),\n",
       " Row(userId='30', firstName='Colin', ts=1539615678000, level='free', page='NextSong', phase=0),\n",
       " Row(userId='30', firstName='Colin', ts=1539615704000, level='free', page='Add to Playlist', phase=0),\n",
       " Row(userId='30', firstName='Colin', ts=1539615872000, level='free', page='NextSong', phase=0),\n",
       " Row(userId='30', firstName='Colin', ts=1539616019000, level='free', page='NextSong', phase=0),\n",
       " Row(userId='30', firstName='Colin', ts=1539616193000, level='free', page='NextSong', phase=0),\n",
       " Row(userId='30', firstName='Colin', ts=1539616464000, level='free', page='NextSong', phase=0),\n",
       " Row(userId='30', firstName='Colin', ts=1539616703000, level='free', page='NextSong', phase=0),\n",
       " Row(userId='30', firstName='Colin', ts=1539616926000, level='free', page='NextSong', phase=0),\n",
       " Row(userId='30', firstName='Colin', ts=1539617108000, level='free', page='NextSong', phase=0),\n",
       " Row(userId='30', firstName='Colin', ts=1539617340000, level='free', page='NextSong', phase=0),\n",
       " Row(userId='30', firstName='Colin', ts=1539617558000, level='free', page='NextSong', phase=0),\n",
       " Row(userId='30', firstName='Colin', ts=1539617817000, level='free', page='NextSong', phase=0),\n",
       " Row(userId='30', firstName='Colin', ts=1539617871000, level='free', page='Roll Advert', phase=0),\n",
       " Row(userId='30', firstName='Colin', ts=1539618035000, level='free', page='NextSong', phase=0),\n",
       " Row(userId='30', firstName='Colin', ts=1539618207000, level='free', page='NextSong', phase=0),\n",
       " Row(userId='30', firstName='Colin', ts=1539618210000, level='free', page='Home', phase=0),\n",
       " Row(userId='30', firstName='Colin', ts=1539618576000, level='free', page='NextSong', phase=0),\n",
       " Row(userId='30', firstName='Colin', ts=1539618794000, level='free', page='NextSong', phase=0),\n",
       " Row(userId='30', firstName='Colin', ts=1539619107000, level='free', page='NextSong', phase=0),\n",
       " Row(userId='30', firstName='Colin', ts=1539619321000, level='free', page='NextSong', phase=0),\n",
       " Row(userId='30', firstName='Colin', ts=1539619461000, level='free', page='NextSong', phase=0),\n",
       " Row(userId='30', firstName='Colin', ts=1539619819000, level='free', page='NextSong', phase=0),\n",
       " Row(userId='30', firstName='Colin', ts=1539619820000, level='free', page='Thumbs Up', phase=0),\n",
       " Row(userId='30', firstName='Colin', ts=1539620003000, level='free', page='NextSong', phase=0),\n",
       " Row(userId='30', firstName='Colin', ts=1539620242000, level='free', page='NextSong', phase=0),\n",
       " Row(userId='30', firstName='Colin', ts=1539620475000, level='free', page='NextSong', phase=0),\n",
       " Row(userId='30', firstName='Colin', ts=1539620823000, level='free', page='NextSong', phase=0),\n",
       " Row(userId='30', firstName='Colin', ts=1539620841000, level='free', page='Roll Advert', phase=0),\n",
       " Row(userId='30', firstName='Colin', ts=1539620842000, level='free', page='Logout', phase=0),\n",
       " Row(userId='30', firstName='Colin', ts=1539620843000, level='free', page='Home', phase=0),\n",
       " Row(userId='30', firstName='Colin', ts=1539621014000, level='free', page='NextSong', phase=0),\n",
       " Row(userId='30', firstName='Colin', ts=1539621224000, level='free', page='NextSong', phase=0),\n",
       " Row(userId='30', firstName='Colin', ts=1539621448000, level='free', page='NextSong', phase=0),\n",
       " Row(userId='30', firstName='Colin', ts=1539621468000, level='free', page='Roll Advert', phase=0),\n",
       " Row(userId='30', firstName='Colin', ts=1539621525000, level='free', page='Roll Advert', phase=0),\n",
       " Row(userId='30', firstName='Colin', ts=1539621677000, level='free', page='NextSong', phase=0),\n",
       " Row(userId='30', firstName='Colin', ts=1539621922000, level='free', page='NextSong', phase=0),\n",
       " Row(userId='30', firstName='Colin', ts=1539622195000, level='free', page='NextSong', phase=0),\n",
       " Row(userId='30', firstName='Colin', ts=1539622196000, level='free', page='Thumbs Up', phase=0),\n",
       " Row(userId='30', firstName='Colin', ts=1539622379000, level='free', page='NextSong', phase=0),\n",
       " Row(userId='30', firstName='Colin', ts=1539622580000, level='free', page='NextSong', phase=0),\n",
       " Row(userId='30', firstName='Colin', ts=1539622807000, level='free', page='NextSong', phase=0),\n",
       " Row(userId='30', firstName='Colin', ts=1539623024000, level='free', page='NextSong', phase=0),\n",
       " Row(userId='30', firstName='Colin', ts=1539623176000, level='free', page='NextSong', phase=0),\n",
       " Row(userId='30', firstName='Colin', ts=1539623471000, level='free', page='NextSong', phase=0),\n",
       " Row(userId='30', firstName='Colin', ts=1539624022000, level='free', page='NextSong', phase=0),\n",
       " Row(userId='30', firstName='Colin', ts=1539624190000, level='free', page='NextSong', phase=0),\n",
       " Row(userId='30', firstName='Colin', ts=1539624635000, level='free', page='NextSong', phase=0),\n",
       " Row(userId='30', firstName='Colin', ts=1539625095000, level='free', page='NextSong', phase=0),\n",
       " Row(userId='30', firstName='Colin', ts=1539625118000, level='free', page='Roll Advert', phase=0),\n",
       " Row(userId='30', firstName='Colin', ts=1539625362000, level='free', page='NextSong', phase=0),\n",
       " Row(userId='30', firstName='Colin', ts=1539625628000, level='free', page='NextSong', phase=0),\n",
       " Row(userId='30', firstName='Colin', ts=1539625638000, level='free', page='Add to Playlist', phase=0),\n",
       " Row(userId='30', firstName='Colin', ts=1539625896000, level='free', page='NextSong', phase=0),\n",
       " Row(userId='30', firstName='Colin', ts=1539626191000, level='free', page='NextSong', phase=0),\n",
       " Row(userId='30', firstName='Colin', ts=1539626391000, level='free', page='NextSong', phase=0),\n",
       " Row(userId='30', firstName='Colin', ts=1539626544000, level='free', page='NextSong', phase=0),\n",
       " Row(userId='30', firstName='Colin', ts=1539626970000, level='free', page='NextSong', phase=0),\n",
       " Row(userId='30', firstName='Colin', ts=1539626977000, level='free', page='Add to Playlist', phase=0),\n",
       " Row(userId='30', firstName='Colin', ts=1539627479000, level='free', page='NextSong', phase=0),\n",
       " Row(userId='30', firstName='Colin', ts=1539627836000, level='free', page='NextSong', phase=0),\n",
       " Row(userId='30', firstName='Colin', ts=1539628056000, level='free', page='NextSong', phase=0),\n",
       " Row(userId='30', firstName='Colin', ts=1539628057000, level='free', page='Thumbs Up', phase=0),\n",
       " Row(userId='30', firstName='Colin', ts=1539628209000, level='free', page='NextSong', phase=0),\n",
       " Row(userId='30', firstName='Colin', ts=1539628414000, level='free', page='NextSong', phase=0),\n",
       " Row(userId='30', firstName='Colin', ts=1539628619000, level='free', page='NextSong', phase=0),\n",
       " Row(userId='30', firstName='Colin', ts=1539628620000, level='free', page='Logout', phase=0),\n",
       " Row(userId='30', firstName='Colin', ts=1539628843000, level='free', page='Home', phase=0),\n",
       " Row(userId='30', firstName='Colin', ts=1539628852000, level='free', page='NextSong', phase=0),\n",
       " Row(userId='30', firstName='Colin', ts=1539629132000, level='free', page='NextSong', phase=0),\n",
       " Row(userId='30', firstName='Colin', ts=1539629166000, level='free', page='Help', phase=0),\n",
       " Row(userId='30', firstName='Colin', ts=1539629443000, level='free', page='NextSong', phase=0),\n",
       " Row(userId='30', firstName='Colin', ts=1539629826000, level='free', page='NextSong', phase=0),\n",
       " Row(userId='30', firstName='Colin', ts=1539629830000, level='free', page='Home', phase=0),\n",
       " Row(userId='30', firstName='Colin', ts=1539629831000, level='free', page='Add Friend', phase=0),\n",
       " Row(userId='30', firstName='Colin', ts=1539629845000, level='free', page='Settings', phase=0),\n",
       " Row(userId='30', firstName='Colin', ts=1539731438000, level='free', page='Home', phase=0),\n",
       " Row(userId='30', firstName='Colin', ts=1539731439000, level='free', page='Logout', phase=0),\n",
       " Row(userId='30', firstName='Colin', ts=1540070969000, level='free', page='Home', phase=0),\n",
       " Row(userId='30', firstName='Colin', ts=1540268084000, level='free', page='NextSong', phase=0),\n",
       " Row(userId='30', firstName='Colin', ts=1540268509000, level='free', page='NextSong', phase=0),\n",
       " Row(userId='30', firstName='Colin', ts=1540268905000, level='free', page='NextSong', phase=0),\n",
       " Row(userId='30', firstName='Colin', ts=1540269124000, level='free', page='NextSong', phase=0),\n",
       " Row(userId='30', firstName='Colin', ts=1540269342000, level='free', page='NextSong', phase=0),\n",
       " Row(userId='30', firstName='Colin', ts=1540269519000, level='free', page='NextSong', phase=0),\n",
       " Row(userId='30', firstName='Colin', ts=1540269856000, level='free', page='NextSong', phase=0),\n",
       " Row(userId='30', firstName='Colin', ts=1540270093000, level='free', page='NextSong', phase=0),\n",
       " Row(userId='30', firstName='Colin', ts=1540270415000, level='free', page='NextSong', phase=0),\n",
       " Row(userId='30', firstName='Colin', ts=1540270667000, level='free', page='NextSong', phase=0),\n",
       " Row(userId='30', firstName='Colin', ts=1540270895000, level='free', page='NextSong', phase=0),\n",
       " Row(userId='30', firstName='Colin', ts=1540271283000, level='free', page='NextSong', phase=0),\n",
       " Row(userId='30', firstName='Colin', ts=1540271574000, level='free', page='NextSong', phase=0),\n",
       " Row(userId='30', firstName='Colin', ts=1540271754000, level='free', page='NextSong', phase=0),\n",
       " Row(userId='30', firstName='Colin', ts=1540271765000, level='free', page='Add to Playlist', phase=0),\n",
       " Row(userId='30', firstName='Colin', ts=1540271974000, level='free', page='NextSong', phase=0),\n",
       " Row(userId='30', firstName='Colin', ts=1540272149000, level='free', page='NextSong', phase=0),\n",
       " Row(userId='30', firstName='Colin', ts=1540272357000, level='free', page='NextSong', phase=0),\n",
       " Row(userId='30', firstName='Colin', ts=1540272601000, level='free', page='NextSong', phase=0),\n",
       " Row(userId='30', firstName='Colin', ts=1540272878000, level='free', page='NextSong', phase=0),\n",
       " Row(userId='30', firstName='Colin', ts=1540272903000, level='free', page='Roll Advert', phase=0),\n",
       " Row(userId='30', firstName='Colin', ts=1540273275000, level='free', page='NextSong', phase=0),\n",
       " Row(userId='30', firstName='Colin', ts=1540273490000, level='free', page='NextSong', phase=0),\n",
       " Row(userId='30', firstName='Colin', ts=1540273497000, level='free', page='Add to Playlist', phase=0),\n",
       " Row(userId='30', firstName='Colin', ts=1540273708000, level='free', page='NextSong', phase=0),\n",
       " Row(userId='30', firstName='Colin', ts=1540273724000, level='free', page='Roll Advert', phase=0),\n",
       " Row(userId='30', firstName='Colin', ts=1540273892000, level='free', page='NextSong', phase=0),\n",
       " Row(userId='30', firstName='Colin', ts=1540273893000, level='free', page='Thumbs Down', phase=0),\n",
       " Row(userId='30', firstName='Colin', ts=1540274114000, level='free', page='NextSong', phase=0),\n",
       " Row(userId='30', firstName='Colin', ts=1540274147000, level='free', page='Roll Advert', phase=0),\n",
       " Row(userId='30', firstName='Colin', ts=1540274345000, level='free', page='NextSong', phase=0),\n",
       " Row(userId='30', firstName='Colin', ts=1540549210000, level='free', page='NextSong', phase=0),\n",
       " Row(userId='30', firstName='Colin', ts=1540549423000, level='free', page='NextSong', phase=0),\n",
       " Row(userId='30', firstName='Colin', ts=1540549424000, level='free', page='Thumbs Up', phase=0),\n",
       " Row(userId='30', firstName='Colin', ts=1540549587000, level='free', page='NextSong', phase=0),\n",
       " Row(userId='30', firstName='Colin', ts=1540549777000, level='free', page='NextSong', phase=0),\n",
       " Row(userId='30', firstName='Colin', ts=1540549897000, level='free', page='Home', phase=0),\n",
       " Row(userId='30', firstName='Colin', ts=1540550054000, level='free', page='NextSong', phase=0),\n",
       " Row(userId='30', firstName='Colin', ts=1540550632000, level='free', page='NextSong', phase=0),\n",
       " Row(userId='30', firstName='Colin', ts=1540550953000, level='free', page='NextSong', phase=0),\n",
       " Row(userId='30', firstName='Colin', ts=1540551209000, level='free', page='NextSong', phase=0),\n",
       " Row(userId='30', firstName='Colin', ts=1540551210000, level='free', page='Thumbs Up', phase=0),\n",
       " Row(userId='30', firstName='Colin', ts=1540551382000, level='free', page='NextSong', phase=0),\n",
       " Row(userId='30', firstName='Colin', ts=1540551589000, level='free', page='NextSong', phase=0),\n",
       " Row(userId='30', firstName='Colin', ts=1540551723000, level='free', page='NextSong', phase=0),\n",
       " Row(userId='30', firstName='Colin', ts=1540552003000, level='free', page='NextSong', phase=0),\n",
       " Row(userId='30', firstName='Colin', ts=1540552336000, level='free', page='NextSong', phase=0),\n",
       " Row(userId='30', firstName='Colin', ts=1540552616000, level='free', page='NextSong', phase=0),\n",
       " Row(userId='30', firstName='Colin', ts=1540552798000, level='free', page='NextSong', phase=0),\n",
       " Row(userId='30', firstName='Colin', ts=1540553040000, level='free', page='NextSong', phase=0),\n",
       " Row(userId='30', firstName='Colin', ts=1540553221000, level='free', page='NextSong', phase=0),\n",
       " Row(userId='30', firstName='Colin', ts=1540553391000, level='free', page='NextSong', phase=0),\n",
       " Row(userId='30', firstName='Colin', ts=1540553639000, level='free', page='NextSong', phase=0),\n",
       " Row(userId='30', firstName='Colin', ts=1540553841000, level='free', page='NextSong', phase=0),\n",
       " Row(userId='30', firstName='Colin', ts=1540554075000, level='free', page='NextSong', phase=0),\n",
       " Row(userId='30', firstName='Colin', ts=1540554078000, level='free', page='Settings', phase=0),\n",
       " Row(userId='30', firstName='Colin', ts=1540554310000, level='free', page='NextSong', phase=0),\n",
       " Row(userId='30', firstName='Colin', ts=1540554315000, level='free', page='Roll Advert', phase=0),\n",
       " Row(userId='30', firstName='Colin', ts=1540554435000, level='free', page='NextSong', phase=0),\n",
       " Row(userId='30', firstName='Colin', ts=1540554721000, level='free', page='NextSong', phase=0),\n",
       " Row(userId='30', firstName='Colin', ts=1540555327000, level='free', page='NextSong', phase=0),\n",
       " Row(userId='30', firstName='Colin', ts=1540555328000, level='free', page='Add Friend', phase=0),\n",
       " Row(userId='30', firstName='Colin', ts=1540555527000, level='free', page='NextSong', phase=0),\n",
       " Row(userId='30', firstName='Colin', ts=1540555745000, level='free', page='NextSong', phase=0),\n",
       " Row(userId='30', firstName='Colin', ts=1540568189000, level='free', page='NextSong', phase=0),\n",
       " Row(userId='30', firstName='Colin', ts=1540568269000, level='free', page='NextSong', phase=0),\n",
       " Row(userId='30', firstName='Colin', ts=1540568476000, level='free', page='NextSong', phase=0),\n",
       " Row(userId='30', firstName='Colin', ts=1540652942000, level='free', page='NextSong', phase=0),\n",
       " Row(userId='30', firstName='Colin', ts=1540653229000, level='free', page='NextSong', phase=0),\n",
       " Row(userId='30', firstName='Colin', ts=1540653230000, level='free', page='Thumbs Down', phase=0),\n",
       " Row(userId='30', firstName='Colin', ts=1540653473000, level='free', page='NextSong', phase=0),\n",
       " Row(userId='30', firstName='Colin', ts=1540653657000, level='free', page='NextSong', phase=0),\n",
       " Row(userId='30', firstName='Colin', ts=1540653995000, level='free', page='NextSong', phase=0),\n",
       " Row(userId='30', firstName='Colin', ts=1540654207000, level='free', page='NextSong', phase=0),\n",
       " Row(userId='30', firstName='Colin', ts=1540654469000, level='free', page='NextSong', phase=0),\n",
       " Row(userId='30', firstName='Colin', ts=1540654629000, level='free', page='NextSong', phase=0),\n",
       " Row(userId='30', firstName='Colin', ts=1540654766000, level='free', page='NextSong', phase=0),\n",
       " Row(userId='30', firstName='Colin', ts=1540654790000, level='free', page='Roll Advert', phase=0),\n",
       " Row(userId='30', firstName='Colin', ts=1540655287000, level='free', page='NextSong', phase=0),\n",
       " Row(userId='30', firstName='Colin', ts=1540655793000, level='free', page='NextSong', phase=0),\n",
       " Row(userId='30', firstName='Colin', ts=1540655973000, level='free', page='NextSong', phase=0),\n",
       " Row(userId='30', firstName='Colin', ts=1540656011000, level='free', page='Roll Advert', phase=0),\n",
       " Row(userId='30', firstName='Colin', ts=1540656404000, level='free', page='NextSong', phase=0),\n",
       " Row(userId='30', firstName='Colin', ts=1540657059000, level='free', page='NextSong', phase=0),\n",
       " Row(userId='30', firstName='Colin', ts=1540657103000, level='free', page='Roll Advert', phase=0),\n",
       " Row(userId='30', firstName='Colin', ts=1540657366000, level='free', page='NextSong', phase=0),\n",
       " Row(userId='30', firstName='Colin', ts=1540657586000, level='free', page='NextSong', phase=0),\n",
       " Row(userId='30', firstName='Colin', ts=1540657817000, level='free', page='NextSong', phase=0),\n",
       " Row(userId='30', firstName='Colin', ts=1540658327000, level='free', page='NextSong', phase=0),\n",
       " Row(userId='30', firstName='Colin', ts=1540658713000, level='free', page='NextSong', phase=0),\n",
       " Row(userId='30', firstName='Colin', ts=1540658715000, level='free', page='Home', phase=0),\n",
       " Row(userId='30', firstName='Colin', ts=1540658941000, level='free', page='NextSong', phase=0),\n",
       " Row(userId='30', firstName='Colin', ts=1540658966000, level='free', page='Roll Advert', phase=0),\n",
       " Row(userId='30', firstName='Colin', ts=1540659127000, level='free', page='NextSong', phase=0),\n",
       " Row(userId='30', firstName='Colin', ts=1540659379000, level='free', page='NextSong', phase=0),\n",
       " Row(userId='30', firstName='Colin', ts=1540659631000, level='free', page='NextSong', phase=0),\n",
       " Row(userId='30', firstName='Colin', ts=1540659661000, level='free', page='Add to Playlist', phase=0),\n",
       " Row(userId='30', firstName='Colin', ts=1540659836000, level='free', page='NextSong', phase=0),\n",
       " Row(userId='30', firstName='Colin', ts=1540660086000, level='free', page='NextSong', phase=0),\n",
       " Row(userId='30', firstName='Colin', ts=1540660303000, level='free', page='NextSong', phase=0),\n",
       " Row(userId='30', firstName='Colin', ts=1540660592000, level='free', page='NextSong', phase=0),\n",
       " Row(userId='30', firstName='Colin', ts=1540660818000, level='free', page='NextSong', phase=0),\n",
       " Row(userId='30', firstName='Colin', ts=1540660819000, level='free', page='Logout', phase=0),\n",
       " Row(userId='30', firstName='Colin', ts=1540660921000, level='free', page='Home', phase=0),\n",
       " Row(userId='30', firstName='Colin', ts=1540661019000, level='free', page='NextSong', phase=0),\n",
       " Row(userId='30', firstName='Colin', ts=1540661340000, level='free', page='NextSong', phase=0),\n",
       " Row(userId='30', firstName='Colin', ts=1540661695000, level='free', page='NextSong', phase=0),\n",
       " Row(userId='30', firstName='Colin', ts=1540661826000, level='free', page='NextSong', phase=0),\n",
       " Row(userId='30', firstName='Colin', ts=1540662067000, level='free', page='NextSong', phase=0),\n",
       " Row(userId='30', firstName='Colin', ts=1540662083000, level='free', page='Settings', phase=0),\n",
       " Row(userId='30', firstName='Colin', ts=1540662244000, level='free', page='NextSong', phase=0),\n",
       " Row(userId='30', firstName='Colin', ts=1540662538000, level='free', page='NextSong', phase=0),\n",
       " Row(userId='30', firstName='Colin', ts=1540662539000, level='free', page='Roll Advert', phase=0),\n",
       " Row(userId='30', firstName='Colin', ts=1540662752000, level='free', page='NextSong', phase=0),\n",
       " Row(userId='30', firstName='Colin', ts=1540662944000, level='free', page='NextSong', phase=0),\n",
       " Row(userId='30', firstName='Colin', ts=1540663185000, level='free', page='NextSong', phase=0),\n",
       " Row(userId='30', firstName='Colin', ts=1540663662000, level='free', page='NextSong', phase=0),\n",
       " Row(userId='30', firstName='Colin', ts=1540663896000, level='free', page='NextSong', phase=0),\n",
       " Row(userId='30', firstName='Colin', ts=1540663929000, level='free', page='Settings', phase=0),\n",
       " Row(userId='30', firstName='Colin', ts=1540664072000, level='free', page='NextSong', phase=0),\n",
       " Row(userId='30', firstName='Colin', ts=1540664328000, level='free', page='NextSong', phase=0),\n",
       " Row(userId='30', firstName='Colin', ts=1540664393000, level='free', page='NextSong', phase=0),\n",
       " Row(userId='30', firstName='Colin', ts=1540664698000, level='free', page='NextSong', phase=0),\n",
       " Row(userId='30', firstName='Colin', ts=1540664958000, level='free', page='NextSong', phase=0),\n",
       " Row(userId='30', firstName='Colin', ts=1540665163000, level='free', page='NextSong', phase=0),\n",
       " Row(userId='30', firstName='Colin', ts=1540665390000, level='free', page='NextSong', phase=0),\n",
       " Row(userId='30', firstName='Colin', ts=1540665706000, level='free', page='NextSong', phase=0),\n",
       " Row(userId='30', firstName='Colin', ts=1540988569000, level='free', page='NextSong', phase=0),\n",
       " Row(userId='30', firstName='Colin', ts=1540988576000, level='free', page='Roll Advert', phase=0),\n",
       " Row(userId='30', firstName='Colin', ts=1540989224000, level='free', page='NextSong', phase=0),\n",
       " Row(userId='30', firstName='Colin', ts=1540989488000, level='free', page='NextSong', phase=0),\n",
       " Row(userId='30', firstName='Colin', ts=1540989510000, level='free', page='NextSong', phase=0),\n",
       " Row(userId='30', firstName='Colin', ts=1540989775000, level='free', page='NextSong', phase=0),\n",
       " Row(userId='30', firstName='Colin', ts=1540989776000, level='free', page='Thumbs Up', phase=0),\n",
       " Row(userId='30', firstName='Colin', ts=1540989791000, level='free', page='Add to Playlist', phase=0),\n",
       " Row(userId='30', firstName='Colin', ts=1540990073000, level='free', page='NextSong', phase=0),\n",
       " Row(userId='30', firstName='Colin', ts=1540990323000, level='free', page='NextSong', phase=0),\n",
       " Row(userId='30', firstName='Colin', ts=1540990504000, level='free', page='NextSong', phase=0),\n",
       " Row(userId='30', firstName='Colin', ts=1540990549000, level='free', page='NextSong', phase=0),\n",
       " Row(userId='30', firstName='Colin', ts=1540990826000, level='free', page='NextSong', phase=0),\n",
       " Row(userId='30', firstName='Colin', ts=1540990827000, level='free', page='Logout', phase=0),\n",
       " Row(userId='30', firstName='Colin', ts=1540990864000, level='free', page='Home', phase=0),\n",
       " Row(userId='30', firstName='Colin', ts=1540991077000, level='free', page='NextSong', phase=0),\n",
       " Row(userId='30', firstName='Colin', ts=1540991232000, level='free', page='NextSong', phase=0),\n",
       " Row(userId='30', firstName='Colin', ts=1540991472000, level='free', page='NextSong', phase=0),\n",
       " Row(userId='30', firstName='Colin', ts=1540991705000, level='free', page='NextSong', phase=0),\n",
       " Row(userId='30', firstName='Colin', ts=1540991831000, level='free', page='NextSong', phase=0),\n",
       " Row(userId='30', firstName='Colin', ts=1540991842000, level='free', page='Roll Advert', phase=0),\n",
       " Row(userId='30', firstName='Colin', ts=1540992142000, level='free', page='NextSong', phase=0),\n",
       " Row(userId='30', firstName='Colin', ts=1540992218000, level='free', page='Roll Advert', phase=0),\n",
       " Row(userId='30', firstName='Colin', ts=1540992321000, level='free', page='NextSong', phase=0),\n",
       " Row(userId='30', firstName='Colin', ts=1540992567000, level='free', page='NextSong', phase=0),\n",
       " Row(userId='30', firstName='Colin', ts=1540992878000, level='free', page='NextSong', phase=0),\n",
       " Row(userId='30', firstName='Colin', ts=1540993123000, level='free', page='NextSong', phase=0),\n",
       " Row(userId='30', firstName='Colin', ts=1540993378000, level='free', page='NextSong', phase=0),\n",
       " Row(userId='30', firstName='Colin', ts=1540993615000, level='free', page='NextSong', phase=0),\n",
       " Row(userId='30', firstName='Colin', ts=1540993621000, level='free', page='Upgrade', phase=0),\n",
       " Row(userId='30', firstName='Colin', ts=1540993622000, level='free', page='Add Friend', phase=0),\n",
       " Row(userId='30', firstName='Colin', ts=1540993705000, level='free', page='About', phase=0),\n",
       " Row(userId='30', firstName='Colin', ts=1540993816000, level='free', page='NextSong', phase=0),\n",
       " Row(userId='30', firstName='Colin', ts=1540994033000, level='free', page='NextSong', phase=0),\n",
       " Row(userId='30', firstName='Colin', ts=1540994381000, level='free', page='NextSong', phase=0),\n",
       " Row(userId='30', firstName='Colin', ts=1540994382000, level='free', page='Thumbs Up', phase=0),\n",
       " Row(userId='30', firstName='Colin', ts=1540994539000, level='free', page='NextSong', phase=0),\n",
       " Row(userId='30', firstName='Colin', ts=1540994735000, level='free', page='NextSong', phase=0),\n",
       " Row(userId='30', firstName='Colin', ts=1540994929000, level='free', page='NextSong', phase=0),\n",
       " Row(userId='30', firstName='Colin', ts=1540995263000, level='free', page='NextSong', phase=0),\n",
       " Row(userId='30', firstName='Colin', ts=1540995277000, level='free', page='Home', phase=0),\n",
       " Row(userId='30', firstName='Colin', ts=1540995918000, level='free', page='NextSong', phase=0),\n",
       " Row(userId='30', firstName='Colin', ts=1540995999000, level='free', page='NextSong', phase=0),\n",
       " Row(userId='30', firstName='Colin', ts=1540996000000, level='free', page='Thumbs Up', phase=0),\n",
       " Row(userId='30', firstName='Colin', ts=1540996336000, level='free', page='NextSong', phase=0),\n",
       " Row(userId='30', firstName='Colin', ts=1540996648000, level='free', page='NextSong', phase=0),\n",
       " Row(userId='30', firstName='Colin', ts=1540996984000, level='free', page='NextSong', phase=0),\n",
       " Row(userId='30', firstName='Colin', ts=1540997191000, level='free', page='NextSong', phase=0),\n",
       " Row(userId='30', firstName='Colin', ts=1540997415000, level='free', page='NextSong', phase=0),\n",
       " Row(userId='30', firstName='Colin', ts=1540997577000, level='free', page='NextSong', phase=0),\n",
       " Row(userId='30', firstName='Colin', ts=1540997816000, level='free', page='NextSong', phase=0),\n",
       " Row(userId='30', firstName='Colin', ts=1540998331000, level='free', page='NextSong', phase=0),\n",
       " Row(userId='30', firstName='Colin', ts=1540998570000, level='free', page='NextSong', phase=0),\n",
       " Row(userId='30', firstName='Colin', ts=1540998766000, level='free', page='NextSong', phase=0),\n",
       " Row(userId='30', firstName='Colin', ts=1540999056000, level='free', page='NextSong', phase=0),\n",
       " Row(userId='30', firstName='Colin', ts=1540999375000, level='free', page='NextSong', phase=0),\n",
       " Row(userId='30', firstName='Colin', ts=1540999587000, level='free', page='NextSong', phase=0),\n",
       " Row(userId='30', firstName='Colin', ts=1540999812000, level='free', page='NextSong', phase=0),\n",
       " Row(userId='30', firstName='Colin', ts=1541000072000, level='free', page='NextSong', phase=0),\n",
       " Row(userId='30', firstName='Colin', ts=1541000367000, level='free', page='NextSong', phase=0),\n",
       " Row(userId='30', firstName='Colin', ts=1541000528000, level='free', page='NextSong', phase=0),\n",
       " Row(userId='30', firstName='Colin', ts=1541000594000, level='free', page='Roll Advert', phase=0),\n",
       " Row(userId='30', firstName='Colin', ts=1541000604000, level='free', page='Roll Advert', phase=0),\n",
       " Row(userId='30', firstName='Colin', ts=1541000799000, level='free', page='NextSong', phase=0),\n",
       " Row(userId='30', firstName='Colin', ts=1541000982000, level='free', page='NextSong', phase=0),\n",
       " Row(userId='30', firstName='Colin', ts=1541001183000, level='free', page='NextSong', phase=0),\n",
       " Row(userId='30', firstName='Colin', ts=1541001436000, level='free', page='NextSong', phase=0),\n",
       " Row(userId='30', firstName='Colin', ts=1541001797000, level='free', page='NextSong', phase=0),\n",
       " Row(userId='30', firstName='Colin', ts=1541001815000, level='free', page='Roll Advert', phase=0),\n",
       " Row(userId='30', firstName='Colin', ts=1541002054000, level='free', page='NextSong', phase=0),\n",
       " Row(userId='30', firstName='Colin', ts=1541002303000, level='free', page='NextSong', phase=0),\n",
       " Row(userId='30', firstName='Colin', ts=1541002480000, level='free', page='NextSong', phase=0),\n",
       " Row(userId='30', firstName='Colin', ts=1541002706000, level='free', page='NextSong', phase=0),\n",
       " Row(userId='30', firstName='Colin', ts=1541002981000, level='free', page='NextSong', phase=0),\n",
       " Row(userId='30', firstName='Colin', ts=1541003324000, level='free', page='NextSong', phase=0),\n",
       " Row(userId='30', firstName='Colin', ts=1541003609000, level='free', page='NextSong', phase=0),\n",
       " Row(userId='30', firstName='Colin', ts=1541003713000, level='free', page='NextSong', phase=0),\n",
       " Row(userId='30', firstName='Colin', ts=1541003885000, level='free', page='NextSong', phase=0),\n",
       " Row(userId='30', firstName='Colin', ts=1541004028000, level='free', page='NextSong', phase=0),\n",
       " Row(userId='30', firstName='Colin', ts=1541004043000, level='free', page='Upgrade', phase=0),\n",
       " Row(userId='30', firstName='Colin', ts=1541004239000, level='free', page='NextSong', phase=0),\n",
       " Row(userId='30', firstName='Colin', ts=1541004530000, level='free', page='NextSong', phase=0),\n",
       " Row(userId='30', firstName='Colin', ts=1541004772000, level='free', page='NextSong', phase=0),\n",
       " Row(userId='30', firstName='Colin', ts=1541005041000, level='free', page='NextSong', phase=0),\n",
       " Row(userId='30', firstName='Colin', ts=1541005273000, level='free', page='NextSong', phase=0),\n",
       " Row(userId='30', firstName='Colin', ts=1541006089000, level='free', page='NextSong', phase=0),\n",
       " Row(userId='30', firstName='Colin', ts=1541006385000, level='free', page='NextSong', phase=0),\n",
       " Row(userId='30', firstName='Colin', ts=1541006567000, level='free', page='NextSong', phase=0),\n",
       " Row(userId='30', firstName='Colin', ts=1541006767000, level='free', page='NextSong', phase=0),\n",
       " Row(userId='30', firstName='Colin', ts=1541006779000, level='free', page='Add to Playlist', phase=0),\n",
       " Row(userId='30', firstName='Colin', ts=1541006834000, level='free', page='NextSong', phase=0),\n",
       " Row(userId='30', firstName='Colin', ts=1541006835000, level='free', page='Thumbs Down', phase=0),\n",
       " Row(userId='30', firstName='Colin', ts=1541006995000, level='free', page='NextSong', phase=0),\n",
       " Row(userId='30', firstName='Colin', ts=1541006996000, level='free', page='Thumbs Up', phase=0),\n",
       " Row(userId='30', firstName='Colin', ts=1541007248000, level='free', page='NextSong', phase=0),\n",
       " Row(userId='30', firstName='Colin', ts=1541007451000, level='free', page='NextSong', phase=0),\n",
       " Row(userId='30', firstName='Colin', ts=1541007452000, level='free', page='Logout', phase=0),\n",
       " Row(userId='30', firstName='Colin', ts=1541007500000, level='free', page='Home', phase=0),\n",
       " Row(userId='30', firstName='Colin', ts=1541007762000, level='free', page='NextSong', phase=0),\n",
       " Row(userId='30', firstName='Colin', ts=1541008021000, level='free', page='NextSong', phase=0),\n",
       " Row(userId='30', firstName='Colin', ts=1541008314000, level='free', page='NextSong', phase=0),\n",
       " Row(userId='30', firstName='Colin', ts=1541008399000, level='free', page='NextSong', phase=0),\n",
       " Row(userId='30', firstName='Colin', ts=1541008794000, level='free', page='NextSong', phase=0),\n",
       " Row(userId='30', firstName='Colin', ts=1541008829000, level='free', page='Roll Advert', phase=0),\n",
       " Row(userId='30', firstName='Colin', ts=1541009029000, level='free', page='NextSong', phase=0),\n",
       " Row(userId='30', firstName='Colin', ts=1541009041000, level='free', page='Roll Advert', phase=0),\n",
       " Row(userId='30', firstName='Colin', ts=1541041139000, level='free', page='NextSong', phase=0),\n",
       " Row(userId='30', firstName='Colin', ts=1541041436000, level='free', page='NextSong', phase=0),\n",
       " Row(userId='30', firstName='Colin', ts=1541042091000, level='free', page='NextSong', phase=0),\n",
       " Row(userId='30', firstName='Colin', ts=1541042319000, level='free', page='NextSong', phase=0),\n",
       " Row(userId='30', firstName='Colin', ts=1541042532000, level='free', page='NextSong', phase=0),\n",
       " Row(userId='30', firstName='Colin', ts=1541042799000, level='free', page='NextSong', phase=0),\n",
       " Row(userId='30', firstName='Colin', ts=1541042983000, level='free', page='NextSong', phase=0),\n",
       " Row(userId='30', firstName='Colin', ts=1541043180000, level='free', page='NextSong', phase=0),\n",
       " Row(userId='30', firstName='Colin', ts=1541043464000, level='free', page='NextSong', phase=0),\n",
       " Row(userId='30', firstName='Colin', ts=1541043764000, level='free', page='NextSong', phase=0),\n",
       " Row(userId='30', firstName='Colin', ts=1541044017000, level='free', page='NextSong', phase=0),\n",
       " Row(userId='30', firstName='Colin', ts=1541044533000, level='free', page='NextSong', phase=0),\n",
       " Row(userId='30', firstName='Colin', ts=1541044713000, level='free', page='NextSong', phase=0),\n",
       " Row(userId='30', firstName='Colin', ts=1541044761000, level='free', page='Roll Advert', phase=0),\n",
       " Row(userId='30', firstName='Colin', ts=1541045012000, level='free', page='NextSong', phase=0),\n",
       " Row(userId='30', firstName='Colin', ts=1541045013000, level='free', page='Logout', phase=0),\n",
       " Row(userId='30', firstName='Colin', ts=1541045078000, level='free', page='Home', phase=0),\n",
       " Row(userId='30', firstName='Colin', ts=1541045327000, level='free', page='NextSong', phase=0),\n",
       " Row(userId='30', firstName='Colin', ts=1541045342000, level='free', page='Settings', phase=0),\n",
       " Row(userId='30', firstName='Colin', ts=1541045549000, level='free', page='NextSong', phase=0),\n",
       " Row(userId='30', firstName='Colin', ts=1541045846000, level='free', page='NextSong', phase=0),\n",
       " Row(userId='30', firstName='Colin', ts=1541046123000, level='free', page='NextSong', phase=0),\n",
       " Row(userId='30', firstName='Colin', ts=1541046316000, level='free', page='NextSong', phase=0),\n",
       " Row(userId='30', firstName='Colin', ts=1541046480000, level='free', page='NextSong', phase=0),\n",
       " Row(userId='30', firstName='Colin', ts=1541047038000, level='free', page='NextSong', phase=0),\n",
       " Row(userId='30', firstName='Colin', ts=1541047186000, level='free', page='NextSong', phase=0),\n",
       " Row(userId='30', firstName='Colin', ts=1541047238000, level='free', page='NextSong', phase=0),\n",
       " Row(userId='30', firstName='Colin', ts=1541047271000, level='free', page='Upgrade', phase=0),\n",
       " Row(userId='30', firstName='Colin', ts=1541047282000, level='free', page='Upgrade', phase=0),\n",
       " Row(userId='30', firstName='Colin', ts=1541047302000, level='free', page='NextSong', phase=0),\n",
       " Row(userId='30', firstName='Colin', ts=1541047303000, level='free', page='Thumbs Up', phase=0),\n",
       " Row(userId='30', firstName='Colin', ts=1541047546000, level='free', page='NextSong', phase=0),\n",
       " Row(userId='30', firstName='Colin', ts=1541047583000, level='free', page='Roll Advert', phase=0),\n",
       " Row(userId='30', firstName='Colin', ts=1541047594000, level='free', page='NextSong', phase=0),\n",
       " Row(userId='30', firstName='Colin', ts=1541047860000, level='free', page='NextSong', phase=0),\n",
       " Row(userId='30', firstName='Colin', ts=1541047894000, level='free', page='Help', phase=0),\n",
       " Row(userId='30', firstName='Colin', ts=1541047925000, level='free', page='Home', phase=0),\n",
       " Row(userId='30', firstName='Colin', ts=1541048045000, level='free', page='NextSong', phase=0),\n",
       " Row(userId='30', firstName='Colin', ts=1541048245000, level='free', page='NextSong', phase=0),\n",
       " Row(userId='30', firstName='Colin', ts=1541048424000, level='free', page='NextSong', phase=0),\n",
       " Row(userId='30', firstName='Colin', ts=1541048646000, level='free', page='NextSong', phase=0),\n",
       " Row(userId='30', firstName='Colin', ts=1541048755000, level='free', page='NextSong', phase=0),\n",
       " Row(userId='30', firstName='Colin', ts=1541048756000, level='free', page='Thumbs Up', phase=0),\n",
       " Row(userId='30', firstName='Colin', ts=1541048984000, level='free', page='NextSong', phase=0),\n",
       " Row(userId='30', firstName='Colin', ts=1541048991000, level='free', page='Roll Advert', phase=0),\n",
       " Row(userId='30', firstName='Colin', ts=1541049676000, level='free', page='NextSong', phase=0),\n",
       " Row(userId='30', firstName='Colin', ts=1541049982000, level='free', page='NextSong', phase=0),\n",
       " Row(userId='30', firstName='Colin', ts=1541049983000, level='free', page='Add Friend', phase=0),\n",
       " Row(userId='30', firstName='Colin', ts=1541050313000, level='free', page='NextSong', phase=0),\n",
       " Row(userId='30', firstName='Colin', ts=1541050554000, level='free', page='NextSong', phase=0),\n",
       " Row(userId='30', firstName='Colin', ts=1541050583000, level='free', page='Add to Playlist', phase=0),\n",
       " Row(userId='30', firstName='Colin', ts=1541050790000, level='free', page='NextSong', phase=0),\n",
       " Row(userId='30', firstName='Colin', ts=1541051029000, level='free', page='NextSong', phase=0),\n",
       " Row(userId='30', firstName='Colin', ts=1541051036000, level='free', page='Roll Advert', phase=0),\n",
       " Row(userId='30', firstName='Colin', ts=1541051262000, level='free', page='NextSong', phase=0),\n",
       " Row(userId='30', firstName='Colin', ts=1541051483000, level='free', page='NextSong', phase=0),\n",
       " Row(userId='30', firstName='Colin', ts=1541051707000, level='free', page='NextSong', phase=0),\n",
       " Row(userId='30', firstName='Colin', ts=1541051977000, level='free', page='NextSong', phase=0),\n",
       " Row(userId='30', firstName='Colin', ts=1541052199000, level='free', page='NextSong', phase=0),\n",
       " Row(userId='30', firstName='Colin', ts=1541052456000, level='free', page='NextSong', phase=0),\n",
       " Row(userId='30', firstName='Colin', ts=1541052625000, level='free', page='NextSong', phase=0),\n",
       " Row(userId='30', firstName='Colin', ts=1541052908000, level='free', page='NextSong', phase=0),\n",
       " Row(userId='30', firstName='Colin', ts=1541053159000, level='free', page='NextSong', phase=0),\n",
       " Row(userId='30', firstName='Colin', ts=1541053177000, level='free', page='Home', phase=0),\n",
       " Row(userId='30', firstName='Colin', ts=1541053366000, level='free', page='NextSong', phase=0),\n",
       " Row(userId='30', firstName='Colin', ts=1541053726000, level='free', page='NextSong', phase=0),\n",
       " Row(userId='30', firstName='Colin', ts=1541053924000, level='free', page='NextSong', phase=0),\n",
       " Row(userId='30', firstName='Colin', ts=1541053925000, level='free', page='Thumbs Up', phase=0),\n",
       " Row(userId='30', firstName='Colin', ts=1541053945000, level='free', page='Add to Playlist', phase=0),\n",
       " Row(userId='30', firstName='Colin', ts=1541054168000, level='free', page='NextSong', phase=0),\n",
       " Row(userId='30', firstName='Colin', ts=1541054403000, level='free', page='NextSong', phase=0),\n",
       " Row(userId='30', firstName='Colin', ts=1541054680000, level='free', page='NextSong', phase=0),\n",
       " Row(userId='30', firstName='Colin', ts=1541054900000, level='free', page='NextSong', phase=0),\n",
       " Row(userId='30', firstName='Colin', ts=1541055194000, level='free', page='NextSong', phase=0),\n",
       " Row(userId='30', firstName='Colin', ts=1541055465000, level='free', page='NextSong', phase=0),\n",
       " Row(userId='30', firstName='Colin', ts=1541055703000, level='free', page='NextSong', phase=0),\n",
       " Row(userId='30', firstName='Colin', ts=1541055952000, level='free', page='NextSong', phase=0),\n",
       " Row(userId='30', firstName='Colin', ts=1541056124000, level='free', page='NextSong', phase=0),\n",
       " Row(userId='30', firstName='Colin', ts=1541056379000, level='free', page='NextSong', phase=0),\n",
       " Row(userId='30', firstName='Colin', ts=1541169777000, level='free', page='NextSong', phase=0),\n",
       " Row(userId='30', firstName='Colin', ts=1541170127000, level='free', page='NextSong', phase=0),\n",
       " Row(userId='30', firstName='Colin', ts=1541170299000, level='free', page='NextSong', phase=0),\n",
       " Row(userId='30', firstName='Colin', ts=1541170756000, level='free', page='NextSong', phase=0),\n",
       " Row(userId='30', firstName='Colin', ts=1541170966000, level='free', page='NextSong', phase=0),\n",
       " Row(userId='30', firstName='Colin', ts=1541170967000, level='free', page='Thumbs Up', phase=0),\n",
       " Row(userId='30', firstName='Colin', ts=1541171542000, level='free', page='NextSong', phase=0),\n",
       " Row(userId='30', firstName='Colin', ts=1541171756000, level='free', page='NextSong', phase=0),\n",
       " Row(userId='30', firstName='Colin', ts=1541171990000, level='free', page='NextSong', phase=0),\n",
       " Row(userId='30', firstName='Colin', ts=1541172150000, level='free', page='NextSong', phase=0),\n",
       " Row(userId='30', firstName='Colin', ts=1541172208000, level='free', page='Add to Playlist', phase=0),\n",
       " Row(userId='30', firstName='Colin', ts=1541172353000, level='free', page='NextSong', phase=0),\n",
       " Row(userId='30', firstName='Colin', ts=1541172668000, level='free', page='NextSong', phase=0),\n",
       " Row(userId='30', firstName='Colin', ts=1541172833000, level='free', page='NextSong', phase=0),\n",
       " Row(userId='30', firstName='Colin', ts=1541173069000, level='free', page='NextSong', phase=0),\n",
       " Row(userId='30', firstName='Colin', ts=1541173240000, level='free', page='NextSong', phase=0),\n",
       " Row(userId='30', firstName='Colin', ts=1541173242000, level='free', page='Home', phase=0),\n",
       " Row(userId='30', firstName='Colin', ts=1541173420000, level='free', page='NextSong', phase=0),\n",
       " Row(userId='30', firstName='Colin', ts=1541173697000, level='free', page='NextSong', phase=0),\n",
       " Row(userId='30', firstName='Colin', ts=1541173861000, level='free', page='NextSong', phase=0),\n",
       " Row(userId='30', firstName='Colin', ts=1541174081000, level='free', page='NextSong', phase=0),\n",
       " Row(userId='30', firstName='Colin', ts=1541174333000, level='free', page='NextSong', phase=0),\n",
       " Row(userId='30', firstName='Colin', ts=1541174830000, level='free', page='NextSong', phase=0),\n",
       " Row(userId='30', firstName='Colin', ts=1541175011000, level='free', page='NextSong', phase=0),\n",
       " Row(userId='30', firstName='Colin', ts=1541175192000, level='free', page='NextSong', phase=0),\n",
       " Row(userId='30', firstName='Colin', ts=1541175365000, level='free', page='NextSong', phase=0),\n",
       " Row(userId='30', firstName='Colin', ts=1541175660000, level='free', page='NextSong', phase=0),\n",
       " Row(userId='30', firstName='Colin', ts=1541175958000, level='free', page='NextSong', phase=0),\n",
       " Row(userId='30', firstName='Colin', ts=1541175995000, level='free', page='Upgrade', phase=0),\n",
       " Row(userId='30', firstName='Colin', ts=1541176143000, level='free', page='NextSong', phase=0),\n",
       " Row(userId='30', firstName='Colin', ts=1541176145000, level='free', page='Roll Advert', phase=0),\n",
       " Row(userId='30', firstName='Colin', ts=1541202975000, level='free', page='NextSong', phase=0),\n",
       " Row(userId='30', firstName='Colin', ts=1541203331000, level='free', page='NextSong', phase=0),\n",
       " Row(userId='30', firstName='Colin', ts=1541203597000, level='free', page='NextSong', phase=0),\n",
       " Row(userId='30', firstName='Colin', ts=1541203674000, level='free', page='Home', phase=0),\n",
       " Row(userId='30', firstName='Colin', ts=1541203675000, level='free', page='Add Friend', phase=0),\n",
       " Row(userId='30', firstName='Colin', ts=1541203676000, level='free', page='Add Friend', phase=0),\n",
       " Row(userId='30', firstName='Colin', ts=1541203814000, level='free', page='NextSong', phase=0),\n",
       " Row(userId='30', firstName='Colin', ts=1541204215000, level='free', page='NextSong', phase=0),\n",
       " Row(userId='30', firstName='Colin', ts=1541204243000, level='free', page='Home', phase=0),\n",
       " Row(userId='30', firstName='Colin', ts=1541204461000, level='free', page='NextSong', phase=0),\n",
       " Row(userId='30', firstName='Colin', ts=1541204491000, level='free', page='Add to Playlist', phase=0),\n",
       " Row(userId='30', firstName='Colin', ts=1541204630000, level='free', page='NextSong', phase=0),\n",
       " Row(userId='30', firstName='Colin', ts=1541204887000, level='free', page='NextSong', phase=0),\n",
       " Row(userId='30', firstName='Colin', ts=1541205049000, level='free', page='NextSong', phase=0),\n",
       " Row(userId='30', firstName='Colin', ts=1541205064000, level='free', page='Home', phase=0),\n",
       " Row(userId='30', firstName='Colin', ts=1541205714000, level='free', page='NextSong', phase=0),\n",
       " Row(userId='30', firstName='Colin', ts=1541205986000, level='free', page='NextSong', phase=0),\n",
       " Row(userId='30', firstName='Colin', ts=1541206170000, level='free', page='NextSong', phase=0),\n",
       " Row(userId='30', firstName='Colin', ts=1541206420000, level='free', page='NextSong', phase=0),\n",
       " Row(userId='30', firstName='Colin', ts=1541206582000, level='free', page='NextSong', phase=0),\n",
       " Row(userId='30', firstName='Colin', ts=1541206820000, level='free', page='NextSong', phase=0),\n",
       " Row(userId='30', firstName='Colin', ts=1541206821000, level='free', page='Add Friend', phase=0),\n",
       " Row(userId='30', firstName='Colin', ts=1541207020000, level='free', page='NextSong', phase=0),\n",
       " Row(userId='30', firstName='Colin', ts=1541207264000, level='free', page='NextSong', phase=0),\n",
       " Row(userId='30', firstName='Colin', ts=1541207282000, level='free', page='Upgrade', phase=0),\n",
       " Row(userId='30', firstName='Colin', ts=1541207434000, level='free', page='NextSong', phase=0),\n",
       " Row(userId='30', firstName='Colin', ts=1541207446000, level='free', page='Roll Advert', phase=0),\n",
       " Row(userId='30', firstName='Colin', ts=1541207582000, level='free', page='NextSong', phase=0),\n",
       " Row(userId='30', firstName='Colin', ts=1541207777000, level='free', page='NextSong', phase=0),\n",
       " Row(userId='30', firstName='Colin', ts=1541207783000, level='free', page='Roll Advert', phase=0),\n",
       " Row(userId='30', firstName='Colin', ts=1541207972000, level='free', page='NextSong', phase=0),\n",
       " Row(userId='30', firstName='Colin', ts=1541208235000, level='free', page='NextSong', phase=0),\n",
       " Row(userId='30', firstName='Colin', ts=1541208236000, level='free', page='Logout', phase=0),\n",
       " Row(userId='30', firstName='Colin', ts=1541208254000, level='free', page='Home', phase=0),\n",
       " Row(userId='30', firstName='Colin', ts=1541208424000, level='free', page='NextSong', phase=0),\n",
       " Row(userId='30', firstName='Colin', ts=1541208702000, level='free', page='NextSong', phase=0),\n",
       " Row(userId='30', firstName='Colin', ts=1541208905000, level='free', page='NextSong', phase=0),\n",
       " Row(userId='30', firstName='Colin', ts=1541209155000, level='free', page='NextSong', phase=0),\n",
       " Row(userId='30', firstName='Colin', ts=1541209406000, level='free', page='NextSong', phase=0),\n",
       " Row(userId='30', firstName='Colin', ts=1541209595000, level='free', page='NextSong', phase=0),\n",
       " Row(userId='30', firstName='Colin', ts=1541209596000, level='free', page='Thumbs Down', phase=0),\n",
       " Row(userId='30', firstName='Colin', ts=1541209845000, level='free', page='NextSong', phase=0),\n",
       " Row(userId='30', firstName='Colin', ts=1541210097000, level='free', page='NextSong', phase=0),\n",
       " Row(userId='30', firstName='Colin', ts=1541210383000, level='free', page='NextSong', phase=0),\n",
       " Row(userId='30', firstName='Colin', ts=1541210754000, level='free', page='NextSong', phase=0),\n",
       " Row(userId='30', firstName='Colin', ts=1541210946000, level='free', page='NextSong', phase=0),\n",
       " Row(userId='30', firstName='Colin', ts=1541210954000, level='free', page='Add to Playlist', phase=0),\n",
       " Row(userId='30', firstName='Colin', ts=1541211223000, level='free', page='NextSong', phase=0),\n",
       " Row(userId='30', firstName='Colin', ts=1541211462000, level='free', page='NextSong', phase=0),\n",
       " Row(userId='30', firstName='Colin', ts=1541211620000, level='free', page='NextSong', phase=0),\n",
       " Row(userId='30', firstName='Colin', ts=1541211875000, level='free', page='NextSong', phase=0),\n",
       " Row(userId='30', firstName='Colin', ts=1541211879000, level='free', page='Roll Advert', phase=0),\n",
       " Row(userId='30', firstName='Colin', ts=1541212208000, level='free', page='NextSong', phase=0),\n",
       " Row(userId='30', firstName='Colin', ts=1541212518000, level='free', page='NextSong', phase=0),\n",
       " Row(userId='30', firstName='Colin', ts=1541212754000, level='free', page='NextSong', phase=0),\n",
       " Row(userId='30', firstName='Colin', ts=1541213011000, level='free', page='NextSong', phase=0),\n",
       " Row(userId='30', firstName='Colin', ts=1541213687000, level='free', page='NextSong', phase=0),\n",
       " Row(userId='30', firstName='Colin', ts=1541213688000, level='free', page='Thumbs Up', phase=0),\n",
       " Row(userId='30', firstName='Colin', ts=1541213973000, level='free', page='NextSong', phase=0),\n",
       " Row(userId='30', firstName='Colin', ts=1541214187000, level='free', page='NextSong', phase=0),\n",
       " Row(userId='30', firstName='Colin', ts=1541214411000, level='free', page='NextSong', phase=0),\n",
       " Row(userId='30', firstName='Colin', ts=1541214671000, level='free', page='NextSong', phase=0),\n",
       " Row(userId='30', firstName='Colin', ts=1541214857000, level='free', page='NextSong', phase=0),\n",
       " Row(userId='30', firstName='Colin', ts=1541215028000, level='free', page='NextSong', phase=0),\n",
       " Row(userId='30', firstName='Colin', ts=1541215258000, level='free', page='NextSong', phase=0),\n",
       " Row(userId='30', firstName='Colin', ts=1541215502000, level='free', page='NextSong', phase=0),\n",
       " Row(userId='30', firstName='Colin', ts=1541215673000, level='free', page='NextSong', phase=0),\n",
       " Row(userId='30', firstName='Colin', ts=1541215950000, level='free', page='NextSong', phase=0),\n",
       " Row(userId='30', firstName='Colin', ts=1541216279000, level='free', page='NextSong', phase=0),\n",
       " Row(userId='30', firstName='Colin', ts=1541216637000, level='free', page='NextSong', phase=0),\n",
       " Row(userId='30', firstName='Colin', ts=1541216778000, level='free', page='NextSong', phase=0),\n",
       " Row(userId='30', firstName='Colin', ts=1541217028000, level='free', page='NextSong', phase=0),\n",
       " Row(userId='30', firstName='Colin', ts=1541217193000, level='free', page='NextSong', phase=0),\n",
       " Row(userId='30', firstName='Colin', ts=1541217381000, level='free', page='NextSong', phase=0),\n",
       " Row(userId='30', firstName='Colin', ts=1541217646000, level='free', page='NextSong', phase=0),\n",
       " Row(userId='30', firstName='Colin', ts=1541217836000, level='free', page='NextSong', phase=0),\n",
       " Row(userId='30', firstName='Colin', ts=1541218120000, level='free', page='NextSong', phase=0),\n",
       " Row(userId='30', firstName='Colin', ts=1541218614000, level='free', page='NextSong', phase=0),\n",
       " Row(userId='30', firstName='Colin', ts=1541218617000, level='free', page='About', phase=0),\n",
       " Row(userId='30', firstName='Colin', ts=1541218903000, level='free', page='NextSong', phase=0),\n",
       " Row(userId='30', firstName='Colin', ts=1541218904000, level='free', page='Logout', phase=0),\n",
       " Row(userId='30', firstName='Colin', ts=1541218934000, level='free', page='Home', phase=0),\n",
       " Row(userId='30', firstName='Colin', ts=1541219400000, level='free', page='NextSong', phase=0),\n",
       " Row(userId='30', firstName='Colin', ts=1541219401000, level='free', page='Thumbs Up', phase=0),\n",
       " Row(userId='30', firstName='Colin', ts=1541219605000, level='free', page='NextSong', phase=0),\n",
       " Row(userId='30', firstName='Colin', ts=1541219622000, level='free', page='Upgrade', phase=0),\n",
       " Row(userId='30', firstName='Colin', ts=1541219953000, level='free', page='NextSong', phase=0),\n",
       " Row(userId='30', firstName='Colin', ts=1541220184000, level='free', page='NextSong', phase=0),\n",
       " Row(userId='30', firstName='Colin', ts=1541220546000, level='free', page='NextSong', phase=0),\n",
       " Row(userId='30', firstName='Colin', ts=1541220784000, level='free', page='NextSong', phase=0),\n",
       " Row(userId='30', firstName='Colin', ts=1541221059000, level='free', page='NextSong', phase=0),\n",
       " Row(userId='30', firstName='Colin', ts=1541221060000, level='free', page='Roll Advert', phase=0),\n",
       " Row(userId='30', firstName='Colin', ts=1541221287000, level='free', page='NextSong', phase=0),\n",
       " Row(userId='30', firstName='Colin', ts=1541221485000, level='free', page='NextSong', phase=0),\n",
       " Row(userId='30', firstName='Colin', ts=1541221714000, level='free', page='NextSong', phase=0),\n",
       " Row(userId='30', firstName='Colin', ts=1541221734000, level='free', page='Roll Advert', phase=0),\n",
       " Row(userId='30', firstName='Colin', ts=1541222052000, level='free', page='NextSong', phase=0),\n",
       " Row(userId='30', firstName='Colin', ts=1541314757000, level='free', page='NextSong', phase=0),\n",
       " Row(userId='30', firstName='Colin', ts=1541314766000, level='free', page='Roll Advert', phase=0),\n",
       " Row(userId='30', firstName='Colin', ts=1541314925000, level='free', page='NextSong', phase=0),\n",
       " Row(userId='30', firstName='Colin', ts=1541315241000, level='free', page='NextSong', phase=0),\n",
       " Row(userId='30', firstName='Colin', ts=1541315376000, level='free', page='NextSong', phase=0),\n",
       " Row(userId='30', firstName='Colin', ts=1541315407000, level='free', page='Home', phase=0),\n",
       " Row(userId='30', firstName='Colin', ts=1541315579000, level='free', page='NextSong', phase=0),\n",
       " Row(userId='30', firstName='Colin', ts=1541315886000, level='free', page='NextSong', phase=0),\n",
       " Row(userId='30', firstName='Colin', ts=1541315897000, level='free', page='Roll Advert', phase=0),\n",
       " Row(userId='30', firstName='Colin', ts=1541316119000, level='free', page='NextSong', phase=0),\n",
       " Row(userId='30', firstName='Colin', ts=1541316548000, level='free', page='NextSong', phase=0),\n",
       " Row(userId='30', firstName='Colin', ts=1541316808000, level='free', page='NextSong', phase=0),\n",
       " Row(userId='30', firstName='Colin', ts=1541317039000, level='free', page='NextSong', phase=0),\n",
       " Row(userId='30', firstName='Colin', ts=1541317323000, level='free', page='NextSong', phase=0),\n",
       " Row(userId='30', firstName='Colin', ts=1541317677000, level='free', page='NextSong', phase=0),\n",
       " Row(userId='30', firstName='Colin', ts=1541318084000, level='free', page='NextSong', phase=0),\n",
       " Row(userId='30', firstName='Colin', ts=1541318389000, level='free', page='NextSong', phase=0),\n",
       " Row(userId='30', firstName='Colin', ts=1541318648000, level='free', page='NextSong', phase=0),\n",
       " Row(userId='30', firstName='Colin', ts=1541318815000, level='free', page='NextSong', phase=0),\n",
       " Row(userId='30', firstName='Colin', ts=1541319005000, level='free', page='NextSong', phase=0),\n",
       " Row(userId='30', firstName='Colin', ts=1541319208000, level='free', page='NextSong', phase=0),\n",
       " Row(userId='30', firstName='Colin', ts=1541319435000, level='free', page='NextSong', phase=0),\n",
       " Row(userId='30', firstName='Colin', ts=1541319443000, level='free', page='Add to Playlist', phase=0),\n",
       " Row(userId='30', firstName='Colin', ts=1541319612000, level='free', page='NextSong', phase=0),\n",
       " Row(userId='30', firstName='Colin', ts=1541319779000, level='free', page='NextSong', phase=0),\n",
       " Row(userId='30', firstName='Colin', ts=1541320077000, level='free', page='NextSong', phase=0),\n",
       " Row(userId='30', firstName='Colin', ts=1541320092000, level='free', page='Home', phase=0),\n",
       " Row(userId='30', firstName='Colin', ts=1541320093000, level='free', page='Add Friend', phase=0),\n",
       " Row(userId='30', firstName='Colin', ts=1541320322000, level='free', page='NextSong', phase=0),\n",
       " Row(userId='30', firstName='Colin', ts=1541320323000, level='free', page='Thumbs Up', phase=0),\n",
       " Row(userId='30', firstName='Colin', ts=1541320544000, level='free', page='NextSong', phase=0),\n",
       " Row(userId='30', firstName='Colin', ts=1541320800000, level='free', page='NextSong', phase=0),\n",
       " Row(userId='30', firstName='Colin', ts=1541321067000, level='free', page='NextSong', phase=0),\n",
       " Row(userId='30', firstName='Colin', ts=1541321068000, level='free', page='Thumbs Up', phase=0),\n",
       " Row(userId='30', firstName='Colin', ts=1541321328000, level='free', page='NextSong', phase=0),\n",
       " Row(userId='30', firstName='Colin', ts=1541421195000, level='free', page='NextSong', phase=0),\n",
       " Row(userId='30', firstName='Colin', ts=1541421514000, level='free', page='NextSong', phase=0),\n",
       " Row(userId='30', firstName='Colin', ts=1541421819000, level='free', page='NextSong', phase=0),\n",
       " Row(userId='30', firstName='Colin', ts=1541422008000, level='free', page='NextSong', phase=0),\n",
       " Row(userId='30', firstName='Colin', ts=1541422228000, level='free', page='NextSong', phase=0),\n",
       " Row(userId='30', firstName='Colin', ts=1541422459000, level='free', page='NextSong', phase=0),\n",
       " Row(userId='30', firstName='Colin', ts=1541422511000, level='free', page='Add to Playlist', phase=0),\n",
       " Row(userId='30', firstName='Colin', ts=1541422684000, level='free', page='NextSong', phase=0),\n",
       " Row(userId='30', firstName='Colin', ts=1541422923000, level='free', page='NextSong', phase=0),\n",
       " Row(userId='30', firstName='Colin', ts=1541423142000, level='free', page='NextSong', phase=0),\n",
       " Row(userId='30', firstName='Colin', ts=1541423315000, level='free', page='NextSong', phase=0),\n",
       " Row(userId='30', firstName='Colin', ts=1541423324000, level='free', page='Roll Advert', phase=0),\n",
       " Row(userId='30', firstName='Colin', ts=1541423328000, level='free', page='Roll Advert', phase=0),\n",
       " Row(userId='30', firstName='Colin', ts=1541423546000, level='free', page='NextSong', phase=0),\n",
       " Row(userId='30', firstName='Colin', ts=1541423670000, level='free', page='NextSong', phase=0),\n",
       " Row(userId='30', firstName='Colin', ts=1541423709000, level='free', page='Upgrade', phase=0),\n",
       " Row(userId='30', firstName='Colin', ts=1541423891000, level='free', page='NextSong', phase=0),\n",
       " Row(userId='30', firstName='Colin', ts=1541423892000, level='free', page='Logout', phase=0),\n",
       " Row(userId='30', firstName='Colin', ts=1541423920000, level='free', page='Home', phase=0),\n",
       " Row(userId='30', firstName='Colin', ts=1541424209000, level='free', page='NextSong', phase=0),\n",
       " Row(userId='30', firstName='Colin', ts=1541424510000, level='free', page='NextSong', phase=0),\n",
       " Row(userId='30', firstName='Colin', ts=1541424718000, level='free', page='NextSong', phase=0),\n",
       " Row(userId='30', firstName='Colin', ts=1541425212000, level='free', page='NextSong', phase=0),\n",
       " Row(userId='30', firstName='Colin', ts=1541425403000, level='free', page='NextSong', phase=0),\n",
       " Row(userId='30', firstName='Colin', ts=1541425655000, level='free', page='NextSong', phase=0),\n",
       " Row(userId='30', firstName='Colin', ts=1541425700000, level='free', page='Roll Advert', phase=0),\n",
       " Row(userId='30', firstName='Colin', ts=1541425944000, level='free', page='NextSong', phase=0),\n",
       " Row(userId='30', firstName='Colin', ts=1541425989000, level='free', page='Roll Advert', phase=0),\n",
       " Row(userId='30', firstName='Colin', ts=1541430348000, level='free', page='NextSong', phase=0),\n",
       " Row(userId='30', firstName='Colin', ts=1541430349000, level='free', page='Thumbs Down', phase=0),\n",
       " Row(userId='30', firstName='Colin', ts=1541430591000, level='free', page='NextSong', phase=0),\n",
       " Row(userId='30', firstName='Colin', ts=1541430805000, level='free', page='NextSong', phase=0),\n",
       " Row(userId='30', firstName='Colin', ts=1541431046000, level='free', page='NextSong', phase=0),\n",
       " Row(userId='30', firstName='Colin', ts=1541431190000, level='free', page='NextSong', phase=0),\n",
       " Row(userId='30', firstName='Colin', ts=1541431191000, level='free', page='Thumbs Up', phase=0),\n",
       " Row(userId='30', firstName='Colin', ts=1541431415000, level='free', page='NextSong', phase=0),\n",
       " Row(userId='30', firstName='Colin', ts=1541442785000, level='free', page='NextSong', phase=0),\n",
       " Row(userId='30', firstName='Colin', ts=1541442990000, level='free', page='NextSong', phase=0),\n",
       " Row(userId='30', firstName='Colin', ts=1541443162000, level='free', page='NextSong', phase=0),\n",
       " Row(userId='30', firstName='Colin', ts=1541443425000, level='free', page='NextSong', phase=0),\n",
       " Row(userId='30', firstName='Colin', ts=1541443818000, level='free', page='NextSong', phase=0),\n",
       " Row(userId='30', firstName='Colin', ts=1541443819000, level='free', page='Thumbs Up', phase=0),\n",
       " Row(userId='30', firstName='Colin', ts=1541443875000, level='free', page='NextSong', phase=0),\n",
       " Row(userId='30', firstName='Colin', ts=1541444113000, level='free', page='NextSong', phase=0),\n",
       " ...]"
      ]
     },
     "execution_count": 35,
     "metadata": {},
     "output_type": "execute_result"
    }
   ],
   "source": [
    "#Now let's see how it's look in our random user \n",
    "df_m.select([\"userId\",\"firstName\",\"ts\",\"level\",\"page\",\"phase\"]).where(df.userId == \"30\").sort(\"ts\").collect()"
   ]
  },
  {
   "cell_type": "code",
   "execution_count": 36,
   "metadata": {},
   "outputs": [],
   "source": [
    "#count the (next song) page request by grouping the hour column\n",
    "#also ordered the results \n",
    "song_in_hour = df_m.filter(df_m.page == \"NextSong\").groupby(df_m.hour).count().orderBy(df_m.hour.cast(\"float\"))#check"
   ]
  },
  {
   "cell_type": "code",
   "execution_count": 37,
   "metadata": {},
   "outputs": [
    {
     "name": "stdout",
     "output_type": "stream",
     "text": [
      "+----+-----+\n",
      "|hour|count|\n",
      "+----+-----+\n",
      "|   0| 9062|\n",
      "|   1| 8388|\n",
      "|   2| 8336|\n",
      "|   3| 8355|\n",
      "|   4| 8147|\n",
      "|   5| 8178|\n",
      "|   6| 8054|\n",
      "|   7| 8091|\n",
      "|   8| 8253|\n",
      "|   9| 8498|\n",
      "|  10| 8882|\n",
      "|  11| 8830|\n",
      "|  12| 9326|\n",
      "|  13| 9644|\n",
      "|  14|10494|\n",
      "|  15|11354|\n",
      "|  16|11636|\n",
      "|  17|11460|\n",
      "|  18|11124|\n",
      "|  19|10930|\n",
      "+----+-----+\n",
      "only showing top 20 rows\n",
      "\n"
     ]
    }
   ],
   "source": [
    "song_in_hour.show()"
   ]
  },
  {
   "cell_type": "markdown",
   "metadata": {},
   "source": [
    "let's turn (song_in_hour) dataframe to pandas dataframe to visualize these results to get better look"
   ]
  },
  {
   "cell_type": "code",
   "execution_count": 38,
   "metadata": {},
   "outputs": [],
   "source": [
    "song_in_hour_pd = song_in_hour.toPandas()"
   ]
  },
  {
   "cell_type": "code",
   "execution_count": 39,
   "metadata": {},
   "outputs": [
    {
     "data": {
      "image/png": "[encoded data removed]",
      "text/plain": [
       "<matplotlib.figure.Figure at 0x7ff2b5697748>"
      ]
     },
     "metadata": {
      "needs_background": "light"
     },
     "output_type": "display_data"
    }
   ],
   "source": [
    "plt.figure(figsize=[8,6])\n",
    "plt.scatter(song_in_hour_pd[\"hour\"],song_in_hour_pd[\"count\"],color='red')\n",
    "plt.xlim(-1,24);\n",
    "plt.xlabel(\"Hour\")\n",
    "plt.ylabel(\"count\")\n",
    "plt.title(\"number of song per hour\");"
   ]
  },
  {
   "cell_type": "markdown",
   "metadata": {},
   "source": [
    "From the graph above, we can notice that much people like to listen to music in evening and late night and early morning."
   ]
  },
  {
   "cell_type": "markdown",
   "metadata": {},
   "source": [
    "## create churn\n",
    "By creating churn that will help as to get more information about users that cancel their service like how many male or female who canceled or which state got the most cancellation.(For example but not limited)"
   ]
  },
  {
   "cell_type": "code",
   "execution_count": 14,
   "metadata": {},
   "outputs": [
    {
     "data": {
      "text/plain": [
       "52"
      ]
     },
     "execution_count": 14,
     "metadata": {},
     "output_type": "execute_result"
    }
   ],
   "source": [
    "#let's see how many user that cancel their service\n",
    "df_m.select(\"userId\",\"page\").where(df_m[\"page\"] == \"Cancellation Confirmation\").count()"
   ]
  },
  {
   "cell_type": "markdown",
   "metadata": {},
   "source": [
    "We have 52 users that canceled their service, let's get more detail about them"
   ]
  },
  {
   "cell_type": "code",
   "execution_count": 73,
   "metadata": {},
   "outputs": [],
   "source": [
    "churn_m = udf(lambda x: 1 if x == \"Cancellation Confirmation\" else 0, IntegerType())"
   ]
  },
  {
   "cell_type": "code",
   "execution_count": 74,
   "metadata": {},
   "outputs": [],
   "source": [
    "df_m = df_m.withColumn(\"churn\",churn_m(\"page\"))"
   ]
  },
  {
   "cell_type": "code",
   "execution_count": 75,
   "metadata": {},
   "outputs": [
    {
     "name": "stdout",
     "output_type": "stream",
     "text": [
      "+--------------+---------+---------+------+-------------+--------+---------+-----+---------------+------+--------+-------------+---------+---------+------+-------------+--------------------+------+-----+\n",
      "|        artist|     auth|firstName|gender|itemInSession|lastName|   length|level|       location|method|    page| registration|sessionId|     song|status|           ts|           userAgent|userId|churn|\n",
      "+--------------+---------+---------+------+-------------+--------+---------+-----+---------------+------+--------+-------------+---------+---------+------+-------------+--------------------+------+-----+\n",
      "|Martha Tilston|Logged In|    Colin|     M|           50| Freeman|277.89016| paid|Bakersfield, CA|   PUT|NextSong|1538173362000|       29|Rockpools|   200|1538352117000|Mozilla/5.0 (Wind...|    30|    0|\n",
      "+--------------+---------+---------+------+-------------+--------+---------+-----+---------------+------+--------+-------------+---------+---------+------+-------------+--------------------+------+-----+\n",
      "only showing top 1 row\n",
      "\n"
     ]
    }
   ],
   "source": [
    "#check if it's work\n",
    "df_m.show(1)"
   ]
  },
  {
   "cell_type": "markdown",
   "metadata": {},
   "source": [
    "### users churn"
   ]
  },
  {
   "cell_type": "markdown",
   "metadata": {},
   "source": [
    "let's see how many users cancel their service"
   ]
  },
  {
   "cell_type": "code",
   "execution_count": 44,
   "metadata": {},
   "outputs": [],
   "source": [
    "df_churs_user = df_m.select(\"userId\",\"churn\").dropDuplicates().groupBy(\"churn\").count()"
   ]
  },
  {
   "cell_type": "code",
   "execution_count": 45,
   "metadata": {},
   "outputs": [],
   "source": [
    "#converted to pandas for visualization\n",
    "df_churs_user_pd = df_churs_user.toPandas()"
   ]
  },
  {
   "cell_type": "code",
   "execution_count": 46,
   "metadata": {},
   "outputs": [
    {
     "data": {
      "text/html": [
       "<div>\n",
       "<style scoped>\n",
       "    .dataframe tbody tr th:only-of-type {\n",
       "        vertical-align: middle;\n",
       "    }\n",
       "\n",
       "    .dataframe tbody tr th {\n",
       "        vertical-align: top;\n",
       "    }\n",
       "\n",
       "    .dataframe thead th {\n",
       "        text-align: right;\n",
       "    }\n",
       "</style>\n",
       "<table border=\"1\" class=\"dataframe\">\n",
       "  <thead>\n",
       "    <tr style=\"text-align: right;\">\n",
       "      <th></th>\n",
       "      <th>churn</th>\n",
       "      <th>count</th>\n",
       "    </tr>\n",
       "  </thead>\n",
       "  <tbody>\n",
       "    <tr>\n",
       "      <th>0</th>\n",
       "      <td>1</td>\n",
       "      <td>52</td>\n",
       "    </tr>\n",
       "    <tr>\n",
       "      <th>1</th>\n",
       "      <td>0</td>\n",
       "      <td>225</td>\n",
       "    </tr>\n",
       "  </tbody>\n",
       "</table>\n",
       "</div>"
      ],
      "text/plain": [
       "   churn  count\n",
       "0      1     52\n",
       "1      0    225"
      ]
     },
     "execution_count": 46,
     "metadata": {},
     "output_type": "execute_result"
    }
   ],
   "source": [
    "df_churs_user_pd.head()"
   ]
  },
  {
   "cell_type": "code",
   "execution_count": 47,
   "metadata": {},
   "outputs": [
    {
     "data": {
      "image/png": "[encoded data removed]",
      "text/plain": [
       "<matplotlib.figure.Figure at 0x7ff2b4557828>"
      ]
     },
     "metadata": {
      "needs_background": "light"
     },
     "output_type": "display_data"
    }
   ],
   "source": [
    "plt.figure(figsize = [6,6])\n",
    "ax = sns.barplot(data = df_churs_user_pd, x = \"churn\", y = \"count\")\n",
    "plt.title(\"people who's stay vs churn\");\n",
    "plt.show()"
   ]
  },
  {
   "cell_type": "markdown",
   "metadata": {},
   "source": [
    "As we can see 52 of the user chunr and 225  are stay"
   ]
  },
  {
   "cell_type": "markdown",
   "metadata": {},
   "source": [
    "### churn users based on gender"
   ]
  },
  {
   "cell_type": "code",
   "execution_count": 48,
   "metadata": {},
   "outputs": [],
   "source": [
    "df_gender = df_m.select([\"userId\",\"churn\",\"gender\"]).dropDuplicates().groupBy(\"gender\",\"churn\").count()"
   ]
  },
  {
   "cell_type": "code",
   "execution_count": 49,
   "metadata": {},
   "outputs": [
    {
     "name": "stdout",
     "output_type": "stream",
     "text": [
      "+------+-----+-----+\n",
      "|gender|churn|count|\n",
      "+------+-----+-----+\n",
      "|     M|    1|   32|\n",
      "|     F|    0|  104|\n",
      "|     F|    1|   20|\n",
      "|     M|    0|  121|\n",
      "+------+-----+-----+\n",
      "\n"
     ]
    }
   ],
   "source": [
    "df_gender.show()"
   ]
  },
  {
   "cell_type": "markdown",
   "metadata": {},
   "source": [
    "let's turn (df_gender) dataframe to pandas dataframe to visualize these results to get better look"
   ]
  },
  {
   "cell_type": "code",
   "execution_count": 50,
   "metadata": {},
   "outputs": [],
   "source": [
    "df_gender_pd = df_gender.toPandas()"
   ]
  },
  {
   "cell_type": "code",
   "execution_count": 51,
   "metadata": {},
   "outputs": [
    {
     "data": {
      "text/html": [
       "<div>\n",
       "<style scoped>\n",
       "    .dataframe tbody tr th:only-of-type {\n",
       "        vertical-align: middle;\n",
       "    }\n",
       "\n",
       "    .dataframe tbody tr th {\n",
       "        vertical-align: top;\n",
       "    }\n",
       "\n",
       "    .dataframe thead th {\n",
       "        text-align: right;\n",
       "    }\n",
       "</style>\n",
       "<table border=\"1\" class=\"dataframe\">\n",
       "  <thead>\n",
       "    <tr style=\"text-align: right;\">\n",
       "      <th></th>\n",
       "      <th>gender</th>\n",
       "      <th>churn</th>\n",
       "      <th>count</th>\n",
       "    </tr>\n",
       "  </thead>\n",
       "  <tbody>\n",
       "    <tr>\n",
       "      <th>0</th>\n",
       "      <td>M</td>\n",
       "      <td>1</td>\n",
       "      <td>32</td>\n",
       "    </tr>\n",
       "    <tr>\n",
       "      <th>1</th>\n",
       "      <td>F</td>\n",
       "      <td>0</td>\n",
       "      <td>104</td>\n",
       "    </tr>\n",
       "    <tr>\n",
       "      <th>2</th>\n",
       "      <td>F</td>\n",
       "      <td>1</td>\n",
       "      <td>20</td>\n",
       "    </tr>\n",
       "    <tr>\n",
       "      <th>3</th>\n",
       "      <td>M</td>\n",
       "      <td>0</td>\n",
       "      <td>121</td>\n",
       "    </tr>\n",
       "  </tbody>\n",
       "</table>\n",
       "</div>"
      ],
      "text/plain": [
       "  gender  churn  count\n",
       "0      M      1     32\n",
       "1      F      0    104\n",
       "2      F      1     20\n",
       "3      M      0    121"
      ]
     },
     "execution_count": 51,
     "metadata": {},
     "output_type": "execute_result"
    }
   ],
   "source": [
    "df_gender_pd.head()"
   ]
  },
  {
   "cell_type": "code",
   "execution_count": 52,
   "metadata": {
    "scrolled": false
   },
   "outputs": [
    {
     "data": {
      "image/png": "[encoded data removed]",
      "text/plain": [
       "<matplotlib.figure.Figure at 0x7ff2b4572ac8>"
      ]
     },
     "metadata": {
      "needs_background": "light"
     },
     "output_type": "display_data"
    }
   ],
   "source": [
    "plt.figure(figsize = [6,6])\n",
    "sns.barplot(data = df_gender_pd, x = \"churn\", y = \"count\", hue = \"gender\",color='red')\n",
    "plt.title(\"churn user by Gender\");"
   ]
  },
  {
   "cell_type": "markdown",
   "metadata": {},
   "source": [
    "as we can see from the graph above, male user are the most user who's cancelled more than female"
   ]
  },
  {
   "cell_type": "markdown",
   "metadata": {},
   "source": [
    "### churn user based on location"
   ]
  },
  {
   "cell_type": "code",
   "execution_count": 53,
   "metadata": {},
   "outputs": [
    {
     "name": "stdout",
     "output_type": "stream",
     "text": [
      "+--------------------+\n",
      "|            location|\n",
      "+--------------------+\n",
      "|     Bakersfield, CA|\n",
      "|Boston-Cambridge-...|\n",
      "|     Bakersfield, CA|\n",
      "|Boston-Cambridge-...|\n",
      "|     Bakersfield, CA|\n",
      "|Boston-Cambridge-...|\n",
      "|Boston-Cambridge-...|\n",
      "|     Bakersfield, CA|\n",
      "|     Bakersfield, CA|\n",
      "|     Bakersfield, CA|\n",
      "|Boston-Cambridge-...|\n",
      "|Boston-Cambridge-...|\n",
      "|     Bakersfield, CA|\n",
      "|Boston-Cambridge-...|\n",
      "|Boston-Cambridge-...|\n",
      "|     Bakersfield, CA|\n",
      "|Boston-Cambridge-...|\n",
      "|     Tallahassee, FL|\n",
      "|     Bakersfield, CA|\n",
      "|Boston-Cambridge-...|\n",
      "+--------------------+\n",
      "only showing top 20 rows\n",
      "\n"
     ]
    }
   ],
   "source": [
    "df_m.select(\"location\").show()"
   ]
  },
  {
   "cell_type": "markdown",
   "metadata": {},
   "source": [
    "let's create a new column that only include shortcut for each state"
   ]
  },
  {
   "cell_type": "code",
   "execution_count": 18,
   "metadata": {},
   "outputs": [],
   "source": [
    "state_col = udf(lambda x: x[-2:])"
   ]
  },
  {
   "cell_type": "code",
   "execution_count": 19,
   "metadata": {},
   "outputs": [],
   "source": [
    "df_loc = df_m.withColumn(\"state\", state_col(\"location\"))"
   ]
  },
  {
   "cell_type": "code",
   "execution_count": 16,
   "metadata": {},
   "outputs": [
    {
     "name": "stdout",
     "output_type": "stream",
     "text": [
      "+--------------+---------+---------+------+-------------+--------+---------+-----+---------------+------+--------+-------------+---------+---------+------+-------------+--------------------+------+-----+-----+\n",
      "|        artist|     auth|firstName|gender|itemInSession|lastName|   length|level|       location|method|    page| registration|sessionId|     song|status|           ts|           userAgent|userId|churn|state|\n",
      "+--------------+---------+---------+------+-------------+--------+---------+-----+---------------+------+--------+-------------+---------+---------+------+-------------+--------------------+------+-----+-----+\n",
      "|Martha Tilston|Logged In|    Colin|     M|           50| Freeman|277.89016| paid|Bakersfield, CA|   PUT|NextSong|1538173362000|       29|Rockpools|   200|1538352117000|Mozilla/5.0 (Wind...|    30|    0|   CA|\n",
      "+--------------+---------+---------+------+-------------+--------+---------+-----+---------------+------+--------+-------------+---------+---------+------+-------------+--------------------+------+-----+-----+\n",
      "only showing top 1 row\n",
      "\n"
     ]
    }
   ],
   "source": [
    "#let's see if it's work\n",
    "df_loc.show(1)"
   ]
  },
  {
   "cell_type": "markdown",
   "metadata": {},
   "source": [
    "now let's create new dataframe that include all necessary column for this part and converted to pandas for visualization"
   ]
  },
  {
   "cell_type": "code",
   "execution_count": 57,
   "metadata": {},
   "outputs": [],
   "source": [
    "df_loc = df_loc.select(\"userId\",\"churn\",\"state\").dropDuplicates().groupBy(\"state\",\"churn\").count()"
   ]
  },
  {
   "cell_type": "code",
   "execution_count": 58,
   "metadata": {},
   "outputs": [],
   "source": [
    "df_loc_pd = df_loc.toPandas()"
   ]
  },
  {
   "cell_type": "code",
   "execution_count": 59,
   "metadata": {},
   "outputs": [
    {
     "data": {
      "text/html": [
       "<div>\n",
       "<style scoped>\n",
       "    .dataframe tbody tr th:only-of-type {\n",
       "        vertical-align: middle;\n",
       "    }\n",
       "\n",
       "    .dataframe tbody tr th {\n",
       "        vertical-align: top;\n",
       "    }\n",
       "\n",
       "    .dataframe thead th {\n",
       "        text-align: right;\n",
       "    }\n",
       "</style>\n",
       "<table border=\"1\" class=\"dataframe\">\n",
       "  <thead>\n",
       "    <tr style=\"text-align: right;\">\n",
       "      <th></th>\n",
       "      <th>state</th>\n",
       "      <th>churn</th>\n",
       "      <th>count</th>\n",
       "    </tr>\n",
       "  </thead>\n",
       "  <tbody>\n",
       "    <tr>\n",
       "      <th>0</th>\n",
       "      <td>IN</td>\n",
       "      <td>0</td>\n",
       "      <td>6</td>\n",
       "    </tr>\n",
       "    <tr>\n",
       "      <th>1</th>\n",
       "      <td>MD</td>\n",
       "      <td>0</td>\n",
       "      <td>7</td>\n",
       "    </tr>\n",
       "    <tr>\n",
       "      <th>2</th>\n",
       "      <td>VA</td>\n",
       "      <td>0</td>\n",
       "      <td>3</td>\n",
       "    </tr>\n",
       "    <tr>\n",
       "      <th>3</th>\n",
       "      <td>AZ</td>\n",
       "      <td>0</td>\n",
       "      <td>7</td>\n",
       "    </tr>\n",
       "    <tr>\n",
       "      <th>4</th>\n",
       "      <td>AZ</td>\n",
       "      <td>1</td>\n",
       "      <td>2</td>\n",
       "    </tr>\n",
       "  </tbody>\n",
       "</table>\n",
       "</div>"
      ],
      "text/plain": [
       "  state  churn  count\n",
       "0    IN      0      6\n",
       "1    MD      0      7\n",
       "2    VA      0      3\n",
       "3    AZ      0      7\n",
       "4    AZ      1      2"
      ]
     },
     "execution_count": 59,
     "metadata": {},
     "output_type": "execute_result"
    }
   ],
   "source": [
    "df_loc_pd.head()"
   ]
  },
  {
   "cell_type": "code",
   "execution_count": 60,
   "metadata": {},
   "outputs": [
    {
     "data": {
      "image/png": "[encoded data removed]",
      "text/plain": [
       "<matplotlib.figure.Figure at 0x7ff2b44c4908>"
      ]
     },
     "metadata": {
      "needs_background": "light"
     },
     "output_type": "display_data"
    }
   ],
   "source": [
    "plt.figure(figsize = [12,12])\n",
    "sns.barplot(data = df_loc_pd, x = \"count\", y = \"state\", hue = \"churn\", color='red')\n",
    "plt.title(\"churn user by state\");"
   ]
  },
  {
   "cell_type": "markdown",
   "metadata": {},
   "source": [
    "From the graph above, california has the most user who's still paid and Pennsylvania, florida and texas, also these states has the most cancellation"
   ]
  },
  {
   "cell_type": "markdown",
   "metadata": {},
   "source": [
    "### churn user based on level"
   ]
  },
  {
   "cell_type": "code",
   "execution_count": 61,
   "metadata": {},
   "outputs": [],
   "source": [
    "df_level = df_m.select(\"userId\",\"churn\",\"level\").dropDuplicates().groupBy(\"level\",\"churn\").count()"
   ]
  },
  {
   "cell_type": "code",
   "execution_count": 62,
   "metadata": {},
   "outputs": [
    {
     "name": "stdout",
     "output_type": "stream",
     "text": [
      "+-----+-----+-----+\n",
      "|level|churn|count|\n",
      "+-----+-----+-----+\n",
      "| paid|    0|  165|\n",
      "| free|    0|  195|\n",
      "| paid|    1|   31|\n",
      "| free|    1|   21|\n",
      "+-----+-----+-----+\n",
      "\n"
     ]
    }
   ],
   "source": [
    "df_level.show()"
   ]
  },
  {
   "cell_type": "code",
   "execution_count": 63,
   "metadata": {},
   "outputs": [],
   "source": [
    "df_level_pd = df_level.toPandas()"
   ]
  },
  {
   "cell_type": "code",
   "execution_count": 64,
   "metadata": {},
   "outputs": [
    {
     "data": {
      "text/html": [
       "<div>\n",
       "<style scoped>\n",
       "    .dataframe tbody tr th:only-of-type {\n",
       "        vertical-align: middle;\n",
       "    }\n",
       "\n",
       "    .dataframe tbody tr th {\n",
       "        vertical-align: top;\n",
       "    }\n",
       "\n",
       "    .dataframe thead th {\n",
       "        text-align: right;\n",
       "    }\n",
       "</style>\n",
       "<table border=\"1\" class=\"dataframe\">\n",
       "  <thead>\n",
       "    <tr style=\"text-align: right;\">\n",
       "      <th></th>\n",
       "      <th>level</th>\n",
       "      <th>churn</th>\n",
       "      <th>count</th>\n",
       "    </tr>\n",
       "  </thead>\n",
       "  <tbody>\n",
       "    <tr>\n",
       "      <th>0</th>\n",
       "      <td>paid</td>\n",
       "      <td>0</td>\n",
       "      <td>165</td>\n",
       "    </tr>\n",
       "    <tr>\n",
       "      <th>1</th>\n",
       "      <td>free</td>\n",
       "      <td>0</td>\n",
       "      <td>195</td>\n",
       "    </tr>\n",
       "    <tr>\n",
       "      <th>2</th>\n",
       "      <td>paid</td>\n",
       "      <td>1</td>\n",
       "      <td>31</td>\n",
       "    </tr>\n",
       "    <tr>\n",
       "      <th>3</th>\n",
       "      <td>free</td>\n",
       "      <td>1</td>\n",
       "      <td>21</td>\n",
       "    </tr>\n",
       "  </tbody>\n",
       "</table>\n",
       "</div>"
      ],
      "text/plain": [
       "  level  churn  count\n",
       "0  paid      0    165\n",
       "1  free      0    195\n",
       "2  paid      1     31\n",
       "3  free      1     21"
      ]
     },
     "execution_count": 64,
     "metadata": {},
     "output_type": "execute_result"
    }
   ],
   "source": [
    "df_level_pd"
   ]
  },
  {
   "cell_type": "code",
   "execution_count": 65,
   "metadata": {},
   "outputs": [
    {
     "data": {
      "image/png": "[encoded data removed]",
      "text/plain": [
       "<matplotlib.figure.Figure at 0x7ff2b42dd358>"
      ]
     },
     "metadata": {
      "needs_background": "light"
     },
     "output_type": "display_data"
    }
   ],
   "source": [
    "plt.figure(figsize = [6,6])\n",
    "sns.barplot(data = df_level_pd, x = \"churn\", y = \"count\", hue = \"level\",color='red')\n",
    "plt.title(\"churn user by Level\");"
   ]
  },
  {
   "cell_type": "markdown",
   "metadata": {},
   "source": [
    "From the graph above, free user who's chunr less than user who paid for the service "
   ]
  },
  {
   "cell_type": "code",
   "execution_count": null,
   "metadata": {},
   "outputs": [],
   "source": []
  },
  {
   "cell_type": "markdown",
   "metadata": {},
   "source": [
    "# Feature Engineering\n",
    "Once you've familiarized yourself with the data, build out the features you find promising to train your model on. To work with the full dataset, you can follow the following steps.\n",
    "- Write a script to extract the necessary features from the smaller subset of data\n",
    "- Ensure that your script is scalable, using the best practices discussed in Lesson 3\n",
    "- Try your script on the full data set, debugging your script if necessary\n",
    "\n",
    "If you are working in the classroom workspace, you can just extract features based on the small subset of data contained here. Be sure to transfer over this work to the larger dataset when you work on your Spark cluster."
   ]
  },
  {
   "cell_type": "markdown",
   "metadata": {},
   "source": [
    "Let's start the next step, i'll build out the features that looks promising to train our model on.\n",
    "\n",
    "These are the features that i'm interesting on:\n",
    "\n",
    "- Gender\n",
    "- number of thumbs up\n",
    "- number of thumbs down\n",
    "- location(california,Pennsylvania,florida,texas)"
   ]
  },
  {
   "cell_type": "markdown",
   "metadata": {},
   "source": [
    "### Gender"
   ]
  },
  {
   "cell_type": "code",
   "execution_count": 76,
   "metadata": {},
   "outputs": [],
   "source": [
    "gender = df_m.select('userId','gender').dropDuplicates()"
   ]
  },
  {
   "cell_type": "code",
   "execution_count": 77,
   "metadata": {},
   "outputs": [
    {
     "name": "stdout",
     "output_type": "stream",
     "text": [
      "+------+------+\n",
      "|userId|gender|\n",
      "+------+------+\n",
      "|    44|     F|\n",
      "|    46|     F|\n",
      "|    41|     F|\n",
      "+------+------+\n",
      "only showing top 3 rows\n",
      "\n"
     ]
    }
   ],
   "source": [
    "gender.show(3)"
   ]
  },
  {
   "cell_type": "code",
   "execution_count": 78,
   "metadata": {},
   "outputs": [],
   "source": [
    "#craete function for gender column\n",
    "gen = udf(lambda x: 1 if x == \"M\" else 0, IntegerType())"
   ]
  },
  {
   "cell_type": "code",
   "execution_count": 79,
   "metadata": {},
   "outputs": [],
   "source": [
    "gender = gender.withColumn(\"genders\",gen(\"gender\"))"
   ]
  },
  {
   "cell_type": "code",
   "execution_count": 187,
   "metadata": {},
   "outputs": [
    {
     "name": "stdout",
     "output_type": "stream",
     "text": [
      "+------+------+-------+\n",
      "|userId|gender|genders|\n",
      "+------+------+-------+\n",
      "|    44|     F|      0|\n",
      "|    46|     F|      0|\n",
      "|    41|     F|      0|\n",
      "|    72|     F|      0|\n",
      "|300023|     F|      0|\n",
      "|    39|     F|      0|\n",
      "|100010|     F|      0|\n",
      "|    40|     F|      0|\n",
      "|    94|     F|      0|\n",
      "|    35|     F|      0|\n",
      "|    75|     F|      0|\n",
      "|   116|     F|      0|\n",
      "|200001|     M|      1|\n",
      "|200020|     M|      1|\n",
      "|100008|     F|      0|\n",
      "|200015|     M|      1|\n",
      "|   100|     M|      1|\n",
      "|100006|     F|      0|\n",
      "|300005|     F|      0|\n",
      "|    25|     F|      0|\n",
      "+------+------+-------+\n",
      "only showing top 20 rows\n",
      "\n"
     ]
    }
   ],
   "source": [
    "gender.show()"
   ]
  },
  {
   "cell_type": "code",
   "execution_count": 80,
   "metadata": {},
   "outputs": [],
   "source": [
    "#let's drop gender column(that include M,F)\n",
    "gender = gender.drop('gender')"
   ]
  },
  {
   "cell_type": "code",
   "execution_count": 81,
   "metadata": {},
   "outputs": [
    {
     "name": "stdout",
     "output_type": "stream",
     "text": [
      "+------+-------+\n",
      "|userId|genders|\n",
      "+------+-------+\n",
      "|    44|      0|\n",
      "|    46|      0|\n",
      "|    41|      0|\n",
      "+------+-------+\n",
      "only showing top 3 rows\n",
      "\n"
     ]
    }
   ],
   "source": [
    "#check if it's work\n",
    "gender.show(3)"
   ]
  },
  {
   "cell_type": "code",
   "execution_count": 24,
   "metadata": {},
   "outputs": [
    {
     "data": {
      "text/plain": [
       "225"
      ]
     },
     "execution_count": 24,
     "metadata": {},
     "output_type": "execute_result"
    }
   ],
   "source": [
    "gender.count()"
   ]
  },
  {
   "cell_type": "markdown",
   "metadata": {},
   "source": [
    "### Number of thumbs up"
   ]
  },
  {
   "cell_type": "code",
   "execution_count": 82,
   "metadata": {},
   "outputs": [],
   "source": [
    "thu_up = udf(lambda x: 1 if x == \"Thumbs Up\" else 0, IntegerType())"
   ]
  },
  {
   "cell_type": "code",
   "execution_count": 83,
   "metadata": {},
   "outputs": [],
   "source": [
    "thumbs_up = df_m.select(['userId','page'])"
   ]
  },
  {
   "cell_type": "code",
   "execution_count": 84,
   "metadata": {},
   "outputs": [
    {
     "name": "stdout",
     "output_type": "stream",
     "text": [
      "+------+--------+\n",
      "|userId|    page|\n",
      "+------+--------+\n",
      "|    30|NextSong|\n",
      "|     9|NextSong|\n",
      "|    30|NextSong|\n",
      "+------+--------+\n",
      "only showing top 3 rows\n",
      "\n"
     ]
    }
   ],
   "source": [
    "thumbs_up.show(3)"
   ]
  },
  {
   "cell_type": "code",
   "execution_count": 85,
   "metadata": {},
   "outputs": [],
   "source": [
    "thumbs_up = thumbs_up.withColumn(\"thumb_up\",thu_up('page'))"
   ]
  },
  {
   "cell_type": "code",
   "execution_count": 194,
   "metadata": {},
   "outputs": [
    {
     "name": "stdout",
     "output_type": "stream",
     "text": [
      "+------+---------------+--------+\n",
      "|userId|           page|thumb_up|\n",
      "+------+---------------+--------+\n",
      "|    30|       NextSong|       0|\n",
      "|     9|       NextSong|       0|\n",
      "|    30|       NextSong|       0|\n",
      "|     9|       NextSong|       0|\n",
      "|    30|       NextSong|       0|\n",
      "|     9|       NextSong|       0|\n",
      "|     9|       NextSong|       0|\n",
      "|    30|       NextSong|       0|\n",
      "|    30|Add to Playlist|       0|\n",
      "|    30|       NextSong|       0|\n",
      "|     9|       NextSong|       0|\n",
      "|     9|    Roll Advert|       0|\n",
      "|    30|       NextSong|       0|\n",
      "|     9|       NextSong|       0|\n",
      "|     9|      Thumbs Up|       1|\n",
      "|    30|       NextSong|       0|\n",
      "|     9|       NextSong|       0|\n",
      "|    74|       NextSong|       0|\n",
      "|    30|       NextSong|       0|\n",
      "|     9|       NextSong|       0|\n",
      "+------+---------------+--------+\n",
      "only showing top 20 rows\n",
      "\n"
     ]
    }
   ],
   "source": [
    "thumbs_up.show()"
   ]
  },
  {
   "cell_type": "code",
   "execution_count": 86,
   "metadata": {},
   "outputs": [],
   "source": [
    "#let's drop page column\n",
    "thumbs_up = thumbs_up.drop('page')"
   ]
  },
  {
   "cell_type": "code",
   "execution_count": 196,
   "metadata": {},
   "outputs": [
    {
     "name": "stdout",
     "output_type": "stream",
     "text": [
      "+------+--------+\n",
      "|userId|thumb_up|\n",
      "+------+--------+\n",
      "|    30|       0|\n",
      "|     9|       0|\n",
      "|    30|       0|\n",
      "+------+--------+\n",
      "only showing top 3 rows\n",
      "\n"
     ]
    }
   ],
   "source": [
    "thumbs_up.show(3)"
   ]
  },
  {
   "cell_type": "code",
   "execution_count": 87,
   "metadata": {},
   "outputs": [],
   "source": [
    "thumbs_up = thumbs_up.groupby('userId').sum('thumb_up')"
   ]
  },
  {
   "cell_type": "code",
   "execution_count": 198,
   "metadata": {},
   "outputs": [
    {
     "name": "stdout",
     "output_type": "stream",
     "text": [
      "+------+-------------+\n",
      "|userId|sum(thumb_up)|\n",
      "+------+-------------+\n",
      "|100010|           17|\n",
      "|200002|           21|\n",
      "|   125|            0|\n",
      "+------+-------------+\n",
      "only showing top 3 rows\n",
      "\n"
     ]
    }
   ],
   "source": [
    "thumbs_up.show(3)"
   ]
  },
  {
   "cell_type": "code",
   "execution_count": 88,
   "metadata": {},
   "outputs": [],
   "source": [
    "#let's change sum(thumb_up) column name\n",
    "thumbs_up = thumbs_up.withColumnRenamed('sum(thumb_up)',\"thumb_up\")"
   ]
  },
  {
   "cell_type": "code",
   "execution_count": 89,
   "metadata": {},
   "outputs": [
    {
     "name": "stdout",
     "output_type": "stream",
     "text": [
      "+------+--------+\n",
      "|userId|thumb_up|\n",
      "+------+--------+\n",
      "|100010|      17|\n",
      "|200002|      21|\n",
      "|   125|       0|\n",
      "+------+--------+\n",
      "only showing top 3 rows\n",
      "\n"
     ]
    }
   ],
   "source": [
    "thumbs_up.show(3)"
   ]
  },
  {
   "cell_type": "code",
   "execution_count": 31,
   "metadata": {},
   "outputs": [
    {
     "data": {
      "text/plain": [
       "225"
      ]
     },
     "execution_count": 31,
     "metadata": {},
     "output_type": "execute_result"
    }
   ],
   "source": [
    "thumbs_up.count()"
   ]
  },
  {
   "cell_type": "markdown",
   "metadata": {},
   "source": [
    "### Number of thumbs down"
   ]
  },
  {
   "cell_type": "code",
   "execution_count": 90,
   "metadata": {},
   "outputs": [],
   "source": [
    "thu_down = udf(lambda x: 1 if x == \"Thumbs Down\" else 0, IntegerType())"
   ]
  },
  {
   "cell_type": "code",
   "execution_count": 91,
   "metadata": {},
   "outputs": [],
   "source": [
    "thumbs_down = df_m.select(['userId','page'])"
   ]
  },
  {
   "cell_type": "code",
   "execution_count": 92,
   "metadata": {},
   "outputs": [
    {
     "name": "stdout",
     "output_type": "stream",
     "text": [
      "+------+--------+\n",
      "|userId|    page|\n",
      "+------+--------+\n",
      "|    30|NextSong|\n",
      "|     9|NextSong|\n",
      "|    30|NextSong|\n",
      "+------+--------+\n",
      "only showing top 3 rows\n",
      "\n"
     ]
    }
   ],
   "source": [
    "thumbs_down.show(3)"
   ]
  },
  {
   "cell_type": "code",
   "execution_count": 93,
   "metadata": {},
   "outputs": [],
   "source": [
    "thumbs_down = thumbs_down.withColumn(\"thumb_down\",thu_down('page'))"
   ]
  },
  {
   "cell_type": "code",
   "execution_count": 38,
   "metadata": {},
   "outputs": [
    {
     "name": "stdout",
     "output_type": "stream",
     "text": [
      "+------+--------+----------+\n",
      "|userId|    page|thumb_down|\n",
      "+------+--------+----------+\n",
      "|    30|NextSong|         0|\n",
      "|     9|NextSong|         0|\n",
      "|    30|NextSong|         0|\n",
      "+------+--------+----------+\n",
      "only showing top 3 rows\n",
      "\n"
     ]
    }
   ],
   "source": [
    "thumbs_down.show(3)"
   ]
  },
  {
   "cell_type": "code",
   "execution_count": 94,
   "metadata": {},
   "outputs": [],
   "source": [
    "#let's drop page column\n",
    "thumbs_down = thumbs_down.drop('page')"
   ]
  },
  {
   "cell_type": "code",
   "execution_count": 38,
   "metadata": {},
   "outputs": [
    {
     "name": "stdout",
     "output_type": "stream",
     "text": [
      "+------+----------+\n",
      "|userId|thumb_down|\n",
      "+------+----------+\n",
      "|    30|         0|\n",
      "|     9|         0|\n",
      "|    30|         0|\n",
      "+------+----------+\n",
      "only showing top 3 rows\n",
      "\n"
     ]
    }
   ],
   "source": [
    "thumbs_down.show(3)"
   ]
  },
  {
   "cell_type": "code",
   "execution_count": 95,
   "metadata": {},
   "outputs": [],
   "source": [
    "thumbs_down = thumbs_down.groupby('userId').sum('thumb_down')"
   ]
  },
  {
   "cell_type": "code",
   "execution_count": 40,
   "metadata": {},
   "outputs": [
    {
     "name": "stdout",
     "output_type": "stream",
     "text": [
      "+------+---------------+\n",
      "|userId|sum(thumb_down)|\n",
      "+------+---------------+\n",
      "|100010|              5|\n",
      "|200002|              6|\n",
      "|   125|              0|\n",
      "+------+---------------+\n",
      "only showing top 3 rows\n",
      "\n"
     ]
    }
   ],
   "source": [
    "thumbs_down.show(3)"
   ]
  },
  {
   "cell_type": "code",
   "execution_count": 96,
   "metadata": {},
   "outputs": [],
   "source": [
    "#let's change sum(thumb_down) column name\n",
    "thumbs_down = thumbs_down.withColumnRenamed('sum(thumb_down)',\"thumb_down\")"
   ]
  },
  {
   "cell_type": "code",
   "execution_count": 97,
   "metadata": {},
   "outputs": [
    {
     "name": "stdout",
     "output_type": "stream",
     "text": [
      "+------+----------+\n",
      "|userId|thumb_down|\n",
      "+------+----------+\n",
      "|100010|         5|\n",
      "|200002|         6|\n",
      "|   125|         0|\n",
      "+------+----------+\n",
      "only showing top 3 rows\n",
      "\n"
     ]
    }
   ],
   "source": [
    "thumbs_down.show(3)"
   ]
  },
  {
   "cell_type": "code",
   "execution_count": 43,
   "metadata": {},
   "outputs": [
    {
     "data": {
      "text/plain": [
       "225"
      ]
     },
     "execution_count": 43,
     "metadata": {},
     "output_type": "execute_result"
    }
   ],
   "source": [
    "thumbs_down.count()"
   ]
  },
  {
   "cell_type": "markdown",
   "metadata": {},
   "source": [
    "### Location(California)"
   ]
  },
  {
   "cell_type": "code",
   "execution_count": 98,
   "metadata": {},
   "outputs": [],
   "source": [
    "ca = udf(lambda x: 1 if x == \"CA\" else 0, IntegerType())"
   ]
  },
  {
   "cell_type": "code",
   "execution_count": 99,
   "metadata": {},
   "outputs": [],
   "source": [
    "df_loca = df_m.withColumn(\"state\", state_col(\"location\"))"
   ]
  },
  {
   "cell_type": "code",
   "execution_count": 100,
   "metadata": {},
   "outputs": [
    {
     "name": "stdout",
     "output_type": "stream",
     "text": [
      "+----------------+---------+---------+------+-------------+--------+---------+-----+--------------------+------+--------+-------------+---------+-----------------+------+-------------+--------------------+------+-----+-----+\n",
      "|          artist|     auth|firstName|gender|itemInSession|lastName|   length|level|            location|method|    page| registration|sessionId|             song|status|           ts|           userAgent|userId|churn|state|\n",
      "+----------------+---------+---------+------+-------------+--------+---------+-----+--------------------+------+--------+-------------+---------+-----------------+------+-------------+--------------------+------+-----+-----+\n",
      "|  Martha Tilston|Logged In|    Colin|     M|           50| Freeman|277.89016| paid|     Bakersfield, CA|   PUT|NextSong|1538173362000|       29|        Rockpools|   200|1538352117000|Mozilla/5.0 (Wind...|    30|    0|   CA|\n",
      "|Five Iron Frenzy|Logged In|    Micah|     M|           79|    Long|236.09424| free|Boston-Cambridge-...|   PUT|NextSong|1538331630000|        8|           Canada|   200|1538352180000|\"Mozilla/5.0 (Win...|     9|    0|   NH|\n",
      "|    Adam Lambert|Logged In|    Colin|     M|           51| Freeman| 282.8273| paid|     Bakersfield, CA|   PUT|NextSong|1538173362000|       29|Time For Miracles|   200|1538352394000|Mozilla/5.0 (Wind...|    30|    0|   CA|\n",
      "+----------------+---------+---------+------+-------------+--------+---------+-----+--------------------+------+--------+-------------+---------+-----------------+------+-------------+--------------------+------+-----+-----+\n",
      "only showing top 3 rows\n",
      "\n"
     ]
    }
   ],
   "source": [
    "df_loca.show(3)"
   ]
  },
  {
   "cell_type": "code",
   "execution_count": 101,
   "metadata": {},
   "outputs": [],
   "source": [
    "location_ca = df_loca.select('userId','state').dropDuplicates()"
   ]
  },
  {
   "cell_type": "code",
   "execution_count": 102,
   "metadata": {},
   "outputs": [
    {
     "name": "stdout",
     "output_type": "stream",
     "text": [
      "+------+-----+\n",
      "|userId|state|\n",
      "+------+-----+\n",
      "|    73|   NY|\n",
      "|200004|   NC|\n",
      "|300020|   GA|\n",
      "+------+-----+\n",
      "only showing top 3 rows\n",
      "\n"
     ]
    }
   ],
   "source": [
    "location_ca.show(3)"
   ]
  },
  {
   "cell_type": "code",
   "execution_count": 103,
   "metadata": {},
   "outputs": [],
   "source": [
    "location_ca = location_ca.withColumn(\"CA\",ca(\"state\"))"
   ]
  },
  {
   "cell_type": "code",
   "execution_count": 104,
   "metadata": {},
   "outputs": [
    {
     "name": "stdout",
     "output_type": "stream",
     "text": [
      "+------+-----+---+\n",
      "|userId|state| CA|\n",
      "+------+-----+---+\n",
      "|    73|   NY|  0|\n",
      "|200004|   NC|  0|\n",
      "|300020|   GA|  0|\n",
      "+------+-----+---+\n",
      "only showing top 3 rows\n",
      "\n"
     ]
    }
   ],
   "source": [
    "location_ca.show(3)"
   ]
  },
  {
   "cell_type": "code",
   "execution_count": 105,
   "metadata": {},
   "outputs": [],
   "source": [
    "#let's drop state column\n",
    "location_ca = location_ca.drop('state')"
   ]
  },
  {
   "cell_type": "code",
   "execution_count": 45,
   "metadata": {},
   "outputs": [
    {
     "name": "stdout",
     "output_type": "stream",
     "text": [
      "+------+---+\n",
      "|userId| CA|\n",
      "+------+---+\n",
      "|    73|  0|\n",
      "|200004|  0|\n",
      "|300020|  0|\n",
      "+------+---+\n",
      "only showing top 3 rows\n",
      "\n"
     ]
    }
   ],
   "source": [
    "location_ca.show(3)"
   ]
  },
  {
   "cell_type": "code",
   "execution_count": 183,
   "metadata": {},
   "outputs": [
    {
     "data": {
      "text/plain": [
       "225"
      ]
     },
     "execution_count": 183,
     "metadata": {},
     "output_type": "execute_result"
    }
   ],
   "source": [
    "location_ca.count()"
   ]
  },
  {
   "cell_type": "markdown",
   "metadata": {},
   "source": [
    "### Location(Pennsylvania)"
   ]
  },
  {
   "cell_type": "code",
   "execution_count": 106,
   "metadata": {},
   "outputs": [],
   "source": [
    "pa = udf(lambda x: 1 if x == \"PA\" else 0, IntegerType())"
   ]
  },
  {
   "cell_type": "code",
   "execution_count": 107,
   "metadata": {},
   "outputs": [],
   "source": [
    "location_pa = df_loca.select('userId','state').dropDuplicates()"
   ]
  },
  {
   "cell_type": "code",
   "execution_count": 108,
   "metadata": {},
   "outputs": [
    {
     "name": "stdout",
     "output_type": "stream",
     "text": [
      "+------+-----+\n",
      "|userId|state|\n",
      "+------+-----+\n",
      "|    73|   NY|\n",
      "|200004|   NC|\n",
      "|300020|   GA|\n",
      "+------+-----+\n",
      "only showing top 3 rows\n",
      "\n"
     ]
    }
   ],
   "source": [
    "location_pa.show(3)"
   ]
  },
  {
   "cell_type": "code",
   "execution_count": 109,
   "metadata": {},
   "outputs": [],
   "source": [
    "location_pa = location_pa.withColumn(\"PA\",pa(\"state\"))"
   ]
  },
  {
   "cell_type": "code",
   "execution_count": 188,
   "metadata": {},
   "outputs": [
    {
     "name": "stdout",
     "output_type": "stream",
     "text": [
      "+------+-----+---+\n",
      "|userId|state| PA|\n",
      "+------+-----+---+\n",
      "|    73|   NY|  0|\n",
      "|200004|   NC|  0|\n",
      "|300020|   GA|  0|\n",
      "+------+-----+---+\n",
      "only showing top 3 rows\n",
      "\n"
     ]
    }
   ],
   "source": [
    "location_pa.show(3)"
   ]
  },
  {
   "cell_type": "code",
   "execution_count": 110,
   "metadata": {},
   "outputs": [],
   "source": [
    "#let's drop state column\n",
    "location_pa = location_pa.drop('state')"
   ]
  },
  {
   "cell_type": "code",
   "execution_count": 111,
   "metadata": {},
   "outputs": [
    {
     "name": "stdout",
     "output_type": "stream",
     "text": [
      "+------+---+\n",
      "|userId| PA|\n",
      "+------+---+\n",
      "|    73|  0|\n",
      "|200004|  0|\n",
      "|300020|  0|\n",
      "+------+---+\n",
      "only showing top 3 rows\n",
      "\n"
     ]
    }
   ],
   "source": [
    "location_pa.show(3)"
   ]
  },
  {
   "cell_type": "code",
   "execution_count": 191,
   "metadata": {},
   "outputs": [
    {
     "data": {
      "text/plain": [
       "225"
      ]
     },
     "execution_count": 191,
     "metadata": {},
     "output_type": "execute_result"
    }
   ],
   "source": [
    "location_pa.count()"
   ]
  },
  {
   "cell_type": "markdown",
   "metadata": {},
   "source": [
    "### Location(Florida)"
   ]
  },
  {
   "cell_type": "code",
   "execution_count": 112,
   "metadata": {},
   "outputs": [],
   "source": [
    "fl = udf(lambda x: 1 if x == \"FL\" else 0, IntegerType())"
   ]
  },
  {
   "cell_type": "code",
   "execution_count": 113,
   "metadata": {},
   "outputs": [],
   "source": [
    "location_fl = df_loca.select('userId','state').dropDuplicates()"
   ]
  },
  {
   "cell_type": "code",
   "execution_count": 114,
   "metadata": {},
   "outputs": [
    {
     "name": "stdout",
     "output_type": "stream",
     "text": [
      "+------+-----+\n",
      "|userId|state|\n",
      "+------+-----+\n",
      "|    73|   NY|\n",
      "|200004|   NC|\n",
      "|300020|   GA|\n",
      "+------+-----+\n",
      "only showing top 3 rows\n",
      "\n"
     ]
    }
   ],
   "source": [
    "location_fl.show(3)"
   ]
  },
  {
   "cell_type": "code",
   "execution_count": 115,
   "metadata": {},
   "outputs": [],
   "source": [
    "location_fl = location_fl.withColumn(\"FL\",fl(\"state\"))"
   ]
  },
  {
   "cell_type": "code",
   "execution_count": 196,
   "metadata": {},
   "outputs": [
    {
     "name": "stdout",
     "output_type": "stream",
     "text": [
      "+------+-----+---+\n",
      "|userId|state| FL|\n",
      "+------+-----+---+\n",
      "|    73|   NY|  0|\n",
      "|200004|   NC|  0|\n",
      "|300020|   GA|  0|\n",
      "+------+-----+---+\n",
      "only showing top 3 rows\n",
      "\n"
     ]
    }
   ],
   "source": [
    "location_fl.show(3)"
   ]
  },
  {
   "cell_type": "code",
   "execution_count": 116,
   "metadata": {},
   "outputs": [],
   "source": [
    "#let's drop state column\n",
    "location_fl = location_fl.drop('state')"
   ]
  },
  {
   "cell_type": "code",
   "execution_count": 117,
   "metadata": {},
   "outputs": [
    {
     "name": "stdout",
     "output_type": "stream",
     "text": [
      "+------+---+\n",
      "|userId| FL|\n",
      "+------+---+\n",
      "|    73|  0|\n",
      "|200004|  0|\n",
      "|300020|  0|\n",
      "+------+---+\n",
      "only showing top 3 rows\n",
      "\n"
     ]
    }
   ],
   "source": [
    "location_fl.show(3)"
   ]
  },
  {
   "cell_type": "code",
   "execution_count": 199,
   "metadata": {},
   "outputs": [
    {
     "data": {
      "text/plain": [
       "225"
      ]
     },
     "execution_count": 199,
     "metadata": {},
     "output_type": "execute_result"
    }
   ],
   "source": [
    "location_fl.count()"
   ]
  },
  {
   "cell_type": "markdown",
   "metadata": {},
   "source": [
    "### Location(Texas)"
   ]
  },
  {
   "cell_type": "code",
   "execution_count": 118,
   "metadata": {},
   "outputs": [],
   "source": [
    "tx = udf(lambda x: 1 if x == \"TX\" else 0, IntegerType())"
   ]
  },
  {
   "cell_type": "code",
   "execution_count": 119,
   "metadata": {},
   "outputs": [],
   "source": [
    "location_tx = df_loca.select('userId','state').dropDuplicates()"
   ]
  },
  {
   "cell_type": "code",
   "execution_count": 120,
   "metadata": {},
   "outputs": [
    {
     "name": "stdout",
     "output_type": "stream",
     "text": [
      "+------+-----+\n",
      "|userId|state|\n",
      "+------+-----+\n",
      "|    73|   NY|\n",
      "|200004|   NC|\n",
      "|300020|   GA|\n",
      "+------+-----+\n",
      "only showing top 3 rows\n",
      "\n"
     ]
    }
   ],
   "source": [
    "location_tx.show(3)"
   ]
  },
  {
   "cell_type": "code",
   "execution_count": 121,
   "metadata": {},
   "outputs": [],
   "source": [
    "location_tx = location_tx.withColumn(\"TX\",tx(\"state\"))"
   ]
  },
  {
   "cell_type": "code",
   "execution_count": 61,
   "metadata": {},
   "outputs": [
    {
     "name": "stdout",
     "output_type": "stream",
     "text": [
      "+------+-----+---+\n",
      "|userId|state| TX|\n",
      "+------+-----+---+\n",
      "|    73|   NY|  0|\n",
      "|200004|   NC|  0|\n",
      "|300020|   GA|  0|\n",
      "+------+-----+---+\n",
      "only showing top 3 rows\n",
      "\n"
     ]
    }
   ],
   "source": [
    "location_tx.show(3)"
   ]
  },
  {
   "cell_type": "code",
   "execution_count": 122,
   "metadata": {},
   "outputs": [],
   "source": [
    "#let's drop state column\n",
    "location_tx = location_tx.drop('state')"
   ]
  },
  {
   "cell_type": "code",
   "execution_count": 123,
   "metadata": {},
   "outputs": [
    {
     "name": "stdout",
     "output_type": "stream",
     "text": [
      "+------+---+\n",
      "|userId| TX|\n",
      "+------+---+\n",
      "|    73|  0|\n",
      "|200004|  0|\n",
      "|300020|  0|\n",
      "+------+---+\n",
      "only showing top 3 rows\n",
      "\n"
     ]
    }
   ],
   "source": [
    "location_tx.show(3)"
   ]
  },
  {
   "cell_type": "code",
   "execution_count": 207,
   "metadata": {},
   "outputs": [
    {
     "data": {
      "text/plain": [
       "225"
      ]
     },
     "execution_count": 207,
     "metadata": {},
     "output_type": "execute_result"
    }
   ],
   "source": [
    "location_tx.count()"
   ]
  },
  {
   "cell_type": "markdown",
   "metadata": {},
   "source": [
    "### combine all features together"
   ]
  },
  {
   "cell_type": "markdown",
   "metadata": {},
   "source": [
    "let's create new dataset that contain all our features with churn column"
   ]
  },
  {
   "cell_type": "code",
   "execution_count": 124,
   "metadata": {},
   "outputs": [],
   "source": [
    "churn_user = df_m.select(\"userId\",\"churn\").dropDuplicates().groupby(\"userId\",\"churn\").count()"
   ]
  },
  {
   "cell_type": "code",
   "execution_count": 125,
   "metadata": {},
   "outputs": [
    {
     "name": "stdout",
     "output_type": "stream",
     "text": [
      "+------+-----+-----+\n",
      "|userId|churn|count|\n",
      "+------+-----+-----+\n",
      "|    73|    0|    1|\n",
      "|    19|    0|    1|\n",
      "|100005|    1|    1|\n",
      "+------+-----+-----+\n",
      "only showing top 3 rows\n",
      "\n"
     ]
    }
   ],
   "source": [
    "churn_user.show(3)"
   ]
  },
  {
   "cell_type": "code",
   "execution_count": 126,
   "metadata": {},
   "outputs": [],
   "source": [
    "#let's drop count column\n",
    "churn_user = churn_user.drop('count')"
   ]
  },
  {
   "cell_type": "code",
   "execution_count": 67,
   "metadata": {},
   "outputs": [
    {
     "name": "stdout",
     "output_type": "stream",
     "text": [
      "+------+-----+\n",
      "|userId|churn|\n",
      "+------+-----+\n",
      "|    73|    0|\n",
      "|    19|    0|\n",
      "|100005|    1|\n",
      "+------+-----+\n",
      "only showing top 3 rows\n",
      "\n"
     ]
    }
   ],
   "source": [
    "churn_user.show(3)"
   ]
  },
  {
   "cell_type": "code",
   "execution_count": 74,
   "metadata": {},
   "outputs": [
    {
     "data": {
      "text/plain": [
       "277"
      ]
     },
     "execution_count": 74,
     "metadata": {},
     "output_type": "execute_result"
    }
   ],
   "source": [
    "churn_user.count()"
   ]
  },
  {
   "cell_type": "code",
   "execution_count": 127,
   "metadata": {},
   "outputs": [],
   "source": [
    "df_fe = gender.join(thumbs_up,[\"userId\"]).join(thumbs_down,[\"userId\"]).join(location_ca,[\"userId\"]) \\\n",
    "              .join(location_pa,[\"userId\"]).join(location_fl,[\"userId\"]).join(location_tx,[\"userId\"]) \\\n",
    "              .join(churn_user,[\"userId\"])"
   ]
  },
  {
   "cell_type": "code",
   "execution_count": 128,
   "metadata": {},
   "outputs": [
    {
     "name": "stdout",
     "output_type": "stream",
     "text": [
      "+------+-------+--------+----------+---+---+---+---+-----+\n",
      "|userId|genders|thumb_up|thumb_down| CA| PA| FL| TX|churn|\n",
      "+------+-------+--------+----------+---+---+---+---+-----+\n",
      "|100010|      0|      17|         5|  0|  0|  0|  0|    0|\n",
      "|200002|      1|      21|         6|  0|  0|  0|  0|    0|\n",
      "|   125|      1|       0|         0|  0|  0|  0|  1|    1|\n",
      "+------+-------+--------+----------+---+---+---+---+-----+\n",
      "only showing top 3 rows\n",
      "\n"
     ]
    }
   ],
   "source": [
    "df_fe.show(3)"
   ]
  },
  {
   "cell_type": "code",
   "execution_count": 129,
   "metadata": {},
   "outputs": [],
   "source": [
    "df_fe = df_fe.withColumnRenamed('churn',\"label\")"
   ]
  },
  {
   "cell_type": "code",
   "execution_count": 130,
   "metadata": {},
   "outputs": [
    {
     "name": "stdout",
     "output_type": "stream",
     "text": [
      "+------+-------+--------+----------+---+---+---+---+-----+\n",
      "|userId|genders|thumb_up|thumb_down| CA| PA| FL| TX|label|\n",
      "+------+-------+--------+----------+---+---+---+---+-----+\n",
      "|100010|      0|      17|         5|  0|  0|  0|  0|    0|\n",
      "|200002|      1|      21|         6|  0|  0|  0|  0|    0|\n",
      "|   125|      1|       0|         0|  0|  0|  0|  1|    1|\n",
      "|   125|      1|       0|         0|  0|  0|  0|  1|    0|\n",
      "|   124|      0|     171|        41|  0|  0|  0|  0|    0|\n",
      "|    51|      1|     100|        21|  0|  0|  0|  0|    1|\n",
      "|    51|      1|     100|        21|  0|  0|  0|  0|    0|\n",
      "|     7|      1|       7|         1|  0|  0|  0|  0|    0|\n",
      "|    15|      1|      81|        14|  0|  0|  0|  0|    0|\n",
      "|    54|      0|     163|        29|  0|  0|  0|  0|    0|\n",
      "|    54|      0|     163|        29|  0|  0|  0|  0|    1|\n",
      "|   155|      0|      58|         3|  0|  0|  0|  0|    0|\n",
      "|100014|      1|      17|         3|  0|  1|  0|  0|    1|\n",
      "|100014|      1|      17|         3|  0|  1|  0|  0|    0|\n",
      "|   132|      0|      96|        17|  0|  0|  0|  0|    0|\n",
      "|   154|      0|      11|         0|  0|  1|  0|  0|    0|\n",
      "|   101|      1|      86|        16|  0|  0|  0|  0|    1|\n",
      "|   101|      1|      86|        16|  0|  0|  0|  0|    0|\n",
      "|    11|      0|      40|         9|  0|  0|  0|  0|    0|\n",
      "|   138|      1|      95|        24|  0|  1|  0|  0|    0|\n",
      "+------+-------+--------+----------+---+---+---+---+-----+\n",
      "only showing top 20 rows\n",
      "\n"
     ]
    }
   ],
   "source": [
    "df_fe.show()"
   ]
  },
  {
   "cell_type": "code",
   "execution_count": 131,
   "metadata": {},
   "outputs": [],
   "source": [
    "#let's drop userId column\n",
    "df_fe = df_fe.drop('userId')"
   ]
  },
  {
   "cell_type": "code",
   "execution_count": 132,
   "metadata": {},
   "outputs": [
    {
     "name": "stdout",
     "output_type": "stream",
     "text": [
      "+-------+--------+----------+---+---+---+---+-----+\n",
      "|genders|thumb_up|thumb_down| CA| PA| FL| TX|label|\n",
      "+-------+--------+----------+---+---+---+---+-----+\n",
      "|      0|      17|         5|  0|  0|  0|  0|    0|\n",
      "|      1|      21|         6|  0|  0|  0|  0|    0|\n",
      "|      1|       0|         0|  0|  0|  0|  1|    1|\n",
      "|      1|       0|         0|  0|  0|  0|  1|    0|\n",
      "|      0|     171|        41|  0|  0|  0|  0|    0|\n",
      "|      1|     100|        21|  0|  0|  0|  0|    1|\n",
      "|      1|     100|        21|  0|  0|  0|  0|    0|\n",
      "|      1|       7|         1|  0|  0|  0|  0|    0|\n",
      "|      1|      81|        14|  0|  0|  0|  0|    0|\n",
      "|      0|     163|        29|  0|  0|  0|  0|    0|\n",
      "|      0|     163|        29|  0|  0|  0|  0|    1|\n",
      "|      0|      58|         3|  0|  0|  0|  0|    0|\n",
      "|      1|      17|         3|  0|  1|  0|  0|    1|\n",
      "|      1|      17|         3|  0|  1|  0|  0|    0|\n",
      "|      0|      96|        17|  0|  0|  0|  0|    0|\n",
      "|      0|      11|         0|  0|  1|  0|  0|    0|\n",
      "|      1|      86|        16|  0|  0|  0|  0|    1|\n",
      "|      1|      86|        16|  0|  0|  0|  0|    0|\n",
      "|      0|      40|         9|  0|  0|  0|  0|    0|\n",
      "|      1|      95|        24|  0|  1|  0|  0|    0|\n",
      "+-------+--------+----------+---+---+---+---+-----+\n",
      "only showing top 20 rows\n",
      "\n"
     ]
    }
   ],
   "source": [
    "df_fe.show()"
   ]
  },
  {
   "cell_type": "markdown",
   "metadata": {},
   "source": [
    "Before we start, we need to make sure that our input is in the correct format"
   ]
  },
  {
   "cell_type": "code",
   "execution_count": 73,
   "metadata": {},
   "outputs": [
    {
     "name": "stdout",
     "output_type": "stream",
     "text": [
      "root\n",
      " |-- genders: integer (nullable = true)\n",
      " |-- thumb_up: long (nullable = true)\n",
      " |-- thumb_down: long (nullable = true)\n",
      " |-- CA: integer (nullable = true)\n",
      " |-- PA: integer (nullable = true)\n",
      " |-- FL: integer (nullable = true)\n",
      " |-- TX: integer (nullable = true)\n",
      " |-- label: integer (nullable = true)\n",
      "\n"
     ]
    }
   ],
   "source": [
    "df_fe.printSchema()"
   ]
  },
  {
   "cell_type": "code",
   "execution_count": 133,
   "metadata": {},
   "outputs": [],
   "source": [
    "#create for loop to change datatype\n",
    "for types in df_fe.columns:\n",
    "    df_fe = df_fe.withColumn(types, df_fe[types].cast('float'))"
   ]
  },
  {
   "cell_type": "code",
   "execution_count": 134,
   "metadata": {},
   "outputs": [
    {
     "name": "stdout",
     "output_type": "stream",
     "text": [
      "root\n",
      " |-- genders: float (nullable = true)\n",
      " |-- thumb_up: float (nullable = true)\n",
      " |-- thumb_down: float (nullable = true)\n",
      " |-- CA: float (nullable = true)\n",
      " |-- PA: float (nullable = true)\n",
      " |-- FL: float (nullable = true)\n",
      " |-- TX: float (nullable = true)\n",
      " |-- label: float (nullable = true)\n",
      "\n"
     ]
    }
   ],
   "source": [
    "df_fe.printSchema()"
   ]
  },
  {
   "cell_type": "markdown",
   "metadata": {},
   "source": [
    "We need to normalize the inputs to make sure that they span across the same range. So let's create vector rows first as input."
   ]
  },
  {
   "cell_type": "code",
   "execution_count": 135,
   "metadata": {},
   "outputs": [],
   "source": [
    "assembler = VectorAssembler(inputCols=[\"genders\",\"thumb_up\",\"thumb_down\",\"CA\",\"PA\",\"FL\",\"TX\"],outputCol=\"NumFeatures\")\n",
    "df_fe = assembler.transform(df_fe)"
   ]
  },
  {
   "cell_type": "code",
   "execution_count": 136,
   "metadata": {},
   "outputs": [
    {
     "name": "stdout",
     "output_type": "stream",
     "text": [
      "+-------+--------+----------+---+---+---+---+-----+--------------------+\n",
      "|genders|thumb_up|thumb_down| CA| PA| FL| TX|label|         NumFeatures|\n",
      "+-------+--------+----------+---+---+---+---+-----+--------------------+\n",
      "|    0.0|    17.0|       5.0|0.0|0.0|0.0|0.0|  0.0|(7,[1,2],[17.0,5.0])|\n",
      "|    1.0|    21.0|       6.0|0.0|0.0|0.0|0.0|  0.0|(7,[0,1,2],[1.0,2...|\n",
      "|    1.0|     0.0|       0.0|0.0|0.0|0.0|1.0|  1.0| (7,[0,6],[1.0,1.0])|\n",
      "+-------+--------+----------+---+---+---+---+-----+--------------------+\n",
      "only showing top 3 rows\n",
      "\n"
     ]
    }
   ],
   "source": [
    "df_fe.show(3)"
   ]
  },
  {
   "cell_type": "code",
   "execution_count": 137,
   "metadata": {},
   "outputs": [],
   "source": [
    "#normalize vector row\n",
    "#normalizer transforms dataset or vector rows, normalizing each vector to have unit norm\n",
    "scaler = Normalizer(inputCol=\"NumFeatures\",outputCol=\"scalednumfeatures\")\n",
    "df_fe = scaler.transform(df_fe)"
   ]
  },
  {
   "cell_type": "code",
   "execution_count": 138,
   "metadata": {},
   "outputs": [
    {
     "name": "stdout",
     "output_type": "stream",
     "text": [
      "+-------+--------+----------+---+---+---+---+-----+--------------------+--------------------+\n",
      "|genders|thumb_up|thumb_down| CA| PA| FL| TX|label|         NumFeatures|   scalednumfeatures|\n",
      "+-------+--------+----------+---+---+---+---+-----+--------------------+--------------------+\n",
      "|    0.0|    17.0|       5.0|0.0|0.0|0.0|0.0|  0.0|(7,[1,2],[17.0,5.0])|(7,[1,2],[0.95936...|\n",
      "|    1.0|    21.0|       6.0|0.0|0.0|0.0|0.0|  0.0|(7,[0,1,2],[1.0,2...|(7,[0,1,2],[0.045...|\n",
      "|    1.0|     0.0|       0.0|0.0|0.0|0.0|1.0|  1.0| (7,[0,6],[1.0,1.0])|(7,[0,6],[0.70710...|\n",
      "+-------+--------+----------+---+---+---+---+-----+--------------------+--------------------+\n",
      "only showing top 3 rows\n",
      "\n"
     ]
    }
   ],
   "source": [
    "df_fe.show(3)"
   ]
  },
  {
   "cell_type": "code",
   "execution_count": 139,
   "metadata": {},
   "outputs": [],
   "source": [
    "#Standardscaler transforms a dataset of vector rows, normalizeing each feature to have unit standard deviation\n",
    "#and/or zero mean\n",
    "scaler2 = StandardScaler(inputCol=\"NumFeatures\", outputCol=\"scalednumfeatures2\", withStd=True)\n",
    "scalermodel = scaler2.fit(df_fe)\n",
    "df_fe = scalermodel.transform(df_fe)"
   ]
  },
  {
   "cell_type": "code",
   "execution_count": 140,
   "metadata": {},
   "outputs": [
    {
     "data": {
      "text/plain": [
       "[Row(genders=0.0, thumb_up=17.0, thumb_down=5.0, CA=0.0, PA=0.0, FL=0.0, TX=0.0, label=0.0, NumFeatures=SparseVector(7, {1: 17.0, 2: 5.0}), scalednumfeatures=SparseVector(7, {1: 0.9594, 2: 0.2822}), scalednumfeatures2=SparseVector(7, {1: 0.2746, 2: 0.4022})),\n",
       " Row(genders=1.0, thumb_up=21.0, thumb_down=6.0, CA=0.0, PA=0.0, FL=0.0, TX=0.0, label=0.0, NumFeatures=SparseVector(7, {0: 1.0, 1: 21.0, 2: 6.0}), scalednumfeatures=SparseVector(7, {0: 0.0457, 1: 0.9605, 2: 0.2744}), scalednumfeatures2=SparseVector(7, {0: 2.0074, 1: 0.3392, 2: 0.4826})),\n",
       " Row(genders=1.0, thumb_up=0.0, thumb_down=0.0, CA=0.0, PA=0.0, FL=0.0, TX=1.0, label=1.0, NumFeatures=SparseVector(7, {0: 1.0, 6: 1.0}), scalednumfeatures=SparseVector(7, {0: 0.7071, 6: 0.7071}), scalednumfeatures2=SparseVector(7, {0: 2.0074, 6: 3.9492}))]"
      ]
     },
     "execution_count": 140,
     "metadata": {},
     "output_type": "execute_result"
    }
   ],
   "source": [
    "df_fe.head(3)"
   ]
  },
  {
   "cell_type": "code",
   "execution_count": null,
   "metadata": {},
   "outputs": [],
   "source": []
  },
  {
   "cell_type": "markdown",
   "metadata": {},
   "source": [
    "# Modeling\n",
    "Split the full dataset into train, test, and validation sets. Test out several of the machine learning methods you learned. Evaluate the accuracy of the various models, tuning parameters as necessary. Determine your winning model based on test accuracy and report results on the validation set. Since the churned users are a fairly small subset, I suggest using F1 score as the metric to optimize."
   ]
  },
  {
   "cell_type": "code",
   "execution_count": 141,
   "metadata": {},
   "outputs": [],
   "source": [
    "#Split the full dataset into train, test, and validation sets.\n",
    "train , test, valid = df_fe.randomSplit([0.7,0.15,0.15], seed= 100)"
   ]
  },
  {
   "cell_type": "markdown",
   "metadata": {},
   "source": [
    "This is a classification problem so we will use these ML classification algorithms: \n",
    "\n",
    "- LogisticRegression \n",
    "- RandomForestClassifier \n",
    "- NaiveBayes\n",
    "\n",
    "After that we will evaluate the F1 score & accuracy for each model and determine which one is perform better than the other."
   ]
  },
  {
   "cell_type": "code",
   "execution_count": 142,
   "metadata": {},
   "outputs": [],
   "source": [
    "#To get F1 score\n",
    "evaluator = MulticlassClassificationEvaluator(labelCol='label', predictionCol='prediction')"
   ]
  },
  {
   "cell_type": "code",
   "execution_count": 143,
   "metadata": {},
   "outputs": [],
   "source": [
    "#logistic regression\n",
    "log_re = LogisticRegression(featuresCol=\"scalednumfeatures2\", labelCol='label',maxIter= 10)\n",
    "log_re_model = log_re.fit(train)"
   ]
  },
  {
   "cell_type": "code",
   "execution_count": 144,
   "metadata": {},
   "outputs": [],
   "source": [
    "pred = log_re_model.transform(valid)"
   ]
  },
  {
   "cell_type": "code",
   "execution_count": 145,
   "metadata": {},
   "outputs": [
    {
     "name": "stdout",
     "output_type": "stream",
     "text": [
      "coefficents: [-0.190815339173,-1.02896789598,0.490421140596,0.0335854171134,0.0155541107354,0.154484712419,-0.0142372117155]\n",
      "Intercept: -1.0257191669483077\n"
     ]
    }
   ],
   "source": [
    "print(\"coefficents: \"+ str(log_re_model.coefficients))\n",
    "print(\"Intercept: \"+ str(log_re_model.intercept))"
   ]
  },
  {
   "cell_type": "code",
   "execution_count": 146,
   "metadata": {},
   "outputs": [
    {
     "name": "stdout",
     "output_type": "stream",
     "text": [
      "0.832034632034632\n",
      "0.8857142857142857\n"
     ]
    }
   ],
   "source": [
    "print(evaluator.evaluate(pred,{evaluator.metricName:\"f1\"}))\n",
    "print(pred.filter(pred.label==pred.prediction).count()/ pred.count())"
   ]
  },
  {
   "cell_type": "markdown",
   "metadata": {},
   "source": [
    "- F1 score for logistic regression is: 0.83\n",
    "- Accuracy for logistic regression is: 0.88"
   ]
  },
  {
   "cell_type": "code",
   "execution_count": 112,
   "metadata": {},
   "outputs": [
    {
     "name": "stdout",
     "output_type": "stream",
     "text": [
      "0.8175824175824176\n",
      "0.8571428571428571\n"
     ]
    }
   ],
   "source": [
    "#RandomForestClassifier\n",
    "randfor_class = RandomForestClassifier(featuresCol=\"scalednumfeatures2\", labelCol='label',numTrees= 10)\n",
    "randfor_class_model = randfor_class.fit(train)\n",
    "pred_rand = randfor_class_model.transform(valid)\n",
    "print(evaluator.evaluate(pred_rand, {evaluator.metricName:\"f1\"}))\n",
    "print(pred_rand.filter(pred_rand.label == pred_rand.prediction).count()/ pred_rand.count())"
   ]
  },
  {
   "cell_type": "markdown",
   "metadata": {},
   "source": [
    "- F1 score for RandomForestClassifier is: 0.81\n",
    "- Accuracy for RandomForestClassifier is: 0.85"
   ]
  },
  {
   "cell_type": "code",
   "execution_count": 114,
   "metadata": {},
   "outputs": [
    {
     "name": "stdout",
     "output_type": "stream",
     "text": [
      "0.7550351288056205\n",
      "0.7428571428571429\n"
     ]
    }
   ],
   "source": [
    "#NaiveBayes\n",
    "NaiveBayes = NaiveBayes(featuresCol=\"scalednumfeatures2\", labelCol='label')\n",
    "NaiveBayes_model = NaiveBayes.fit(train)\n",
    "pred_NB = NaiveBayes_model.transform(valid)\n",
    "print(evaluator.evaluate(pred_NB, {evaluator.metricName:\"f1\"}))\n",
    "print(pred_NB.filter(pred_NB.label == pred_NB.prediction).count()/ pred_NB.count())"
   ]
  },
  {
   "cell_type": "markdown",
   "metadata": {},
   "source": [
    "- F1 score for NaiveBayes is: 0.75\n",
    "- Accuracy for NaiveBayes is: 0.74"
   ]
  },
  {
   "cell_type": "markdown",
   "metadata": {},
   "source": [
    "As we can see the Logistic Regression F1 score higher than RandomForestClassifier and NaiveBayes, also Logistic Regression got highest accuracy.\n",
    "\n",
    "Since Logistic Regression model perform better, we will tune this model using ParamGridBuilder and CrossValidator.\n",
    "\n",
    "`ParamGridBuilder` used to build g grid of hyperparameters for model tuning. it helps in specifying different combinations of hyperparameters that will be used during the model training process.\n",
    "\n",
    "`CrossValidator` used for selection and hyperparameter tuning. It helps in automatically selecting the best model be performing an exhaustive search over a predefined set of hyperparameters."
   ]
  },
  {
   "cell_type": "code",
   "execution_count": 95,
   "metadata": {},
   "outputs": [
    {
     "name": "stdout",
     "output_type": "stream",
     "text": [
      "aggregationDepth: suggested depth for treeAggregate (>= 2). (default: 2)\n",
      "elasticNetParam: the ElasticNet mixing parameter, in range [0, 1]. For alpha = 0, the penalty is an L2 penalty. For alpha = 1, it is an L1 penalty. (default: 0.0)\n",
      "family: The name of family which is a description of the label distribution to be used in the model. Supported options: auto, binomial, multinomial (default: auto)\n",
      "featuresCol: features column name. (default: features, current: scalednumfeatures2)\n",
      "fitIntercept: whether to fit an intercept term. (default: True)\n",
      "labelCol: label column name. (default: label, current: label)\n",
      "lowerBoundsOnCoefficients: The lower bounds on coefficients if fitting under bound constrained optimization. The bound matrix must be compatible with the shape (1, number of features) for binomial regression, or (number of classes, number of features) for multinomial regression. (undefined)\n",
      "lowerBoundsOnIntercepts: The lower bounds on intercepts if fitting under bound constrained optimization. The bounds vector size must beequal with 1 for binomial regression, or the number oflasses for multinomial regression. (undefined)\n",
      "maxIter: max number of iterations (>= 0). (default: 100, current: 10)\n",
      "predictionCol: prediction column name. (default: prediction)\n",
      "probabilityCol: Column name for predicted class conditional probabilities. Note: Not all models output well-calibrated probability estimates! These probabilities should be treated as confidences, not precise probabilities. (default: probability)\n",
      "rawPredictionCol: raw prediction (a.k.a. confidence) column name. (default: rawPrediction)\n",
      "regParam: regularization parameter (>= 0). (default: 0.0)\n",
      "standardization: whether to standardize the training features before fitting the model. (default: True)\n",
      "threshold: Threshold in binary classification prediction, in range [0, 1]. If threshold and thresholds are both set, they must match.e.g. if threshold is p, then thresholds must be equal to [1-p, p]. (default: 0.5)\n",
      "thresholds: Thresholds in multi-class classification to adjust the probability of predicting each class. Array must have length equal to the number of classes, with values > 0, excepting that at most one value may be 0. The class with largest value p/t is predicted, where p is the original probability of that class and t is the class's threshold. (undefined)\n",
      "tol: the convergence tolerance for iterative algorithms (>= 0). (default: 1e-06)\n",
      "upperBoundsOnCoefficients: The upper bounds on coefficients if fitting under bound constrained optimization. The bound matrix must be compatible with the shape (1, number of features) for binomial regression, or (number of classes, number of features) for multinomial regression. (undefined)\n",
      "upperBoundsOnIntercepts: The upper bounds on intercepts if fitting under bound constrained optimization. The bound vector size must be equal with 1 for binomial regression, or the number of classes for multinomial regression. (undefined)\n",
      "weightCol: weight column name. If this is not set or empty, we treat all instance weights as 1.0. (undefined)\n"
     ]
    }
   ],
   "source": [
    "print(log_re.explainParams())"
   ]
  },
  {
   "cell_type": "markdown",
   "metadata": {},
   "source": [
    "### Tuning"
   ]
  },
  {
   "cell_type": "code",
   "execution_count": 147,
   "metadata": {},
   "outputs": [],
   "source": [
    "#The ParamGridBuilder class in Apache Spark is used to build a grid of hyperparameters for model tuning.\n",
    "#It helps in specifying different combinations of\n",
    "#hyperparameters that will be used during the model training process.\n",
    "paramgrid = ParamGridBuilder() \\\n",
    "            .addGrid(log_re.regParam, [0.01, 0.1, 1.0])\\\n",
    "            .addGrid(log_re.elasticNetParam, [0.0, 0.5, 1.0])\\\n",
    "            .addGrid(log_re.maxIter, [10, 50, 100])\\\n",
    "            .build()\n",
    "crossval = CrossValidator(estimator=log_re, estimatorParamMaps=paramgrid, \n",
    "                          evaluator=MulticlassClassificationEvaluator(metricName=\"f1\"),numFolds=3)  "
   ]
  },
  {
   "cell_type": "code",
   "execution_count": 92,
   "metadata": {},
   "outputs": [],
   "source": [
    "cvmodel = crossval.fit(train)"
   ]
  },
  {
   "cell_type": "code",
   "execution_count": 93,
   "metadata": {},
   "outputs": [
    {
     "data": {
      "text/plain": [
       "[0.7291662530879526,\n",
       " 0.7291662530879526,\n",
       " 0.7291662530879526,\n",
       " 0.7291662530879526,\n",
       " 0.7291662530879526,\n",
       " 0.7291662530879526,\n",
       " 0.7318678937206278,\n",
       " 0.7291662530879526,\n",
       " 0.7291662530879526,\n",
       " 0.734523743834105,\n",
       " 0.734523743834105,\n",
       " 0.734523743834105,\n",
       " 0.7371349578112213,\n",
       " 0.7371349578112213,\n",
       " 0.7371349578112213,\n",
       " 0.7371349578112213,\n",
       " 0.7371349578112213,\n",
       " 0.7371349578112213,\n",
       " 0.7371349578112213,\n",
       " 0.7371349578112213,\n",
       " 0.7371349578112213,\n",
       " 0.7371349578112213,\n",
       " 0.7371349578112213,\n",
       " 0.7371349578112213,\n",
       " 0.7371349578112213,\n",
       " 0.7371349578112213,\n",
       " 0.7371349578112213]"
      ]
     },
     "execution_count": 93,
     "metadata": {},
     "output_type": "execute_result"
    }
   ],
   "source": [
    "cvmodel.avgMetrics"
   ]
  },
  {
   "cell_type": "code",
   "execution_count": 94,
   "metadata": {},
   "outputs": [
    {
     "name": "stdout",
     "output_type": "stream",
     "text": [
      "The accuracy is:\n",
      "0.8857142857142857\n"
     ]
    }
   ],
   "source": [
    "pred2 = cvmodel.transform(valid)\n",
    "print(\"The accuracy is:\")\n",
    "print(pred2.filter(pred2.label == pred2.prediction).count()/ pred2.count())"
   ]
  },
  {
   "cell_type": "code",
   "execution_count": 100,
   "metadata": {},
   "outputs": [
    {
     "name": "stdout",
     "output_type": "stream",
     "text": [
      "Best Parammeter in (regParam):  0.1\n",
      "Best Parammeter in (elasticNetParam):  0.5\n",
      "Best Parammeter in(maxIter):  10\n"
     ]
    }
   ],
   "source": [
    "#let's find out the best hyperparameters\n",
    "print (\"Best Parammeter in (regParam): \", cvmodel.bestModel._java_obj.getRegParam())\n",
    "print (\"Best Parammeter in (elasticNetParam): \", cvmodel.bestModel._java_obj.getElasticNetParam())\n",
    "print (\"Best Parammeter in(maxIter): \", cvmodel.bestModel._java_obj.getMaxIter())"
   ]
  },
  {
   "cell_type": "code",
   "execution_count": 149,
   "metadata": {},
   "outputs": [
    {
     "name": "stdout",
     "output_type": "stream",
     "text": [
      "thumb_up: -1.0289678959826172\n",
      "thumb_down: 0.49042114059574676\n",
      "genders: -0.19081533917274504\n",
      "FL: 0.15448471241940068\n",
      "CA: 0.03358541711344091\n",
      "PA: 0.01555411073536935\n",
      "TX: -0.014237211715500147\n"
     ]
    }
   ],
   "source": [
    "# Get the coefficients\n",
    "coefficients = log_re_model.coefficients\n",
    "\n",
    "# Get the feature names\n",
    "feature_names = train.columns\n",
    "\n",
    "# Create a list of (feature, coefficient) pairs\n",
    "feature_importances = [(feature, coefficient) for feature, coefficient in zip(feature_names, coefficients)]\n",
    "\n",
    "# Sort the feature importances by coefficient magnitude\n",
    "feature_importances_sorted = sorted(feature_importances, key=lambda x: abs(x[1]), reverse=True)\n",
    "\n",
    "# Print the feature importances\n",
    "for feature, importance in feature_importances_sorted:\n",
    "    print(f\"{feature}: {importance}\")"
   ]
  },
  {
   "cell_type": "markdown",
   "metadata": {},
   "source": [
    "`the coefficients` represent the relationship between the independent variables (features) and the log-odds of the dependent variable (target). These coefficients indicate the direction and magnitude of the effect that each feature has on the probability of a certain outcome."
   ]
  },
  {
   "cell_type": "markdown",
   "metadata": {},
   "source": [
    "# Conclusion"
   ]
  },
  {
   "cell_type": "markdown",
   "metadata": {},
   "source": [
    "Let's mention what we have achieved from the beginning of the project, we load all the necessary libraries and craete spark session to read the data. Clean the dataset and use eploratory data analysis to get more informaions about the dataset, creat chunr to use it as label for the modeling. starting feature engineering to build out the features we find promising to train our model, then prepare dataset for modeling using classification algorithms.\n",
    "\n",
    "The best ML algorithm is Logistic Regression, we tune this model and we get F1 score 0.83 with accuracy 0.88. After we evaluate the coefficient, `thums_down` got more percentage than the others which mean these users more likely to cancel thier service. We can find out what type of song they most like than the other or provide fo them free access for a month to make them keep using our service while we improve our recommendation song and application experiens.\n",
    "\n",
    "We can improve our classification performance of a logistic regression model by:\n",
    "\n",
    "- Selecting relevant features can improve the model's performance by reducing noise and focusing on the most informative variables. \n",
    "-  Creating new features or transforming existing ones can provide additional information to the model.\n",
    "- Experimenting with different hyperparameter values can help find the optimal configuration for your logistic regression model.\n",
    "\n",
    "We can use different classification algorithms such as: \n",
    "\n",
    "- GBTClassifier\n",
    "- LinearSVC\n",
    "\n",
    "We use only 128mp from the original data, if we use the whole data all the training data will perform better and that will provide better prediction from our models. After doing all these we may got better model and better feature that can give us more solutions for our problem."
   ]
  },
  {
   "cell_type": "code",
   "execution_count": null,
   "metadata": {},
   "outputs": [],
   "source": []
  },
  {
   "cell_type": "markdown",
   "metadata": {},
   "source": [
    "# Final Steps\n",
    "Clean up your code, adding comments and renaming variables to make the code easier to read and maintain. Refer to the Spark Project Overview page and Data Scientist Capstone Project Rubric to make sure you are including all components of the capstone project and meet all expectations. Remember, this includes thorough documentation in a README file in a Github repository, as well as a web app or blog post."
   ]
  },
  {
   "cell_type": "code",
   "execution_count": null,
   "metadata": {},
   "outputs": [],
   "source": []
  }
 ],
 "metadata": {
  "kernelspec": {
   "display_name": "Python 3",
   "language": "python",
   "name": "python3"
  },
  "language_info": {
   "codemirror_mode": {
    "name": "ipython",
    "version": 3
   },
   "file_extension": ".py",
   "mimetype": "text/x-python",
   "name": "python",
   "nbconvert_exporter": "python",
   "pygments_lexer": "ipython3",
   "version": "3.6.3"
  }
 },
 "nbformat": 4,
 "nbformat_minor": 2
}
